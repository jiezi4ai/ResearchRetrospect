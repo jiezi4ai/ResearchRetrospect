{
 "cells": [
  {
   "cell_type": "markdown",
   "metadata": {},
   "source": [
    "# Twitter Test"
   ]
  },
  {
   "cell_type": "markdown",
   "metadata": {},
   "source": [
    "## Tweepy"
   ]
  },
  {
   "cell_type": "markdown",
   "metadata": {},
   "source": [
    "How to get up-to-date user tweets?"
   ]
  },
  {
   "cell_type": "code",
   "execution_count": 1,
   "metadata": {},
   "outputs": [],
   "source": [
    "# proxy\n",
    "from fp.fp import FreeProxy  # https://github.com/jundymek/free-proxy\n",
    "\n",
    "def gen_proxy_list(timeout=5, google_enable=False, anonym=False, filtered=False, https=False):\n",
    "    return FreeProxy(\n",
    "        timeout=timeout, \n",
    "        google=google_enable, \n",
    "        anonym=anonym,\n",
    "        elite=filtered,\n",
    "        https=https,\n",
    "        rand=True).get_proxy_list(repeat=True)\n",
    "\n",
    "http_proxies = gen_proxy_list(timeout=5)"
   ]
  },
  {
   "cell_type": "code",
   "execution_count": 2,
   "metadata": {},
   "outputs": [
    {
     "data": {
      "text/plain": [
       "['77.242.98.39:8080',\n",
       " '3.99.167.1:3128',\n",
       " '85.215.64.49:80',\n",
       " '34.81.72.31:80',\n",
       " '23.247.137.142:80',\n",
       " '103.152.112.120:80',\n",
       " '43.224.248.29:8085',\n",
       " '23.247.136.245:80',\n",
       " '23.247.136.254:80',\n",
       " '103.152.112.157:80',\n",
       " '103.152.112.159:80',\n",
       " '103.152.112.195:80',\n",
       " '103.152.112.186:80',\n",
       " '123.30.154.171:7777',\n",
       " '89.116.27.24:8888',\n",
       " '71.14.218.2:8080',\n",
       " '38.150.15.11:80',\n",
       " '47.88.59.79:82',\n",
       " '222.252.194.204:8080',\n",
       " '47.56.110.204:8989',\n",
       " '162.223.90.130:80',\n",
       " '133.18.234.13:80',\n",
       " '87.248.129.26:80',\n",
       " '66.29.154.103:3128',\n",
       " '190.103.177.131:80',\n",
       " '154.205.152.96:4145',\n",
       " '32.223.6.94:80',\n",
       " '13.38.153.36:80',\n",
       " '13.36.104.85:80',\n",
       " '13.36.87.105:3128',\n",
       " '13.37.73.214:80',\n",
       " '44.218.183.55:80',\n",
       " '44.195.247.145:80',\n",
       " '50.207.199.80:80',\n",
       " '50.207.199.83:80',\n",
       " '189.22.234.33:80',\n",
       " '50.207.199.82:80',\n",
       " '50.122.86.118:80',\n",
       " '189.22.234.40:80',\n",
       " '37.187.25.85:80',\n",
       " '54.67.125.45:3128',\n",
       " '184.169.154.119:80',\n",
       " '3.136.29.104:80',\n",
       " '13.208.56.180:80',\n",
       " '3.37.125.76:3128',\n",
       " '3.127.62.252:80',\n",
       " '18.228.149.161:80',\n",
       " '18.185.169.150:3128',\n",
       " '3.123.150.192:80',\n",
       " '3.139.242.184:80',\n",
       " '43.200.77.128:3128',\n",
       " '43.201.121.81:80',\n",
       " '54.233.119.172:3128',\n",
       " '18.228.198.164:80',\n",
       " '3.78.92.159:3128',\n",
       " '52.67.10.183:80',\n",
       " '204.236.176.61:3128',\n",
       " '3.129.184.210:80',\n",
       " '3.130.65.162:3128',\n",
       " '13.126.139.7:8888',\n",
       " '51.16.199.206:3128',\n",
       " '13.246.209.48:1080',\n",
       " '13.246.184.110:3128',\n",
       " '51.17.58.162:3128',\n",
       " '52.65.193.254:3128',\n",
       " '13.213.114.238:3128',\n",
       " '3.97.176.251:3128',\n",
       " '52.16.232.164:3128',\n",
       " '51.16.179.113:1080',\n",
       " '13.55.210.141:3128',\n",
       " '54.152.3.36:80',\n",
       " '3.141.217.225:80',\n",
       " '43.134.54.210:80',\n",
       " '3.90.100.12:80',\n",
       " '63.35.64.177:3128',\n",
       " '204.236.137.68:80',\n",
       " '23.88.116.40:80',\n",
       " '50.207.199.86:80',\n",
       " '97.74.87.226:80',\n",
       " '68.185.57.66:80',\n",
       " '50.231.104.58:80',\n",
       " '47.251.122.81:8888',\n",
       " '65.108.159.129:8080',\n",
       " '50.217.226.47:80',\n",
       " '3.212.148.199:3128',\n",
       " '50.169.222.241:80',\n",
       " '133.232.93.66:80',\n",
       " '125.99.106.250:3128',\n",
       " '45.70.85.33:58080',\n",
       " '103.165.155.254:2016',\n",
       " '88.222.85.14:8080',\n",
       " '103.9.188.73:8080',\n",
       " '197.255.61.74:8080',\n",
       " '41.74.91.244:80',\n",
       " '5.106.6.235:80',\n",
       " '181.41.194.186:80',\n",
       " '8.215.108.194:7777',\n",
       " '50.223.246.237:80',\n",
       " '50.174.7.159:80',\n",
       " '41.207.187.178:80',\n",
       " '82.119.96.254:80',\n",
       " '50.174.7.153:80',\n",
       " '50.202.75.26:80',\n",
       " '50.232.104.86:80',\n",
       " '50.239.72.18:80',\n",
       " '50.239.72.16:80',\n",
       " '50.239.72.19:80',\n",
       " '50.217.226.40:80',\n",
       " '50.221.74.130:80',\n",
       " '190.58.248.86:80',\n",
       " '189.22.234.34:80',\n",
       " '50.175.212.74:80',\n",
       " '50.174.7.152:80',\n",
       " '66.191.31.158:80',\n",
       " '13.56.192.187:80',\n",
       " '35.72.118.126:80',\n",
       " '43.202.154.212:80',\n",
       " '35.76.62.196:80',\n",
       " '35.79.120.242:3128',\n",
       " '52.196.1.182:80',\n",
       " '52.63.129.110:3128',\n",
       " '54.179.39.14:3128',\n",
       " '51.20.50.149:3128',\n",
       " '3.97.167.115:3128',\n",
       " '16.16.239.39:3128',\n",
       " '51.20.19.159:3128',\n",
       " '13.59.156.167:3128',\n",
       " '203.115.101.53:82',\n",
       " '51.68.175.56:1080',\n",
       " '54.248.238.110:80',\n",
       " '82.180.132.69:80',\n",
       " '143.42.66.91:80',\n",
       " '52.73.224.54:3128',\n",
       " '192.73.244.36:80',\n",
       " '198.49.68.80:80',\n",
       " '50.217.226.41:80',\n",
       " '0.0.0.0:80',\n",
       " '211.128.96.206:80',\n",
       " '50.174.7.156:80',\n",
       " '50.207.199.81:80',\n",
       " '127.0.0.7:80',\n",
       " '14.226.182.59:60606',\n",
       " '103.167.170.237:1111',\n",
       " '38.7.1.118:999',\n",
       " '102.209.78.7:8080',\n",
       " '117.54.114.99:80',\n",
       " '115.112.231.148:443',\n",
       " '175.103.57.198:57413',\n",
       " '103.232.21.139:3127',\n",
       " '103.173.138.177:8080',\n",
       " '165.232.169.60:3128',\n",
       " '219.65.73.81:80',\n",
       " '78.28.152.113:80',\n",
       " '13.38.176.104:3128',\n",
       " '15.236.106.236:3128',\n",
       " '50.169.37.50:80',\n",
       " '50.175.212.66:80',\n",
       " '3.71.239.218:3128',\n",
       " '3.124.133.93:3128',\n",
       " '46.51.249.135:3128',\n",
       " '46.47.197.210:3128',\n",
       " '13.48.109.48:3128',\n",
       " '54.179.44.51:3128',\n",
       " '54.228.164.102:3128',\n",
       " '50.169.222.243:80',\n",
       " '37.27.6.46:80',\n",
       " '49.156.44.130:55443',\n",
       " '103.177.235.132:83',\n",
       " '51.81.153.203:3128',\n",
       " '94.249.234.252:49200',\n",
       " '13.37.89.201:80',\n",
       " '200.60.145.167:8081',\n",
       " '3.126.147.182:80',\n",
       " '3.122.84.99:3128',\n",
       " '62.171.146.119:80',\n",
       " '18.223.25.15:80',\n",
       " '195.66.210.177:8080',\n",
       " '189.22.234.39:80',\n",
       " '189.22.234.43:80',\n",
       " '3.12.144.146:3128',\n",
       " '89.145.162.81:3128',\n",
       " '84.39.112.144:3128',\n",
       " '5.45.126.128:8080',\n",
       " '212.108.144.67:8080',\n",
       " '103.78.201.242:5001',\n",
       " '125.26.4.219:8080',\n",
       " '179.60.242.78:999',\n",
       " '38.230.165.25:9090',\n",
       " '109.95.220.45:8080',\n",
       " '103.220.23.111:8090',\n",
       " '103.85.183.30:4995',\n",
       " '185.244.173.33:8118',\n",
       " '45.89.65.240:3128',\n",
       " '206.189.140.195:3128',\n",
       " '47.251.43.115:33333',\n",
       " '188.166.197.129:3128',\n",
       " '165.232.129.150:80',\n",
       " '50.114.33.55:8080',\n",
       " '103.179.216.46:8080',\n",
       " '103.163.103.81:1212',\n",
       " '159.255.163.102:8080',\n",
       " '77.242.21.133:8080',\n",
       " '45.173.8.13:999',\n",
       " '50.207.199.87:80',\n",
       " '99.80.11.54:3128',\n",
       " '15.156.24.206:3128',\n",
       " '63.32.1.88:3128',\n",
       " '44.219.175.186:80',\n",
       " '190.52.100.195:999',\n",
       " '200.71.111.89:999',\n",
       " '103.189.197.162:8181',\n",
       " '59.98.3.132:8042',\n",
       " '188.125.169.235:8080',\n",
       " '14.179.163.159:8080',\n",
       " '81.169.213.169:8888',\n",
       " '43.156.59.228:80',\n",
       " '216.229.112.25:8080',\n",
       " '135.181.199.67:3129',\n",
       " '103.118.46.174:8080',\n",
       " '103.167.171.153:1111',\n",
       " '105.174.43.194:8080',\n",
       " '170.233.193.129:999',\n",
       " '181.188.215.60:999',\n",
       " '103.171.245.137:1080',\n",
       " '103.125.17.22:8080',\n",
       " '185.212.60.62:80',\n",
       " '113.160.133.32:8080',\n",
       " '103.186.193.153:3125',\n",
       " '181.129.252.123:999',\n",
       " '89.237.35.10:37647',\n",
       " '101.255.118.9:3127',\n",
       " '157.15.66.92:9290',\n",
       " '182.53.143.200:8180',\n",
       " '176.88.166.218:8080',\n",
       " '190.103.30.18:999',\n",
       " '189.22.234.37:80',\n",
       " '65.1.40.47:1080',\n",
       " '15.206.25.41:3128',\n",
       " '87.248.129.32:80',\n",
       " '152.166.69.34:8080',\n",
       " '131.100.48.253:999',\n",
       " '103.158.27.83:1212',\n",
       " '202.176.1.25:4343']"
      ]
     },
     "execution_count": 2,
     "metadata": {},
     "output_type": "execute_result"
    }
   ],
   "source": [
    "http_proxies"
   ]
  },
  {
   "cell_type": "code",
   "execution_count": 3,
   "metadata": {},
   "outputs": [
    {
     "name": "stderr",
     "output_type": "stream",
     "text": [
      "/home/jiezi/miniconda3/envs/ai4fun/lib/python3.10/site-packages/urllib3/connectionpool.py:1097: InsecureRequestWarning: Unverified HTTPS request is being made to host 'x.com'. Adding certificate verification is strongly advised. See: https://urllib3.readthedocs.io/en/latest/advanced-usage.html#tls-warnings\n",
      "  warnings.warn(\n",
      "/home/jiezi/miniconda3/envs/ai4fun/lib/python3.10/site-packages/urllib3/connectionpool.py:1097: InsecureRequestWarning: Unverified HTTPS request is being made to host 'twitter.com'. Adding certificate verification is strongly advised. See: https://urllib3.readthedocs.io/en/latest/advanced-usage.html#tls-warnings\n",
      "  warnings.warn(\n",
      "/home/jiezi/miniconda3/envs/ai4fun/lib/python3.10/site-packages/urllib3/connectionpool.py:1097: InsecureRequestWarning: Unverified HTTPS request is being made to host 'x.com'. Adding certificate verification is strongly advised. See: https://urllib3.readthedocs.io/en/latest/advanced-usage.html#tls-warnings\n",
      "  warnings.warn(\n",
      "/home/jiezi/miniconda3/envs/ai4fun/lib/python3.10/site-packages/urllib3/connectionpool.py:1097: InsecureRequestWarning: Unverified HTTPS request is being made to host 'x.com'. Adding certificate verification is strongly advised. See: https://urllib3.readthedocs.io/en/latest/advanced-usage.html#tls-warnings\n",
      "  warnings.warn(\n",
      "/home/jiezi/miniconda3/envs/ai4fun/lib/python3.10/site-packages/urllib3/connectionpool.py:1097: InsecureRequestWarning: Unverified HTTPS request is being made to host 'api.x.com'. Adding certificate verification is strongly advised. See: https://urllib3.readthedocs.io/en/latest/advanced-usage.html#tls-warnings\n",
      "  warnings.warn(\n"
     ]
    },
    {
     "name": "stdout",
     "output_type": "stream",
     "text": [
      "2025-02-21 17:51:08,383 [\u001b[0;33mWARNING\u001b[0m] :: Skipping API Updates. Couldn't get the latest API data.\n",
      "2025-02-21 17:51:08,385 [\u001b[0;32mINFO\u001b[0m] :: API Updated Successfully.\n"
     ]
    }
   ],
   "source": [
    "from tweeterpy import TweeterPy\n",
    "\n",
    "try:\n",
    "    twitter = TweeterPy(proxies = {'http': '77.242.98.39:8080'})\n",
    "except Exception as e:\n",
    "    if e == 'invalid response':\n",
    "        print(f\"Caught a generic exception: {e}\")"
   ]
  },
  {
   "cell_type": "code",
   "execution_count": 4,
   "metadata": {},
   "outputs": [
    {
     "name": "stderr",
     "output_type": "stream",
     "text": [
      "/home/jiezi/miniconda3/envs/ai4fun/lib/python3.10/site-packages/urllib3/connectionpool.py:1097: InsecureRequestWarning: Unverified HTTPS request is being made to host 'x.com'. Adding certificate verification is strongly advised. See: https://urllib3.readthedocs.io/en/latest/advanced-usage.html#tls-warnings\n",
      "  warnings.warn(\n"
     ]
    }
   ],
   "source": [
    "uid = twitter.get_user_id('omarsar0')"
   ]
  },
  {
   "cell_type": "code",
   "execution_count": 5,
   "metadata": {},
   "outputs": [
    {
     "data": {
      "text/plain": [
       "'3448284313'"
      ]
     },
     "execution_count": 5,
     "metadata": {},
     "output_type": "execute_result"
    }
   ],
   "source": [
    "uid"
   ]
  },
  {
   "cell_type": "code",
   "execution_count": 6,
   "metadata": {},
   "outputs": [
    {
     "name": "stderr",
     "output_type": "stream",
     "text": [
      "/home/jiezi/miniconda3/envs/ai4fun/lib/python3.10/site-packages/urllib3/connectionpool.py:1097: InsecureRequestWarning: Unverified HTTPS request is being made to host 'x.com'. Adding certificate verification is strongly advised. See: https://urllib3.readthedocs.io/en/latest/advanced-usage.html#tls-warnings\n",
      "  warnings.warn(\n"
     ]
    }
   ],
   "source": [
    "user_data = twitter.get_user_data('omarsar0')"
   ]
  },
  {
   "cell_type": "code",
   "execution_count": 13,
   "metadata": {},
   "outputs": [
    {
     "data": {
      "text/plain": [
       "{'created_at': 'Fri Sep 04 12:59:26 +0000 2015',\n",
       " 'default_profile': False,\n",
       " 'default_profile_image': False,\n",
       " 'description': 'Building with AI agents @dair_ai • Prev: Meta AI, Galactica LLM, Elastic, PaperswithCode, PhD • I also teach how to leverage and build with LLMs & AI Agents ⬇️',\n",
       " 'entities': {'description': {'urls': []},\n",
       "  'url': {'urls': [{'display_url': 'dair-ai.thinkific.com',\n",
       "     'expanded_url': 'https://dair-ai.thinkific.com/',\n",
       "     'url': 'https://t.co/JBU5beHQNs',\n",
       "     'indices': [0, 23]}]}},\n",
       " 'fast_followers_count': 0,\n",
       " 'favourites_count': 29023,\n",
       " 'followers_count': 230904,\n",
       " 'friends_count': 571,\n",
       " 'has_custom_timelines': True,\n",
       " 'is_translator': False,\n",
       " 'listed_count': 3886,\n",
       " 'location': '',\n",
       " 'media_count': 2948,\n",
       " 'name': 'elvis',\n",
       " 'normal_followers_count': 230904,\n",
       " 'pinned_tweet_ids_str': ['1892621241674301761'],\n",
       " 'possibly_sensitive': False,\n",
       " 'profile_banner_url': 'https://pbs.twimg.com/profile_banners/3448284313/1565974901',\n",
       " 'profile_image_url_https': 'https://pbs.twimg.com/profile_images/939313677647282181/vZjFWtAn_normal.jpg',\n",
       " 'profile_interstitial_type': '',\n",
       " 'screen_name': 'omarsar0',\n",
       " 'statuses_count': 13344,\n",
       " 'translator_type': 'regular',\n",
       " 'url': 'https://t.co/JBU5beHQNs',\n",
       " 'verified': False,\n",
       " 'withheld_in_countries': []}"
      ]
     },
     "execution_count": 13,
     "metadata": {},
     "output_type": "execute_result"
    }
   ],
   "source": [
    "user_data['legacy']"
   ]
  },
  {
   "cell_type": "code",
   "execution_count": 60,
   "metadata": {},
   "outputs": [
    {
     "data": {
      "text/plain": [
       "{'total_limit': 50,\n",
       " 'remaining_requests_count': 47,\n",
       " 'resets_after': '0 Hours, 14 Minutes, 33.63 Seconds',\n",
       " 'reset_after_datetime_object': datetime.timedelta(seconds=873, microseconds=633757),\n",
       " 'rate_limit_exhausted': False}"
      ]
     },
     "execution_count": 60,
     "metadata": {},
     "output_type": "execute_result"
    }
   ],
   "source": [
    "tweet.get('api_rate_limit')"
   ]
  },
  {
   "cell_type": "code",
   "execution_count": 59,
   "metadata": {},
   "outputs": [
    {
     "name": "stderr",
     "output_type": "stream",
     "text": [
      "/home/jiezi/miniconda3/envs/ai4fun/lib/python3.10/site-packages/urllib3/connectionpool.py:1097: InsecureRequestWarning: Unverified HTTPS request is being made to host 'x.com'. Adding certificate verification is strongly advised. See: https://urllib3.readthedocs.io/en/latest/advanced-usage.html#tls-warnings\n",
      "  warnings.warn(\n"
     ]
    }
   ],
   "source": [
    "tweet = twitter.get_tweet(tweet_id='1892223536493703501')"
   ]
  },
  {
   "cell_type": "code",
   "execution_count": 61,
   "metadata": {},
   "outputs": [
    {
     "name": "stderr",
     "output_type": "stream",
     "text": [
      "/home/jiezi/miniconda3/envs/ai4fun/lib/python3.10/site-packages/urllib3/connectionpool.py:1097: InsecureRequestWarning: Unverified HTTPS request is being made to host 'x.com'. Adding certificate verification is strongly advised. See: https://urllib3.readthedocs.io/en/latest/advanced-usage.html#tls-warnings\n",
      "  warnings.warn(\n",
      "/home/jiezi/miniconda3/envs/ai4fun/lib/python3.10/site-packages/urllib3/connectionpool.py:1097: InsecureRequestWarning: Unverified HTTPS request is being made to host 'twitter.com'. Adding certificate verification is strongly advised. See: https://urllib3.readthedocs.io/en/latest/advanced-usage.html#tls-warnings\n",
      "  warnings.warn(\n",
      "/home/jiezi/miniconda3/envs/ai4fun/lib/python3.10/site-packages/urllib3/connectionpool.py:1097: InsecureRequestWarning: Unverified HTTPS request is being made to host 'x.com'. Adding certificate verification is strongly advised. See: https://urllib3.readthedocs.io/en/latest/advanced-usage.html#tls-warnings\n",
      "  warnings.warn(\n",
      "/home/jiezi/miniconda3/envs/ai4fun/lib/python3.10/site-packages/urllib3/connectionpool.py:1097: InsecureRequestWarning: Unverified HTTPS request is being made to host 'x.com'. Adding certificate verification is strongly advised. See: https://urllib3.readthedocs.io/en/latest/advanced-usage.html#tls-warnings\n",
      "  warnings.warn(\n",
      "/home/jiezi/miniconda3/envs/ai4fun/lib/python3.10/site-packages/urllib3/connectionpool.py:1097: InsecureRequestWarning: Unverified HTTPS request is being made to host 'api.x.com'. Adding certificate verification is strongly advised. See: https://urllib3.readthedocs.io/en/latest/advanced-usage.html#tls-warnings\n",
      "  warnings.warn(\n"
     ]
    },
    {
     "name": "stdout",
     "output_type": "stream",
     "text": [
      "2025-02-21 18:37:50,507 [\u001b[0;33mWARNING\u001b[0m] :: Skipping API Updates. Couldn't get the latest API data.\n",
      "2025-02-21 18:37:50,511 [\u001b[0;32mINFO\u001b[0m] :: API Updated Successfully.\n"
     ]
    }
   ],
   "source": [
    "from tweeterpy import TweeterPy\n",
    "\n",
    "try:\n",
    "    twitter2 = TweeterPy(proxies = {'http': '85.215.64.49:80'})\n",
    "except Exception as e:\n",
    "    if e == 'invalid response':\n",
    "        print(f\"Caught a generic exception: {e}\")"
   ]
  },
  {
   "cell_type": "code",
   "execution_count": 62,
   "metadata": {},
   "outputs": [
    {
     "name": "stderr",
     "output_type": "stream",
     "text": [
      "/home/jiezi/miniconda3/envs/ai4fun/lib/python3.10/site-packages/urllib3/connectionpool.py:1097: InsecureRequestWarning: Unverified HTTPS request is being made to host 'x.com'. Adding certificate verification is strongly advised. See: https://urllib3.readthedocs.io/en/latest/advanced-usage.html#tls-warnings\n",
      "  warnings.warn(\n"
     ]
    }
   ],
   "source": [
    "tweet2 = twitter2.get_tweet(tweet_id='1892223536493703501')"
   ]
  },
  {
   "cell_type": "code",
   "execution_count": 63,
   "metadata": {},
   "outputs": [
    {
     "data": {
      "text/plain": [
       "{'total_limit': 50,\n",
       " 'remaining_requests_count': 49,\n",
       " 'resets_after': '0 Hours, 14 Minutes, 59.08 Seconds',\n",
       " 'reset_after_datetime_object': datetime.timedelta(seconds=899, microseconds=83628),\n",
       " 'rate_limit_exhausted': False}"
      ]
     },
     "execution_count": 63,
     "metadata": {},
     "output_type": "execute_result"
    }
   ],
   "source": [
    "tweet2.get('api_rate_limit')"
   ]
  },
  {
   "cell_type": "code",
   "execution_count": 51,
   "metadata": {},
   "outputs": [
    {
     "name": "stderr",
     "output_type": "stream",
     "text": [
      "/home/jiezi/miniconda3/envs/ai4fun/lib/python3.10/site-packages/urllib3/connectionpool.py:1097: InsecureRequestWarning: Unverified HTTPS request is being made to host 'x.com'. Adding certificate verification is strongly advised. See: https://urllib3.readthedocs.io/en/latest/advanced-usage.html#tls-warnings\n",
      "  warnings.warn(\n"
     ]
    }
   ],
   "source": [
    "y = twitter.get_user_data('elonmask')"
   ]
  },
  {
   "cell_type": "code",
   "execution_count": null,
   "metadata": {},
   "outputs": [],
   "source": [
    "future_datetime = datetime.datetime.fromtimestamp(current_time_unix_int) + dct_info['reset_after_datetime_object']\n",
    "\n",
    "# Convert the future datetime back to a Unix timestamp (integer).\n",
    "future_time_unix_int = int(future_datetime.timestamp())"
   ]
  },
  {
   "cell_type": "code",
   "execution_count": 64,
   "metadata": {},
   "outputs": [
    {
     "name": "stdout",
     "output_type": "stream",
     "text": [
      "1740135076 1740135076\n"
     ]
    }
   ],
   "source": [
    "import time\n",
    "import datetime\n",
    "print(int(time.time()), int(datetime.datetime.now().timestamp()))"
   ]
  },
  {
   "cell_type": "code",
   "execution_count": null,
   "metadata": {},
   "outputs": [],
   "source": []
  },
  {
   "cell_type": "code",
   "execution_count": null,
   "metadata": {},
   "outputs": [],
   "source": []
  },
  {
   "cell_type": "code",
   "execution_count": null,
   "metadata": {},
   "outputs": [],
   "source": [
    "print(twitter.get_user_id('elonmask'))"
   ]
  },
  {
   "cell_type": "code",
   "execution_count": null,
   "metadata": {},
   "outputs": [],
   "source": [
    "test_uid = twitter.get_user_id('elonmask')"
   ]
  },
  {
   "cell_type": "code",
   "execution_count": null,
   "metadata": {},
   "outputs": [],
   "source": [
    "test_uid"
   ]
  },
  {
   "cell_type": "code",
   "execution_count": null,
   "metadata": {},
   "outputs": [],
   "source": [
    "user_tweets = twitter.get_user_tweets(\"elonmusk\",total=50)"
   ]
  },
  {
   "cell_type": "code",
   "execution_count": null,
   "metadata": {},
   "outputs": [],
   "source": [
    "user_tweets.keys()"
   ]
  },
  {
   "cell_type": "code",
   "execution_count": null,
   "metadata": {},
   "outputs": [],
   "source": [
    "user_tweets['has_next_page']"
   ]
  },
  {
   "cell_type": "code",
   "execution_count": null,
   "metadata": {},
   "outputs": [],
   "source": [
    "len(user_tweets['data'])"
   ]
  },
  {
   "cell_type": "code",
   "execution_count": null,
   "metadata": {},
   "outputs": [],
   "source": [
    "\n",
    "user_id = '28553'\n",
    "query_endpoint = Path.USER_TWEETS_ENDPOINT\n",
    "variables = {\"userId\": user_id, \"count\": 100, \"includePromotedContent\": True,\n",
    "                \"withQuickPromoteEligibilityTweetFields\": True, \"withVoice\": True, \"withV2Timeline\": True}\n",
    "\n",
    "request_payload = self._generate_request_data(\n",
    "    query_endpoint, variables, additional_features=True)\n",
    "data_path = ('data', 'user', 'result', 'timeline_v2',\n",
    "                'timeline', 'instructions')\n",
    "results = self._handle_pagination(**request_payload, end_cursor=end_cursor, data_path=data_path, total=total, pagination=pagination)"
   ]
  },
  {
   "cell_type": "code",
   "execution_count": null,
   "metadata": {},
   "outputs": [],
   "source": [
    "import time, random\n",
    "from tweeterpy import TweeterPy\n",
    "from tweeterpy.util import RateLimitError\n",
    "\n",
    "twitter = TweeterPy()\n",
    "# login if required\n",
    "\n",
    "user_tweets = []\n",
    "has_more = True\n",
    "cursor = None\n",
    "while has_more:\n",
    "    try:\n",
    "        response = None\n",
    "        response = twitter.get_user_tweets('elonmusk', end_cursor=cursor, pagination=False)\n",
    "        user_tweets.extend(response['data'])\n",
    "        has_more = response.get('has_next_page')\n",
    "        api_rate_limits = response.get('api_rate_limit')\n",
    "        limit_exhausted = api_rate_limits.get('rate_limit_exhausted')\n",
    "        if has_more:\n",
    "            cursor = response.get('cursor_endpoint')\n",
    "        ## YOUR CUSTOM CODE HERE (DATA HANDLING, REQUEST DELAYS, SESSION SHUFFLING ETC.)\n",
    "        ## time.sleep(random.uniform(7,10))\n",
    "        if limit_exhausted:\n",
    "            raise RateLimitError\n",
    "    except Exception as error:\n",
    "        print(error)\n",
    "        break"
   ]
  },
  {
   "cell_type": "code",
   "execution_count": null,
   "metadata": {},
   "outputs": [],
   "source": [
    "    def _generate_request_data(self, endpoint, variables=None, **kwargs):\n",
    "        # fmt: off - Turns off formatting for this block of code. Just for the readability purpose.\n",
    "        url = util.generate_url(domain=Path.API_URL, url_path=endpoint)\n",
    "        query_params = {}\n",
    "        if variables:\n",
    "            query_params[\"variables\"] = json.dumps(variables)\n",
    "        if kwargs:\n",
    "            features = FeatureSwitch().get_query_features(endpoint) or util.generate_features(**kwargs)\n",
    "            query_params[\"features\"] = json.dumps(features)\n",
    "        # fmt: on   \n",
    "        request_payload = {\"url\": url, \"params\": query_params}\n",
    "        logger.debug(f\"Request Payload => {request_payload}\")\n",
    "        return request_payload\n",
    "        \n",
    "        \n",
    "\n",
    "    def get_user_tweets(self, user_id, with_replies=False, end_cursor=None, total=None, pagination=True):\n",
    "        \"\"\"Get Tweets from a user's profile.\n",
    "\n",
    "        Args:\n",
    "            user_id (int): User ID.\n",
    "            with_replies (bool, optional): Set to True if want to get the tweets user replied to, from user's profile page. Defaults to False.\n",
    "            end_cursor (str, optional): Last endcursor point. (To start from where you left off last time). Defaults to None.\n",
    "            total (int, optional): Total(Max) number of results you want to get. If None, extracts all results. Defaults to None.\n",
    "            pagination (bool, optional): Set to False if want to handle each page request manually. Use end_cursor from the previous page/request to navigate to the next page. Defaults to True.\n",
    "\n",
    "        Returns:\n",
    "            dict: Returns data, cursor_endpoint, has_next_page\n",
    "        \"\"\"\n",
    "        user_id = self.get_user_id(user_id)\n",
    "        query_endpoint = Path.USER_TWEETS_ENDPOINT\n",
    "        variables = {\"userId\": user_id, \"count\": 100, \"includePromotedContent\": True,\n",
    "                     \"withQuickPromoteEligibilityTweetFields\": True, \"withVoice\": True, \"withV2Timeline\": True}\n",
    "        if with_replies:\n",
    "            if not self.logged_in():\n",
    "                self.login()\n",
    "            variables[\"count\"] = 20\n",
    "            variables['withCommunity'] = True\n",
    "            query_endpoint = Path.USER_TWEETS_AND_REPLIES_ENDPOINT\n",
    "            del variables['withQuickPromoteEligibilityTweetFields']\n",
    "\n",
    "        request_payload = self._generate_request_data(\n",
    "            query_endpoint, variables, additional_features=True)\n",
    "        data_path = ('data', 'user', 'result', 'timeline_v2',\n",
    "                     'timeline', 'instructions')\n",
    "        return self._handle_pagination(**request_payload, end_cursor=end_cursor, data_path=data_path, total=total, pagination=pagination)\n"
   ]
  },
  {
   "cell_type": "markdown",
   "metadata": {},
   "source": []
  },
  {
   "cell_type": "code",
   "execution_count": null,
   "metadata": {},
   "outputs": [],
   "source": [
    "import nest_asyncio\n",
    "nest_asyncio.apply()"
   ]
  },
  {
   "cell_type": "code",
   "execution_count": null,
   "metadata": {},
   "outputs": [],
   "source": [
    "import asyncio\n",
    "from crawl4ai import *\n",
    "\n",
    "async def main():\n",
    "    async with AsyncWebCrawler() as crawler:\n",
    "        result = await crawler.arun(\n",
    "            url=\"https://xcancel.com/omarsar0\",\n",
    "        )\n",
    "        print(result.markdown)\n",
    "\n",
    "if __name__ == \"__main__\":\n",
    "    asyncio.run(main())"
   ]
  },
  {
   "cell_type": "code",
   "execution_count": null,
   "metadata": {},
   "outputs": [],
   "source": [
    "export X_USERNAME='ai4fun2004'\n",
    "export X_PASSWORD='ai4fun_test'\n",
    "export X_EMAIL='ai4fun2004@gmail.com'\n"
   ]
  },
  {
   "cell_type": "code",
   "execution_count": null,
   "metadata": {},
   "outputs": [],
   "source": [
    "import asyncio\n",
    "from twikit import Client\n",
    "\n",
    "USERNAME = 'ai4fun2004'\n",
    "EMAIL = 'ai4fun2004@gmail.com'\n",
    "PASSWORD = 'ai4fun_test'\n",
    "\n",
    "# Initialize client\n",
    "client = Client('en-US')\n",
    "\n",
    "async def main():\n",
    "    await client.login(\n",
    "        auth_info_1=USERNAME,\n",
    "        auth_info_2=EMAIL,\n",
    "        password=PASSWORD,\n",
    "        cookies_file='cookies.json'\n",
    "    )\n",
    "\n",
    "asyncio.run(main())"
   ]
  },
  {
   "cell_type": "code",
   "execution_count": null,
   "metadata": {},
   "outputs": [],
   "source": [
    "user = await client.get_user_by_screen_name('omarsar0')"
   ]
  },
  {
   "cell_type": "code",
   "execution_count": null,
   "metadata": {},
   "outputs": [],
   "source": [
    "user.id"
   ]
  },
  {
   "cell_type": "code",
   "execution_count": null,
   "metadata": {},
   "outputs": [],
   "source": [
    "tweets = await client.get_user_tweets(user.id, 'Tweets')\n",
    "\n",
    "tweets_info = []\n",
    "for tweet in tweets:\n",
    "    tweets_info.append(tweet)\n",
    "    print(tweet.text)"
   ]
  },
  {
   "cell_type": "code",
   "execution_count": null,
   "metadata": {},
   "outputs": [],
   "source": [
    "len(tweets_info)"
   ]
  },
  {
   "cell_type": "code",
   "execution_count": null,
   "metadata": {},
   "outputs": [],
   "source": [
    "tweets_info[0]"
   ]
  },
  {
   "cell_type": "code",
   "execution_count": null,
   "metadata": {},
   "outputs": [],
   "source": [
    "help(tweets_info[0])"
   ]
  },
  {
   "cell_type": "code",
   "execution_count": null,
   "metadata": {},
   "outputs": [],
   "source": []
  }
 ],
 "metadata": {
  "kernelspec": {
   "display_name": "ai4fun",
   "language": "python",
   "name": "python3"
  },
  "language_info": {
   "codemirror_mode": {
    "name": "ipython",
    "version": 3
   },
   "file_extension": ".py",
   "mimetype": "text/x-python",
   "name": "python",
   "nbconvert_exporter": "python",
   "pygments_lexer": "ipython3",
   "version": "3.10.16"
  }
 },
 "nbformat": 4,
 "nbformat_minor": 2
}
