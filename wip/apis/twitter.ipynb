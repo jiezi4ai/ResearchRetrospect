{
 "cells": [
  {
   "cell_type": "markdown",
   "metadata": {},
   "source": [
    "# Twitter Test"
   ]
  },
  {
   "cell_type": "markdown",
   "metadata": {},
   "source": [
    "## Tweepy"
   ]
  },
  {
   "cell_type": "markdown",
   "metadata": {},
   "source": [
    "How to get up-to-date user tweets?"
   ]
  },
  {
   "cell_type": "code",
   "execution_count": 6,
   "metadata": {},
   "outputs": [],
   "source": [
    "# proxy\n",
    "from fp.fp import FreeProxy  # https://github.com/jundymek/free-proxy\n",
    "\n",
    "def gen_proxy_list(timeout=5, google_enable=False, anonym=False, filtered=False, https=False):\n",
    "    return FreeProxy(\n",
    "        timeout=timeout, \n",
    "        google=google_enable, \n",
    "        anonym=anonym,\n",
    "        elite=filtered,\n",
    "        https=https,\n",
    "        rand=True).get_proxy_list(repeat=True)\n",
    "\n",
    "http_proxies = gen_proxy_list(timeout=5)"
   ]
  },
  {
   "cell_type": "code",
   "execution_count": 7,
   "metadata": {},
   "outputs": [
    {
     "data": {
      "text/plain": [
       "['5.78.124.240:40000',\n",
       " '150.136.247.129:1080',\n",
       " '13.38.176.104:3128',\n",
       " '180.210.89.215:3128',\n",
       " '44.218.183.55:80',\n",
       " '14.39.239.79:56270',\n",
       " '41.111.243.133:80',\n",
       " '45.87.68.6:15321',\n",
       " '3.127.121.101:80',\n",
       " '3.21.101.158:3128',\n",
       " '3.12.144.146:3128',\n",
       " '8.215.105.127:7777',\n",
       " '3.141.217.225:80',\n",
       " '3.90.100.12:80',\n",
       " '113.160.133.32:8080',\n",
       " '172.233.78.254:7890',\n",
       " '52.73.224.54:3128',\n",
       " '44.219.175.186:80',\n",
       " '158.160.52.208:8090',\n",
       " '85.215.64.49:80',\n",
       " '219.65.73.81:80',\n",
       " '18.223.25.15:80',\n",
       " '23.247.137.142:80',\n",
       " '67.43.236.19:30903',\n",
       " '50.232.104.86:80',\n",
       " '66.191.31.158:80',\n",
       " '37.187.25.85:80',\n",
       " '103.152.112.120:80',\n",
       " '188.40.59.208:3128',\n",
       " '23.247.136.245:80',\n",
       " '23.247.136.254:80',\n",
       " '103.152.112.157:80',\n",
       " '13.208.56.180:80',\n",
       " '35.72.118.126:80',\n",
       " '3.127.62.252:80',\n",
       " '43.201.121.81:80',\n",
       " '18.228.198.164:80',\n",
       " '52.67.10.183:80',\n",
       " '202.6.233.133:80',\n",
       " '43.154.134.238:50001',\n",
       " '3.129.184.210:80',\n",
       " '195.114.209.50:80',\n",
       " '51.16.199.206:3128',\n",
       " '13.48.109.48:3128',\n",
       " '51.17.58.162:3128',\n",
       " '3.97.176.251:3128',\n",
       " '51.16.179.113:1080',\n",
       " '54.179.44.51:3128',\n",
       " '16.16.239.39:3128',\n",
       " '123.30.154.171:7777',\n",
       " '13.59.156.167:3128',\n",
       " '158.255.77.169:80',\n",
       " '158.255.77.168:80',\n",
       " '54.248.238.110:80',\n",
       " '179.41.8.151:80',\n",
       " '198.74.51.79:8888',\n",
       " '23.88.116.40:80',\n",
       " '156.38.112.11:80',\n",
       " '154.90.48.76:80',\n",
       " '158.255.77.166:80',\n",
       " '194.182.163.117:3128',\n",
       " '47.90.205.231:33333',\n",
       " '87.248.129.26:80',\n",
       " '68.185.57.66:80',\n",
       " '39.109.113.97:4090',\n",
       " '50.223.246.237:80',\n",
       " '41.207.187.178:80',\n",
       " '32.223.6.94:80',\n",
       " '82.119.96.254:80',\n",
       " '13.37.89.201:80',\n",
       " '50.207.199.80:80',\n",
       " '50.174.7.153:80',\n",
       " '50.239.72.16:80',\n",
       " '50.239.72.19:80',\n",
       " '50.217.226.40:80',\n",
       " '50.175.212.74:80',\n",
       " '43.202.154.212:80',\n",
       " '52.196.1.182:80',\n",
       " '103.152.112.186:80',\n",
       " '52.63.129.110:3128',\n",
       " '99.80.11.54:3128',\n",
       " '13.246.184.110:3128',\n",
       " '63.32.1.88:3128',\n",
       " '13.55.210.141:3128',\n",
       " '54.228.164.102:3128',\n",
       " '38.150.15.11:80',\n",
       " '63.35.64.177:3128',\n",
       " '204.236.137.68:80',\n",
       " '50.217.226.41:80',\n",
       " '0.0.0.0:80',\n",
       " '50.174.7.156:80',\n",
       " '127.0.0.7:80',\n",
       " '113.11.179.139:8181',\n",
       " '38.183.146.170:8090',\n",
       " '103.168.254.162:8086',\n",
       " '181.209.77.165:999',\n",
       " '103.184.54.3:7777',\n",
       " '103.59.163.206:80',\n",
       " '107.174.224.179:3128',\n",
       " '180.191.20.208:8082',\n",
       " '119.2.42.201:8085',\n",
       " '103.141.247.6:8080',\n",
       " '47.251.122.81:8888',\n",
       " '203.74.125.18:8888',\n",
       " '13.38.153.36:80',\n",
       " '13.36.104.85:80',\n",
       " '13.36.87.105:3128',\n",
       " '50.207.199.83:80',\n",
       " '50.202.75.26:80',\n",
       " '50.169.37.50:80',\n",
       " '50.239.72.18:80',\n",
       " '50.175.212.66:80',\n",
       " '50.217.226.47:80',\n",
       " '190.58.248.86:80',\n",
       " '184.169.154.119:80',\n",
       " '43.163.87.93:8080',\n",
       " '47.243.113.74:5555',\n",
       " '58.187.230.151:12001',\n",
       " '43.224.248.29:8085',\n",
       " '41.74.91.244:80',\n",
       " '3.37.125.76:3128',\n",
       " '3.124.133.93:3128',\n",
       " '3.123.150.192:80',\n",
       " '43.200.77.128:3128',\n",
       " '54.233.119.172:3128',\n",
       " '89.23.112.143:80',\n",
       " '43.129.201.43:443',\n",
       " '103.152.112.159:80',\n",
       " '46.47.197.210:3128',\n",
       " '54.179.39.14:3128',\n",
       " '13.213.114.238:3128',\n",
       " '52.16.232.164:3128',\n",
       " '3.97.167.115:3128',\n",
       " '51.20.19.159:3128',\n",
       " '31.47.58.37:80',\n",
       " '3.212.148.199:3128',\n",
       " '54.152.3.36:80',\n",
       " '43.156.59.228:80',\n",
       " '50.169.222.243:80',\n",
       " '50.169.222.241:80',\n",
       " '159.65.245.255:80',\n",
       " '31.40.248.2:8080',\n",
       " '141.11.103.136:8080',\n",
       " '149.202.91.219:80',\n",
       " '216.229.112.25:8080',\n",
       " '87.248.129.32:80',\n",
       " '222.252.194.204:8080',\n",
       " '81.31.245.17:1080',\n",
       " '162.223.90.130:80',\n",
       " '133.18.234.13:80',\n",
       " '139.162.78.109:8080',\n",
       " '97.74.87.226:80',\n",
       " '201.251.61.143:8080',\n",
       " '185.212.60.62:80',\n",
       " '103.152.112.195:80',\n",
       " '5.106.6.235:80',\n",
       " '47.88.59.79:82',\n",
       " '188.125.167.11:8080',\n",
       " '135.181.193.128:3128',\n",
       " '103.165.245.149:8082',\n",
       " '154.126.209.146:8080',\n",
       " '119.95.189.247:8080',\n",
       " '178.115.253.35:8080',\n",
       " '103.153.247.220:8080',\n",
       " '191.102.250.2:8085',\n",
       " '103.227.187.9:6080',\n",
       " '143.255.147.131:8080',\n",
       " '124.106.66.194:8080',\n",
       " '201.163.219.195:8080',\n",
       " '91.108.130.18:3128',\n",
       " '189.240.60.169:9090',\n",
       " '13.37.59.99:3128',\n",
       " '13.36.113.81:3128',\n",
       " '13.37.73.214:80',\n",
       " '44.195.247.145:80',\n",
       " '45.92.38.214:8000',\n",
       " '3.122.84.99:3128',\n",
       " '35.79.120.242:3128',\n",
       " '3.78.92.159:3128',\n",
       " '116.125.141.115:80',\n",
       " '158.101.93.164:8080',\n",
       " '45.144.64.153:8080',\n",
       " '13.246.209.48:1080',\n",
       " '15.156.24.206:3128',\n",
       " '52.65.193.254:3128',\n",
       " '51.254.78.223:80',\n",
       " '142.44.210.174:80',\n",
       " '5.45.126.128:8080',\n",
       " '47.56.110.204:8989',\n",
       " '66.29.154.103:3128',\n",
       " '103.127.106.209:2024',\n",
       " '47.247.141.78:8080',\n",
       " '222.127.77.167:8082',\n",
       " '106.105.118.250:80',\n",
       " '103.166.159.163:8080',\n",
       " '103.155.116.239:8085',\n",
       " '177.93.49.202:999',\n",
       " '117.207.147.21:3127',\n",
       " '138.118.106.121:999',\n",
       " '31.173.247.205:8081',\n",
       " '47.252.50.153:3128',\n",
       " '72.10.160.170:5475',\n",
       " '128.140.113.110:1080',\n",
       " '20.187.167.218:80',\n",
       " '54.67.125.45:3128',\n",
       " '204.236.176.61:3128',\n",
       " '51.68.175.56:1080',\n",
       " '84.39.112.144:3128',\n",
       " '66.29.154.105:3128',\n",
       " '190.103.177.131:80',\n",
       " '159.203.61.169:3128',\n",
       " '34.81.160.132:80',\n",
       " '50.174.7.159:80',\n",
       " '46.51.249.135:3128',\n",
       " '51.20.50.149:3128',\n",
       " '124.121.2.131:8080',\n",
       " '45.91.201.100:8081',\n",
       " '200.125.171.77:9991',\n",
       " '186.215.43.128:3128',\n",
       " '120.28.194.248:8282',\n",
       " '150.136.153.231:80',\n",
       " '200.119.218.94:999',\n",
       " '38.51.207.184:999',\n",
       " '38.225.86.129:999',\n",
       " '102.0.14.156:8080',\n",
       " '67.43.227.226:11305',\n",
       " '45.87.68.8:15321',\n",
       " '50.221.74.130:80',\n",
       " '50.207.199.82:80',\n",
       " '50.122.86.118:80',\n",
       " '5.161.103.41:88',\n",
       " '200.174.198.86:8888',\n",
       " '3.71.239.218:3128',\n",
       " '18.228.149.161:80',\n",
       " '3.139.242.184:80',\n",
       " '219.93.101.60:80',\n",
       " '4.175.200.138:8080',\n",
       " '211.128.96.206:80',\n",
       " '50.231.104.58:80',\n",
       " '52.35.240.119:1080',\n",
       " '36.50.56.71:8080',\n",
       " '8.217.59.198:3699',\n",
       " '51.79.207.21:8080',\n",
       " '175.213.76.24:80',\n",
       " '131.100.48.253:999',\n",
       " '77.243.15.85:3246',\n",
       " '103.162.62.250:8181',\n",
       " '103.131.19.134:8082',\n",
       " '38.51.48.234:999',\n",
       " '80.191.105.13:8080']"
      ]
     },
     "execution_count": 7,
     "metadata": {},
     "output_type": "execute_result"
    }
   ],
   "source": [
    "http_proxies"
   ]
  },
  {
   "cell_type": "code",
   "execution_count": null,
   "metadata": {},
   "outputs": [],
   "source": [
    "from tweeterpy import TweeterPy\n",
    "\n",
    "try:\n",
    "    twitter = TweeterPy(proxies = {'http': '222.252.194.204:8080'})\n",
    "except Exception as e:\n",
    "    if e == 'invalid response':\n",
    "        print(f\"Caught a generic exception: {e}\")"
   ]
  },
  {
   "cell_type": "code",
   "execution_count": null,
   "metadata": {},
   "outputs": [],
   "source": [
    "uid = twitter.get_user_id('omarsar0')"
   ]
  },
  {
   "cell_type": "code",
   "execution_count": null,
   "metadata": {},
   "outputs": [],
   "source": [
    "uid"
   ]
  },
  {
   "cell_type": "code",
   "execution_count": null,
   "metadata": {},
   "outputs": [],
   "source": [
    "user_data = twitter.get_user_data('omarsar0')"
   ]
  },
  {
   "cell_type": "code",
   "execution_count": null,
   "metadata": {},
   "outputs": [],
   "source": [
    "user_data.keys()"
   ]
  },
  {
   "cell_type": "code",
   "execution_count": null,
   "metadata": {},
   "outputs": [],
   "source": [
    "user_data.get('id')"
   ]
  },
  {
   "cell_type": "code",
   "execution_count": null,
   "metadata": {},
   "outputs": [],
   "source": [
    "user_data.get('legacy_extended_profile')"
   ]
  },
  {
   "cell_type": "code",
   "execution_count": null,
   "metadata": {},
   "outputs": [],
   "source": [
    "user_data"
   ]
  },
  {
   "cell_type": "code",
   "execution_count": null,
   "metadata": {},
   "outputs": [],
   "source": [
    "user_data.get('legacy')"
   ]
  },
  {
   "cell_type": "code",
   "execution_count": null,
   "metadata": {},
   "outputs": [],
   "source": [
    "from tweeterpy.util import User, Tweet"
   ]
  },
  {
   "cell_type": "code",
   "execution_count": null,
   "metadata": {},
   "outputs": [],
   "source": [
    "user_info = User(user_data)"
   ]
  },
  {
   "cell_type": "code",
   "execution_count": null,
   "metadata": {},
   "outputs": [],
   "source": [
    "tweet = twitter.get_tweet(tweet_id='1892223536493703501')"
   ]
  },
  {
   "cell_type": "code",
   "execution_count": null,
   "metadata": {},
   "outputs": [],
   "source": [
    "tweet.get('data')['tweetResult']['result'].keys()"
   ]
  },
  {
   "cell_type": "code",
   "execution_count": null,
   "metadata": {},
   "outputs": [],
   "source": [
    "tweet.get('data')['tweetResult']['result']['core']"
   ]
  },
  {
   "cell_type": "code",
   "execution_count": null,
   "metadata": {},
   "outputs": [],
   "source": [
    "from tweeterpy import TweeterPy\n",
    "\n",
    "try:\n",
    "    twitter2 = TweeterPy(proxies = {'http': '85.215.64.49:80'})\n",
    "except Exception as e:\n",
    "    if e == 'invalid response':\n",
    "        print(f\"Caught a generic exception: {e}\")"
   ]
  },
  {
   "cell_type": "code",
   "execution_count": null,
   "metadata": {},
   "outputs": [],
   "source": [
    "tweet2 = twitter2.get_tweet(tweet_id='1892223536493703501')"
   ]
  },
  {
   "cell_type": "code",
   "execution_count": null,
   "metadata": {},
   "outputs": [],
   "source": [
    "tweet2.get('api_rate_limit')"
   ]
  },
  {
   "cell_type": "code",
   "execution_count": null,
   "metadata": {},
   "outputs": [],
   "source": [
    "y = twitter.get_user_data('elonmask')"
   ]
  },
  {
   "cell_type": "code",
   "execution_count": 8,
   "metadata": {},
   "outputs": [],
   "source": [
    "import time\n",
    "import datetime\n",
    "from typing import Dict, List, Optional, Set\n",
    "\n",
    "from tweeterpy import TweeterPy\n",
    "\n",
    "import logging\n",
    "logging.basicConfig(level=logging.INFO, format='%(asctime)s - %(levelname)s - %(message)s')\n",
    "\n",
    "MAX_RETRIES = 3\n",
    "BACKOFF_FACTOR = 0.5\n",
    "X_ALTER_URL = \"https://xapi.betaco.tech/x-thread-api?url=\"\n",
    "\n",
    "class TwitterKit:\n",
    "    def __init__(\n",
    "            self, \n",
    "            proxy_list, \n",
    "            x_login_name: Optional[str]=None,\n",
    "            x_password: Optional[str]=None,\n",
    "            x_login_email: Optional[str]=None,\n",
    "            max_retires: Optional[int] = MAX_RETRIES\n",
    "        ):\n",
    "        \"\"\"initiate twitter tools and set up parameters\n",
    "        Args:\n",
    "            proxy_lst: list of proxies in format like 'ip_addr:port'. support http proxies for now.\n",
    "            x_login_name, x_password, x_login_email: X related login information. \n",
    "        Note:\n",
    "            1. tweeterpy_client (based on tweeterpy package) is set up to get user id, user data and tweet given specific id.\n",
    "            2. twikit_client (based on twikit package) is set up to get latest tweets from twitt account, retrieve tweets with replies.\n",
    "            3. tweeterpy_client does not require login credentials, while twikit_client requires X related login information.\n",
    "            4. tweeterpy_client is bound to rate limits constraint. It may resort to proxy to get over it.\n",
    "            5. twikit_client use no proxy, since Twitter detects user's IP and may ban accounts with suspicious IP shifts.\n",
    "            6. tweeterpy_clients_usage records client / proxy usage information for tweeterpy_client. It includes:\n",
    "                - proxy: proxy used\n",
    "                - initiate_tm: client first initiated\n",
    "                - last_call_tm: client last called with API usage\n",
    "                - remaining_requests: remaining usage cnt\n",
    "                - next_reset_tm: rate limit next reset time\n",
    "        \"\"\"\n",
    "        self.x_login_name = x_login_name\n",
    "        self.x_password = x_password\n",
    "        self.x_login_email = x_login_email\n",
    "        self.max_retires = max_retires\n",
    "\n",
    "        self.tweeterpy_clients_usage = [{'proxy': proxy} for proxy in proxy_list]  # save client / proxy usage information\n",
    "        self.bad_proxies = set()  # store unusable proxies\n",
    "        self.current_proxy = None\n",
    "\n",
    "    def _load_tweeterpy_client(self, excluded_proxies: Optional[Set]=set()):\n",
    "        \"\"\"\"load tweeterpy client\n",
    "        Args:\n",
    "            excluded_proxies: a set object with excluded proxies. (proxies connetable but may not work for specific function)\n",
    "        \"\"\"\n",
    "        flag = 0\n",
    "\n",
    "        # iterate all clients for usable one (both with connectable proxy and usage within rate limits)\n",
    "        for idx, client_uage in enumerate(self.tweeterpy_clients_usage):\n",
    "            if (client_uage.get('proxy') in excluded_proxies\n",
    "                or client_uage.get('is_bad_proxy', False) == True   # client with bad proxy\n",
    "                or (client_uage.get('remaining_requests', 20) <= 0 and client_uage.get('next_reset_tm') > int(time.time()))  # client restricted by rate limit\n",
    "                ):\n",
    "                continue\n",
    "            else:\n",
    "                try:\n",
    "                    self.tweeterpy_client= TweeterPy(\n",
    "                        proxies={'http': client_uage.get('proxy')}, \n",
    "                        log_level=\"INFO\"\n",
    "                    )\n",
    "                    test_uid = self.tweeterpy_client.get_user_id('elonmask')  # test if client works\n",
    "                    client_uage['initiate_tm'] = int(time.time())\n",
    "                    self.current_proxy = client_uage['proxy']\n",
    "                    flag = 1\n",
    "                    break\n",
    "                except Exception as e:\n",
    "                    logging.warning(f\"Failed to create TweeterPy client with proxy {client_uage['proxy']}: {e}\")\n",
    "                    client_uage['is_bad_proxy'] = True\n",
    "\n",
    "        # no usable client\n",
    "        if flag == 0:  \n",
    "            logging.error(f\"Exhausted all proxies and still could not establish TweeterPy client.\")\n",
    "            self.tweeterpy_client = None\n",
    "            self.current_proxy = None\n",
    "\n",
    "\n",
    "    def get_userid(self, username) -> str:\n",
    "        \"\"\"Get user ID based on user name (screen name like 'elonmusk').\"\"\"\n",
    "        attempt = 0\n",
    "        excluded_proxies = set()\n",
    "        while attempt < self.max_retires:\n",
    "            try:\n",
    "                uid = self.tweeterpy_client.get_user_id(username)\n",
    "                return uid\n",
    "            except Exception as e:\n",
    "                excluded_proxies.add(self.current_proxy)\n",
    "                self._load_tweeterpy_client(excluded_proxies)\n",
    "                attempt += 1\n",
    "        return None\n",
    "\n",
    "\n",
    "    def get_userdata(self, username):\n",
    "        \"\"\"get user profile based on user name (screen name like 'elonmusk')\n",
    "        Args:\n",
    "            username (str): user name (screen name like 'elonmusk')\n",
    "        Usage:\n",
    "            uid = user_data.get('rest_id')\n",
    "            tweet_acct_info = user_data.get('legacy')\n",
    "        \"\"\"\n",
    "        attempt = 0\n",
    "        excluded_proxies = set()\n",
    "        while attempt < self.max_retires:\n",
    "            try:\n",
    "                user_data = self.tweeterpy_client.get_user_data(username)\n",
    "                return user_data\n",
    "            except Exception as e:\n",
    "                excluded_proxies.add(self.current_proxy)\n",
    "                self._load_tweeterpy_client(excluded_proxies)\n",
    "                attempt += 1\n",
    "        return None\n",
    "\n",
    "\n",
    "    def get_tweet_by_id(self, tweet_id):\n",
    "        \"\"\"Retrieves a tweet given specific tweet id.\n",
    "        Args:\n",
    "            username (str): user name (screen name like 'elonmusk')\n",
    "            tweet_id (str): status id of tweet url\n",
    "        Returns:\n",
    "            tweet_dct (dict): information including tweet, user, and api usage\n",
    "        Usage:\n",
    "            tweet_id = tweet_dct.get('rest_id')  # tweet_id\n",
    "            usage_data = tweet_dct.get('api_rate_limit')  # for api rate limit information\n",
    "            tweet_info= tweet_dct.get('data', {}).get('tweetResult', {}).get('result', {})\n",
    "            tweet_user_data = tweet_info.get('core', {}).get('user_results', {}).get('result', {})  # for user info\n",
    "            tweet_data = tweet_info.get('legacy')  # for tweet info\n",
    "        \"\"\"\n",
    "        attempt = 0\n",
    "        excluded_proxies = set()\n",
    "        while attempt < self.max_retires:\n",
    "            try:\n",
    "                tweet = self.tweeterpy_client.get_tweet(tweet_id)\n",
    "                api_limit = tweet.get('api_rate_limit', {})\n",
    "                # update client usage info\n",
    "                idx = [x['proxy'] for x in self.tweeterpy_clients_usage].index(self.current_proxy)\n",
    "                self.tweeterpy_clients_usage[idx]['last_call_tm'] = int(time.time())\n",
    "                self.tweeterpy_clients_usage[idx]['remaining_requests'] = api_limit.get('remaining_requests_count')\n",
    "                self.tweeterpy_clients_usage[idx]['next_reset_tm'] = int((datetime.datetime.now() + api_limit.get('reset_after_datetime_object')).timestamp())\n",
    "                return tweet\n",
    "            \n",
    "            except Exception as e:\n",
    "                excluded_proxies.add(self.current_proxy)\n",
    "                self._load_tweeterpy_client(excluded_proxies)\n",
    "                attempt += 1\n",
    "        return None\n",
    "\n",
    "\n",
    "    def get_tweets_by_user(self, username, total=20):\n",
    "        \"\"\"get user tweets based on user name (screen name like 'elonmusk').\n",
    "           Not recommended since the tweets retrived are not arranged in time sequence.\n",
    "        Args:\n",
    "            username (str): user name (screen name like 'elonmusk')\n",
    "        \"\"\"\n",
    "        attempt = 0\n",
    "        excluded_proxies = set()\n",
    "        while attempt < self.max_retires:\n",
    "            try:\n",
    "                user_tweets = self.tweeterpy_client.get_user_tweets(username, total=total)\n",
    "                api_limit = user_tweets.get('api_rate_limit', {})\n",
    "                # update client usage info\n",
    "                idx = [x['proxy'] for x in self.tweeterpy_clients_usage].index(self.current_proxy)\n",
    "                self.tweeterpy_clients_usage[idx]['last_call_tm'] = int(time.time())\n",
    "                self.tweeterpy_clients_usage[idx]['remaining_requests'] = api_limit.get('remaining_requests_count')\n",
    "                self.tweeterpy_clients_usage[idx]['next_reset_tm'] = int((datetime.datetime.now() + api_limit.get('reset_after_datetime_object')).timestamp())\n",
    "                return user_tweets\n",
    "            \n",
    "            except Exception as e:\n",
    "                excluded_proxies.add(self.current_proxy)\n",
    "                self._load_tweeterpy_client()\n",
    "                attempt += 1\n",
    "        return None\n"
   ]
  },
  {
   "cell_type": "code",
   "execution_count": 9,
   "metadata": {},
   "outputs": [
    {
     "name": "stderr",
     "output_type": "stream",
     "text": [
      "/home/jiezi/miniconda3/envs/ai4fun/lib/python3.10/site-packages/urllib3/connectionpool.py:1097: InsecureRequestWarning: Unverified HTTPS request is being made to host 'x.com'. Adding certificate verification is strongly advised. See: https://urllib3.readthedocs.io/en/latest/advanced-usage.html#tls-warnings\n",
      "  warnings.warn(\n",
      "/home/jiezi/miniconda3/envs/ai4fun/lib/python3.10/site-packages/urllib3/connectionpool.py:1097: InsecureRequestWarning: Unverified HTTPS request is being made to host 'twitter.com'. Adding certificate verification is strongly advised. See: https://urllib3.readthedocs.io/en/latest/advanced-usage.html#tls-warnings\n",
      "  warnings.warn(\n",
      "/home/jiezi/miniconda3/envs/ai4fun/lib/python3.10/site-packages/urllib3/connectionpool.py:1097: InsecureRequestWarning: Unverified HTTPS request is being made to host 'x.com'. Adding certificate verification is strongly advised. See: https://urllib3.readthedocs.io/en/latest/advanced-usage.html#tls-warnings\n",
      "  warnings.warn(\n",
      "/home/jiezi/miniconda3/envs/ai4fun/lib/python3.10/site-packages/urllib3/connectionpool.py:1097: InsecureRequestWarning: Unverified HTTPS request is being made to host 'x.com'. Adding certificate verification is strongly advised. See: https://urllib3.readthedocs.io/en/latest/advanced-usage.html#tls-warnings\n",
      "  warnings.warn(\n",
      "/home/jiezi/miniconda3/envs/ai4fun/lib/python3.10/site-packages/urllib3/connectionpool.py:1097: InsecureRequestWarning: Unverified HTTPS request is being made to host 'api.x.com'. Adding certificate verification is strongly advised. See: https://urllib3.readthedocs.io/en/latest/advanced-usage.html#tls-warnings\n",
      "  warnings.warn(\n"
     ]
    },
    {
     "name": "stdout",
     "output_type": "stream",
     "text": [
      "2025-02-24 16:01:25,419 [\u001b[0;33mWARNING\u001b[0m] :: Skipping API Updates. Couldn't get the latest API data.\n",
      "2025-02-24 16:01:25,421 [\u001b[0;32mINFO\u001b[0m] :: API Updated Successfully.\n"
     ]
    },
    {
     "name": "stderr",
     "output_type": "stream",
     "text": [
      "/home/jiezi/miniconda3/envs/ai4fun/lib/python3.10/site-packages/urllib3/connectionpool.py:1097: InsecureRequestWarning: Unverified HTTPS request is being made to host 'x.com'. Adding certificate verification is strongly advised. See: https://urllib3.readthedocs.io/en/latest/advanced-usage.html#tls-warnings\n",
      "  warnings.warn(\n"
     ]
    },
    {
     "name": "stdout",
     "output_type": "stream",
     "text": [
      "INITIATE\n",
      "current proxy: 5.78.124.240:40000\n",
      "all client info: [{'proxy': '5.78.124.240:40000', 'initiate_tm': 1740384085}, {'proxy': '150.136.247.129:1080'}, {'proxy': '13.38.176.104:3128'}, {'proxy': '180.210.89.215:3128'}, {'proxy': '44.218.183.55:80'}, {'proxy': '14.39.239.79:56270'}, {'proxy': '41.111.243.133:80'}, {'proxy': '45.87.68.6:15321'}, {'proxy': '3.127.121.101:80'}, {'proxy': '3.21.101.158:3128'}, {'proxy': '3.12.144.146:3128'}, {'proxy': '8.215.105.127:7777'}, {'proxy': '3.141.217.225:80'}, {'proxy': '3.90.100.12:80'}, {'proxy': '113.160.133.32:8080'}, {'proxy': '172.233.78.254:7890'}, {'proxy': '52.73.224.54:3128'}, {'proxy': '44.219.175.186:80'}, {'proxy': '158.160.52.208:8090'}, {'proxy': '85.215.64.49:80'}, {'proxy': '219.65.73.81:80'}, {'proxy': '18.223.25.15:80'}, {'proxy': '23.247.137.142:80'}, {'proxy': '67.43.236.19:30903'}, {'proxy': '50.232.104.86:80'}, {'proxy': '66.191.31.158:80'}, {'proxy': '37.187.25.85:80'}, {'proxy': '103.152.112.120:80'}, {'proxy': '188.40.59.208:3128'}, {'proxy': '23.247.136.245:80'}, {'proxy': '23.247.136.254:80'}, {'proxy': '103.152.112.157:80'}, {'proxy': '13.208.56.180:80'}, {'proxy': '35.72.118.126:80'}, {'proxy': '3.127.62.252:80'}, {'proxy': '43.201.121.81:80'}, {'proxy': '18.228.198.164:80'}, {'proxy': '52.67.10.183:80'}, {'proxy': '202.6.233.133:80'}, {'proxy': '43.154.134.238:50001'}, {'proxy': '3.129.184.210:80'}, {'proxy': '195.114.209.50:80'}, {'proxy': '51.16.199.206:3128'}, {'proxy': '13.48.109.48:3128'}, {'proxy': '51.17.58.162:3128'}, {'proxy': '3.97.176.251:3128'}, {'proxy': '51.16.179.113:1080'}, {'proxy': '54.179.44.51:3128'}, {'proxy': '16.16.239.39:3128'}, {'proxy': '123.30.154.171:7777'}, {'proxy': '13.59.156.167:3128'}, {'proxy': '158.255.77.169:80'}, {'proxy': '158.255.77.168:80'}, {'proxy': '54.248.238.110:80'}, {'proxy': '179.41.8.151:80'}, {'proxy': '198.74.51.79:8888'}, {'proxy': '23.88.116.40:80'}, {'proxy': '156.38.112.11:80'}, {'proxy': '154.90.48.76:80'}, {'proxy': '158.255.77.166:80'}, {'proxy': '194.182.163.117:3128'}, {'proxy': '47.90.205.231:33333'}, {'proxy': '87.248.129.26:80'}, {'proxy': '68.185.57.66:80'}, {'proxy': '39.109.113.97:4090'}, {'proxy': '50.223.246.237:80'}, {'proxy': '41.207.187.178:80'}, {'proxy': '32.223.6.94:80'}, {'proxy': '82.119.96.254:80'}, {'proxy': '13.37.89.201:80'}, {'proxy': '50.207.199.80:80'}, {'proxy': '50.174.7.153:80'}, {'proxy': '50.239.72.16:80'}, {'proxy': '50.239.72.19:80'}, {'proxy': '50.217.226.40:80'}, {'proxy': '50.175.212.74:80'}, {'proxy': '43.202.154.212:80'}, {'proxy': '52.196.1.182:80'}, {'proxy': '103.152.112.186:80'}, {'proxy': '52.63.129.110:3128'}, {'proxy': '99.80.11.54:3128'}, {'proxy': '13.246.184.110:3128'}, {'proxy': '63.32.1.88:3128'}, {'proxy': '13.55.210.141:3128'}, {'proxy': '54.228.164.102:3128'}, {'proxy': '38.150.15.11:80'}, {'proxy': '63.35.64.177:3128'}, {'proxy': '204.236.137.68:80'}, {'proxy': '50.217.226.41:80'}, {'proxy': '0.0.0.0:80'}, {'proxy': '50.174.7.156:80'}, {'proxy': '127.0.0.7:80'}, {'proxy': '113.11.179.139:8181'}, {'proxy': '38.183.146.170:8090'}, {'proxy': '103.168.254.162:8086'}, {'proxy': '181.209.77.165:999'}, {'proxy': '103.184.54.3:7777'}, {'proxy': '103.59.163.206:80'}, {'proxy': '107.174.224.179:3128'}, {'proxy': '180.191.20.208:8082'}, {'proxy': '119.2.42.201:8085'}, {'proxy': '103.141.247.6:8080'}, {'proxy': '47.251.122.81:8888'}, {'proxy': '203.74.125.18:8888'}, {'proxy': '13.38.153.36:80'}, {'proxy': '13.36.104.85:80'}, {'proxy': '13.36.87.105:3128'}, {'proxy': '50.207.199.83:80'}, {'proxy': '50.202.75.26:80'}, {'proxy': '50.169.37.50:80'}, {'proxy': '50.239.72.18:80'}, {'proxy': '50.175.212.66:80'}, {'proxy': '50.217.226.47:80'}, {'proxy': '190.58.248.86:80'}, {'proxy': '184.169.154.119:80'}, {'proxy': '43.163.87.93:8080'}, {'proxy': '47.243.113.74:5555'}, {'proxy': '58.187.230.151:12001'}, {'proxy': '43.224.248.29:8085'}, {'proxy': '41.74.91.244:80'}, {'proxy': '3.37.125.76:3128'}, {'proxy': '3.124.133.93:3128'}, {'proxy': '3.123.150.192:80'}, {'proxy': '43.200.77.128:3128'}, {'proxy': '54.233.119.172:3128'}, {'proxy': '89.23.112.143:80'}, {'proxy': '43.129.201.43:443'}, {'proxy': '103.152.112.159:80'}, {'proxy': '46.47.197.210:3128'}, {'proxy': '54.179.39.14:3128'}, {'proxy': '13.213.114.238:3128'}, {'proxy': '52.16.232.164:3128'}, {'proxy': '3.97.167.115:3128'}, {'proxy': '51.20.19.159:3128'}, {'proxy': '31.47.58.37:80'}, {'proxy': '3.212.148.199:3128'}, {'proxy': '54.152.3.36:80'}, {'proxy': '43.156.59.228:80'}, {'proxy': '50.169.222.243:80'}, {'proxy': '50.169.222.241:80'}, {'proxy': '159.65.245.255:80'}, {'proxy': '31.40.248.2:8080'}, {'proxy': '141.11.103.136:8080'}, {'proxy': '149.202.91.219:80'}, {'proxy': '216.229.112.25:8080'}, {'proxy': '87.248.129.32:80'}, {'proxy': '222.252.194.204:8080'}, {'proxy': '81.31.245.17:1080'}, {'proxy': '162.223.90.130:80'}, {'proxy': '133.18.234.13:80'}, {'proxy': '139.162.78.109:8080'}, {'proxy': '97.74.87.226:80'}, {'proxy': '201.251.61.143:8080'}, {'proxy': '185.212.60.62:80'}, {'proxy': '103.152.112.195:80'}, {'proxy': '5.106.6.235:80'}, {'proxy': '47.88.59.79:82'}, {'proxy': '188.125.167.11:8080'}, {'proxy': '135.181.193.128:3128'}, {'proxy': '103.165.245.149:8082'}, {'proxy': '154.126.209.146:8080'}, {'proxy': '119.95.189.247:8080'}, {'proxy': '178.115.253.35:8080'}, {'proxy': '103.153.247.220:8080'}, {'proxy': '191.102.250.2:8085'}, {'proxy': '103.227.187.9:6080'}, {'proxy': '143.255.147.131:8080'}, {'proxy': '124.106.66.194:8080'}, {'proxy': '201.163.219.195:8080'}, {'proxy': '91.108.130.18:3128'}, {'proxy': '189.240.60.169:9090'}, {'proxy': '13.37.59.99:3128'}, {'proxy': '13.36.113.81:3128'}, {'proxy': '13.37.73.214:80'}, {'proxy': '44.195.247.145:80'}, {'proxy': '45.92.38.214:8000'}, {'proxy': '3.122.84.99:3128'}, {'proxy': '35.79.120.242:3128'}, {'proxy': '3.78.92.159:3128'}, {'proxy': '116.125.141.115:80'}, {'proxy': '158.101.93.164:8080'}, {'proxy': '45.144.64.153:8080'}, {'proxy': '13.246.209.48:1080'}, {'proxy': '15.156.24.206:3128'}, {'proxy': '52.65.193.254:3128'}, {'proxy': '51.254.78.223:80'}, {'proxy': '142.44.210.174:80'}, {'proxy': '5.45.126.128:8080'}, {'proxy': '47.56.110.204:8989'}, {'proxy': '66.29.154.103:3128'}, {'proxy': '103.127.106.209:2024'}, {'proxy': '47.247.141.78:8080'}, {'proxy': '222.127.77.167:8082'}, {'proxy': '106.105.118.250:80'}, {'proxy': '103.166.159.163:8080'}, {'proxy': '103.155.116.239:8085'}, {'proxy': '177.93.49.202:999'}, {'proxy': '117.207.147.21:3127'}, {'proxy': '138.118.106.121:999'}, {'proxy': '31.173.247.205:8081'}, {'proxy': '47.252.50.153:3128'}, {'proxy': '72.10.160.170:5475'}, {'proxy': '128.140.113.110:1080'}, {'proxy': '20.187.167.218:80'}, {'proxy': '54.67.125.45:3128'}, {'proxy': '204.236.176.61:3128'}, {'proxy': '51.68.175.56:1080'}, {'proxy': '84.39.112.144:3128'}, {'proxy': '66.29.154.105:3128'}, {'proxy': '190.103.177.131:80'}, {'proxy': '159.203.61.169:3128'}, {'proxy': '34.81.160.132:80'}, {'proxy': '50.174.7.159:80'}, {'proxy': '46.51.249.135:3128'}, {'proxy': '51.20.50.149:3128'}, {'proxy': '124.121.2.131:8080'}, {'proxy': '45.91.201.100:8081'}, {'proxy': '200.125.171.77:9991'}, {'proxy': '186.215.43.128:3128'}, {'proxy': '120.28.194.248:8282'}, {'proxy': '150.136.153.231:80'}, {'proxy': '200.119.218.94:999'}, {'proxy': '38.51.207.184:999'}, {'proxy': '38.225.86.129:999'}, {'proxy': '102.0.14.156:8080'}, {'proxy': '67.43.227.226:11305'}, {'proxy': '45.87.68.8:15321'}, {'proxy': '50.221.74.130:80'}, {'proxy': '50.207.199.82:80'}, {'proxy': '50.122.86.118:80'}, {'proxy': '5.161.103.41:88'}, {'proxy': '200.174.198.86:8888'}, {'proxy': '3.71.239.218:3128'}, {'proxy': '18.228.149.161:80'}, {'proxy': '3.139.242.184:80'}, {'proxy': '219.93.101.60:80'}, {'proxy': '4.175.200.138:8080'}, {'proxy': '211.128.96.206:80'}, {'proxy': '50.231.104.58:80'}, {'proxy': '52.35.240.119:1080'}, {'proxy': '36.50.56.71:8080'}, {'proxy': '8.217.59.198:3699'}, {'proxy': '51.79.207.21:8080'}, {'proxy': '175.213.76.24:80'}, {'proxy': '131.100.48.253:999'}, {'proxy': '77.243.15.85:3246'}, {'proxy': '103.162.62.250:8181'}, {'proxy': '103.131.19.134:8082'}, {'proxy': '38.51.48.234:999'}, {'proxy': '80.191.105.13:8080'}]\n",
      "UID\n"
     ]
    },
    {
     "name": "stderr",
     "output_type": "stream",
     "text": [
      "/home/jiezi/miniconda3/envs/ai4fun/lib/python3.10/site-packages/urllib3/connectionpool.py:1097: InsecureRequestWarning: Unverified HTTPS request is being made to host 'x.com'. Adding certificate verification is strongly advised. See: https://urllib3.readthedocs.io/en/latest/advanced-usage.html#tls-warnings\n",
      "  warnings.warn(\n"
     ]
    },
    {
     "name": "stdout",
     "output_type": "stream",
     "text": [
      "current proxy: 5.78.124.240:40000\n",
      "all client info: [{'proxy': '5.78.124.240:40000', 'initiate_tm': 1740384085}, {'proxy': '150.136.247.129:1080'}, {'proxy': '13.38.176.104:3128'}, {'proxy': '180.210.89.215:3128'}, {'proxy': '44.218.183.55:80'}, {'proxy': '14.39.239.79:56270'}, {'proxy': '41.111.243.133:80'}, {'proxy': '45.87.68.6:15321'}, {'proxy': '3.127.121.101:80'}, {'proxy': '3.21.101.158:3128'}, {'proxy': '3.12.144.146:3128'}, {'proxy': '8.215.105.127:7777'}, {'proxy': '3.141.217.225:80'}, {'proxy': '3.90.100.12:80'}, {'proxy': '113.160.133.32:8080'}, {'proxy': '172.233.78.254:7890'}, {'proxy': '52.73.224.54:3128'}, {'proxy': '44.219.175.186:80'}, {'proxy': '158.160.52.208:8090'}, {'proxy': '85.215.64.49:80'}, {'proxy': '219.65.73.81:80'}, {'proxy': '18.223.25.15:80'}, {'proxy': '23.247.137.142:80'}, {'proxy': '67.43.236.19:30903'}, {'proxy': '50.232.104.86:80'}, {'proxy': '66.191.31.158:80'}, {'proxy': '37.187.25.85:80'}, {'proxy': '103.152.112.120:80'}, {'proxy': '188.40.59.208:3128'}, {'proxy': '23.247.136.245:80'}, {'proxy': '23.247.136.254:80'}, {'proxy': '103.152.112.157:80'}, {'proxy': '13.208.56.180:80'}, {'proxy': '35.72.118.126:80'}, {'proxy': '3.127.62.252:80'}, {'proxy': '43.201.121.81:80'}, {'proxy': '18.228.198.164:80'}, {'proxy': '52.67.10.183:80'}, {'proxy': '202.6.233.133:80'}, {'proxy': '43.154.134.238:50001'}, {'proxy': '3.129.184.210:80'}, {'proxy': '195.114.209.50:80'}, {'proxy': '51.16.199.206:3128'}, {'proxy': '13.48.109.48:3128'}, {'proxy': '51.17.58.162:3128'}, {'proxy': '3.97.176.251:3128'}, {'proxy': '51.16.179.113:1080'}, {'proxy': '54.179.44.51:3128'}, {'proxy': '16.16.239.39:3128'}, {'proxy': '123.30.154.171:7777'}, {'proxy': '13.59.156.167:3128'}, {'proxy': '158.255.77.169:80'}, {'proxy': '158.255.77.168:80'}, {'proxy': '54.248.238.110:80'}, {'proxy': '179.41.8.151:80'}, {'proxy': '198.74.51.79:8888'}, {'proxy': '23.88.116.40:80'}, {'proxy': '156.38.112.11:80'}, {'proxy': '154.90.48.76:80'}, {'proxy': '158.255.77.166:80'}, {'proxy': '194.182.163.117:3128'}, {'proxy': '47.90.205.231:33333'}, {'proxy': '87.248.129.26:80'}, {'proxy': '68.185.57.66:80'}, {'proxy': '39.109.113.97:4090'}, {'proxy': '50.223.246.237:80'}, {'proxy': '41.207.187.178:80'}, {'proxy': '32.223.6.94:80'}, {'proxy': '82.119.96.254:80'}, {'proxy': '13.37.89.201:80'}, {'proxy': '50.207.199.80:80'}, {'proxy': '50.174.7.153:80'}, {'proxy': '50.239.72.16:80'}, {'proxy': '50.239.72.19:80'}, {'proxy': '50.217.226.40:80'}, {'proxy': '50.175.212.74:80'}, {'proxy': '43.202.154.212:80'}, {'proxy': '52.196.1.182:80'}, {'proxy': '103.152.112.186:80'}, {'proxy': '52.63.129.110:3128'}, {'proxy': '99.80.11.54:3128'}, {'proxy': '13.246.184.110:3128'}, {'proxy': '63.32.1.88:3128'}, {'proxy': '13.55.210.141:3128'}, {'proxy': '54.228.164.102:3128'}, {'proxy': '38.150.15.11:80'}, {'proxy': '63.35.64.177:3128'}, {'proxy': '204.236.137.68:80'}, {'proxy': '50.217.226.41:80'}, {'proxy': '0.0.0.0:80'}, {'proxy': '50.174.7.156:80'}, {'proxy': '127.0.0.7:80'}, {'proxy': '113.11.179.139:8181'}, {'proxy': '38.183.146.170:8090'}, {'proxy': '103.168.254.162:8086'}, {'proxy': '181.209.77.165:999'}, {'proxy': '103.184.54.3:7777'}, {'proxy': '103.59.163.206:80'}, {'proxy': '107.174.224.179:3128'}, {'proxy': '180.191.20.208:8082'}, {'proxy': '119.2.42.201:8085'}, {'proxy': '103.141.247.6:8080'}, {'proxy': '47.251.122.81:8888'}, {'proxy': '203.74.125.18:8888'}, {'proxy': '13.38.153.36:80'}, {'proxy': '13.36.104.85:80'}, {'proxy': '13.36.87.105:3128'}, {'proxy': '50.207.199.83:80'}, {'proxy': '50.202.75.26:80'}, {'proxy': '50.169.37.50:80'}, {'proxy': '50.239.72.18:80'}, {'proxy': '50.175.212.66:80'}, {'proxy': '50.217.226.47:80'}, {'proxy': '190.58.248.86:80'}, {'proxy': '184.169.154.119:80'}, {'proxy': '43.163.87.93:8080'}, {'proxy': '47.243.113.74:5555'}, {'proxy': '58.187.230.151:12001'}, {'proxy': '43.224.248.29:8085'}, {'proxy': '41.74.91.244:80'}, {'proxy': '3.37.125.76:3128'}, {'proxy': '3.124.133.93:3128'}, {'proxy': '3.123.150.192:80'}, {'proxy': '43.200.77.128:3128'}, {'proxy': '54.233.119.172:3128'}, {'proxy': '89.23.112.143:80'}, {'proxy': '43.129.201.43:443'}, {'proxy': '103.152.112.159:80'}, {'proxy': '46.47.197.210:3128'}, {'proxy': '54.179.39.14:3128'}, {'proxy': '13.213.114.238:3128'}, {'proxy': '52.16.232.164:3128'}, {'proxy': '3.97.167.115:3128'}, {'proxy': '51.20.19.159:3128'}, {'proxy': '31.47.58.37:80'}, {'proxy': '3.212.148.199:3128'}, {'proxy': '54.152.3.36:80'}, {'proxy': '43.156.59.228:80'}, {'proxy': '50.169.222.243:80'}, {'proxy': '50.169.222.241:80'}, {'proxy': '159.65.245.255:80'}, {'proxy': '31.40.248.2:8080'}, {'proxy': '141.11.103.136:8080'}, {'proxy': '149.202.91.219:80'}, {'proxy': '216.229.112.25:8080'}, {'proxy': '87.248.129.32:80'}, {'proxy': '222.252.194.204:8080'}, {'proxy': '81.31.245.17:1080'}, {'proxy': '162.223.90.130:80'}, {'proxy': '133.18.234.13:80'}, {'proxy': '139.162.78.109:8080'}, {'proxy': '97.74.87.226:80'}, {'proxy': '201.251.61.143:8080'}, {'proxy': '185.212.60.62:80'}, {'proxy': '103.152.112.195:80'}, {'proxy': '5.106.6.235:80'}, {'proxy': '47.88.59.79:82'}, {'proxy': '188.125.167.11:8080'}, {'proxy': '135.181.193.128:3128'}, {'proxy': '103.165.245.149:8082'}, {'proxy': '154.126.209.146:8080'}, {'proxy': '119.95.189.247:8080'}, {'proxy': '178.115.253.35:8080'}, {'proxy': '103.153.247.220:8080'}, {'proxy': '191.102.250.2:8085'}, {'proxy': '103.227.187.9:6080'}, {'proxy': '143.255.147.131:8080'}, {'proxy': '124.106.66.194:8080'}, {'proxy': '201.163.219.195:8080'}, {'proxy': '91.108.130.18:3128'}, {'proxy': '189.240.60.169:9090'}, {'proxy': '13.37.59.99:3128'}, {'proxy': '13.36.113.81:3128'}, {'proxy': '13.37.73.214:80'}, {'proxy': '44.195.247.145:80'}, {'proxy': '45.92.38.214:8000'}, {'proxy': '3.122.84.99:3128'}, {'proxy': '35.79.120.242:3128'}, {'proxy': '3.78.92.159:3128'}, {'proxy': '116.125.141.115:80'}, {'proxy': '158.101.93.164:8080'}, {'proxy': '45.144.64.153:8080'}, {'proxy': '13.246.209.48:1080'}, {'proxy': '15.156.24.206:3128'}, {'proxy': '52.65.193.254:3128'}, {'proxy': '51.254.78.223:80'}, {'proxy': '142.44.210.174:80'}, {'proxy': '5.45.126.128:8080'}, {'proxy': '47.56.110.204:8989'}, {'proxy': '66.29.154.103:3128'}, {'proxy': '103.127.106.209:2024'}, {'proxy': '47.247.141.78:8080'}, {'proxy': '222.127.77.167:8082'}, {'proxy': '106.105.118.250:80'}, {'proxy': '103.166.159.163:8080'}, {'proxy': '103.155.116.239:8085'}, {'proxy': '177.93.49.202:999'}, {'proxy': '117.207.147.21:3127'}, {'proxy': '138.118.106.121:999'}, {'proxy': '31.173.247.205:8081'}, {'proxy': '47.252.50.153:3128'}, {'proxy': '72.10.160.170:5475'}, {'proxy': '128.140.113.110:1080'}, {'proxy': '20.187.167.218:80'}, {'proxy': '54.67.125.45:3128'}, {'proxy': '204.236.176.61:3128'}, {'proxy': '51.68.175.56:1080'}, {'proxy': '84.39.112.144:3128'}, {'proxy': '66.29.154.105:3128'}, {'proxy': '190.103.177.131:80'}, {'proxy': '159.203.61.169:3128'}, {'proxy': '34.81.160.132:80'}, {'proxy': '50.174.7.159:80'}, {'proxy': '46.51.249.135:3128'}, {'proxy': '51.20.50.149:3128'}, {'proxy': '124.121.2.131:8080'}, {'proxy': '45.91.201.100:8081'}, {'proxy': '200.125.171.77:9991'}, {'proxy': '186.215.43.128:3128'}, {'proxy': '120.28.194.248:8282'}, {'proxy': '150.136.153.231:80'}, {'proxy': '200.119.218.94:999'}, {'proxy': '38.51.207.184:999'}, {'proxy': '38.225.86.129:999'}, {'proxy': '102.0.14.156:8080'}, {'proxy': '67.43.227.226:11305'}, {'proxy': '45.87.68.8:15321'}, {'proxy': '50.221.74.130:80'}, {'proxy': '50.207.199.82:80'}, {'proxy': '50.122.86.118:80'}, {'proxy': '5.161.103.41:88'}, {'proxy': '200.174.198.86:8888'}, {'proxy': '3.71.239.218:3128'}, {'proxy': '18.228.149.161:80'}, {'proxy': '3.139.242.184:80'}, {'proxy': '219.93.101.60:80'}, {'proxy': '4.175.200.138:8080'}, {'proxy': '211.128.96.206:80'}, {'proxy': '50.231.104.58:80'}, {'proxy': '52.35.240.119:1080'}, {'proxy': '36.50.56.71:8080'}, {'proxy': '8.217.59.198:3699'}, {'proxy': '51.79.207.21:8080'}, {'proxy': '175.213.76.24:80'}, {'proxy': '131.100.48.253:999'}, {'proxy': '77.243.15.85:3246'}, {'proxy': '103.162.62.250:8181'}, {'proxy': '103.131.19.134:8082'}, {'proxy': '38.51.48.234:999'}, {'proxy': '80.191.105.13:8080'}]\n",
      "ACCT\n"
     ]
    },
    {
     "name": "stderr",
     "output_type": "stream",
     "text": [
      "/home/jiezi/miniconda3/envs/ai4fun/lib/python3.10/site-packages/urllib3/connectionpool.py:1097: InsecureRequestWarning: Unverified HTTPS request is being made to host 'x.com'. Adding certificate verification is strongly advised. See: https://urllib3.readthedocs.io/en/latest/advanced-usage.html#tls-warnings\n",
      "  warnings.warn(\n"
     ]
    },
    {
     "name": "stdout",
     "output_type": "stream",
     "text": [
      "current proxy: 5.78.124.240:40000\n",
      "all client info: [{'proxy': '5.78.124.240:40000', 'initiate_tm': 1740384085}, {'proxy': '150.136.247.129:1080'}, {'proxy': '13.38.176.104:3128'}, {'proxy': '180.210.89.215:3128'}, {'proxy': '44.218.183.55:80'}, {'proxy': '14.39.239.79:56270'}, {'proxy': '41.111.243.133:80'}, {'proxy': '45.87.68.6:15321'}, {'proxy': '3.127.121.101:80'}, {'proxy': '3.21.101.158:3128'}, {'proxy': '3.12.144.146:3128'}, {'proxy': '8.215.105.127:7777'}, {'proxy': '3.141.217.225:80'}, {'proxy': '3.90.100.12:80'}, {'proxy': '113.160.133.32:8080'}, {'proxy': '172.233.78.254:7890'}, {'proxy': '52.73.224.54:3128'}, {'proxy': '44.219.175.186:80'}, {'proxy': '158.160.52.208:8090'}, {'proxy': '85.215.64.49:80'}, {'proxy': '219.65.73.81:80'}, {'proxy': '18.223.25.15:80'}, {'proxy': '23.247.137.142:80'}, {'proxy': '67.43.236.19:30903'}, {'proxy': '50.232.104.86:80'}, {'proxy': '66.191.31.158:80'}, {'proxy': '37.187.25.85:80'}, {'proxy': '103.152.112.120:80'}, {'proxy': '188.40.59.208:3128'}, {'proxy': '23.247.136.245:80'}, {'proxy': '23.247.136.254:80'}, {'proxy': '103.152.112.157:80'}, {'proxy': '13.208.56.180:80'}, {'proxy': '35.72.118.126:80'}, {'proxy': '3.127.62.252:80'}, {'proxy': '43.201.121.81:80'}, {'proxy': '18.228.198.164:80'}, {'proxy': '52.67.10.183:80'}, {'proxy': '202.6.233.133:80'}, {'proxy': '43.154.134.238:50001'}, {'proxy': '3.129.184.210:80'}, {'proxy': '195.114.209.50:80'}, {'proxy': '51.16.199.206:3128'}, {'proxy': '13.48.109.48:3128'}, {'proxy': '51.17.58.162:3128'}, {'proxy': '3.97.176.251:3128'}, {'proxy': '51.16.179.113:1080'}, {'proxy': '54.179.44.51:3128'}, {'proxy': '16.16.239.39:3128'}, {'proxy': '123.30.154.171:7777'}, {'proxy': '13.59.156.167:3128'}, {'proxy': '158.255.77.169:80'}, {'proxy': '158.255.77.168:80'}, {'proxy': '54.248.238.110:80'}, {'proxy': '179.41.8.151:80'}, {'proxy': '198.74.51.79:8888'}, {'proxy': '23.88.116.40:80'}, {'proxy': '156.38.112.11:80'}, {'proxy': '154.90.48.76:80'}, {'proxy': '158.255.77.166:80'}, {'proxy': '194.182.163.117:3128'}, {'proxy': '47.90.205.231:33333'}, {'proxy': '87.248.129.26:80'}, {'proxy': '68.185.57.66:80'}, {'proxy': '39.109.113.97:4090'}, {'proxy': '50.223.246.237:80'}, {'proxy': '41.207.187.178:80'}, {'proxy': '32.223.6.94:80'}, {'proxy': '82.119.96.254:80'}, {'proxy': '13.37.89.201:80'}, {'proxy': '50.207.199.80:80'}, {'proxy': '50.174.7.153:80'}, {'proxy': '50.239.72.16:80'}, {'proxy': '50.239.72.19:80'}, {'proxy': '50.217.226.40:80'}, {'proxy': '50.175.212.74:80'}, {'proxy': '43.202.154.212:80'}, {'proxy': '52.196.1.182:80'}, {'proxy': '103.152.112.186:80'}, {'proxy': '52.63.129.110:3128'}, {'proxy': '99.80.11.54:3128'}, {'proxy': '13.246.184.110:3128'}, {'proxy': '63.32.1.88:3128'}, {'proxy': '13.55.210.141:3128'}, {'proxy': '54.228.164.102:3128'}, {'proxy': '38.150.15.11:80'}, {'proxy': '63.35.64.177:3128'}, {'proxy': '204.236.137.68:80'}, {'proxy': '50.217.226.41:80'}, {'proxy': '0.0.0.0:80'}, {'proxy': '50.174.7.156:80'}, {'proxy': '127.0.0.7:80'}, {'proxy': '113.11.179.139:8181'}, {'proxy': '38.183.146.170:8090'}, {'proxy': '103.168.254.162:8086'}, {'proxy': '181.209.77.165:999'}, {'proxy': '103.184.54.3:7777'}, {'proxy': '103.59.163.206:80'}, {'proxy': '107.174.224.179:3128'}, {'proxy': '180.191.20.208:8082'}, {'proxy': '119.2.42.201:8085'}, {'proxy': '103.141.247.6:8080'}, {'proxy': '47.251.122.81:8888'}, {'proxy': '203.74.125.18:8888'}, {'proxy': '13.38.153.36:80'}, {'proxy': '13.36.104.85:80'}, {'proxy': '13.36.87.105:3128'}, {'proxy': '50.207.199.83:80'}, {'proxy': '50.202.75.26:80'}, {'proxy': '50.169.37.50:80'}, {'proxy': '50.239.72.18:80'}, {'proxy': '50.175.212.66:80'}, {'proxy': '50.217.226.47:80'}, {'proxy': '190.58.248.86:80'}, {'proxy': '184.169.154.119:80'}, {'proxy': '43.163.87.93:8080'}, {'proxy': '47.243.113.74:5555'}, {'proxy': '58.187.230.151:12001'}, {'proxy': '43.224.248.29:8085'}, {'proxy': '41.74.91.244:80'}, {'proxy': '3.37.125.76:3128'}, {'proxy': '3.124.133.93:3128'}, {'proxy': '3.123.150.192:80'}, {'proxy': '43.200.77.128:3128'}, {'proxy': '54.233.119.172:3128'}, {'proxy': '89.23.112.143:80'}, {'proxy': '43.129.201.43:443'}, {'proxy': '103.152.112.159:80'}, {'proxy': '46.47.197.210:3128'}, {'proxy': '54.179.39.14:3128'}, {'proxy': '13.213.114.238:3128'}, {'proxy': '52.16.232.164:3128'}, {'proxy': '3.97.167.115:3128'}, {'proxy': '51.20.19.159:3128'}, {'proxy': '31.47.58.37:80'}, {'proxy': '3.212.148.199:3128'}, {'proxy': '54.152.3.36:80'}, {'proxy': '43.156.59.228:80'}, {'proxy': '50.169.222.243:80'}, {'proxy': '50.169.222.241:80'}, {'proxy': '159.65.245.255:80'}, {'proxy': '31.40.248.2:8080'}, {'proxy': '141.11.103.136:8080'}, {'proxy': '149.202.91.219:80'}, {'proxy': '216.229.112.25:8080'}, {'proxy': '87.248.129.32:80'}, {'proxy': '222.252.194.204:8080'}, {'proxy': '81.31.245.17:1080'}, {'proxy': '162.223.90.130:80'}, {'proxy': '133.18.234.13:80'}, {'proxy': '139.162.78.109:8080'}, {'proxy': '97.74.87.226:80'}, {'proxy': '201.251.61.143:8080'}, {'proxy': '185.212.60.62:80'}, {'proxy': '103.152.112.195:80'}, {'proxy': '5.106.6.235:80'}, {'proxy': '47.88.59.79:82'}, {'proxy': '188.125.167.11:8080'}, {'proxy': '135.181.193.128:3128'}, {'proxy': '103.165.245.149:8082'}, {'proxy': '154.126.209.146:8080'}, {'proxy': '119.95.189.247:8080'}, {'proxy': '178.115.253.35:8080'}, {'proxy': '103.153.247.220:8080'}, {'proxy': '191.102.250.2:8085'}, {'proxy': '103.227.187.9:6080'}, {'proxy': '143.255.147.131:8080'}, {'proxy': '124.106.66.194:8080'}, {'proxy': '201.163.219.195:8080'}, {'proxy': '91.108.130.18:3128'}, {'proxy': '189.240.60.169:9090'}, {'proxy': '13.37.59.99:3128'}, {'proxy': '13.36.113.81:3128'}, {'proxy': '13.37.73.214:80'}, {'proxy': '44.195.247.145:80'}, {'proxy': '45.92.38.214:8000'}, {'proxy': '3.122.84.99:3128'}, {'proxy': '35.79.120.242:3128'}, {'proxy': '3.78.92.159:3128'}, {'proxy': '116.125.141.115:80'}, {'proxy': '158.101.93.164:8080'}, {'proxy': '45.144.64.153:8080'}, {'proxy': '13.246.209.48:1080'}, {'proxy': '15.156.24.206:3128'}, {'proxy': '52.65.193.254:3128'}, {'proxy': '51.254.78.223:80'}, {'proxy': '142.44.210.174:80'}, {'proxy': '5.45.126.128:8080'}, {'proxy': '47.56.110.204:8989'}, {'proxy': '66.29.154.103:3128'}, {'proxy': '103.127.106.209:2024'}, {'proxy': '47.247.141.78:8080'}, {'proxy': '222.127.77.167:8082'}, {'proxy': '106.105.118.250:80'}, {'proxy': '103.166.159.163:8080'}, {'proxy': '103.155.116.239:8085'}, {'proxy': '177.93.49.202:999'}, {'proxy': '117.207.147.21:3127'}, {'proxy': '138.118.106.121:999'}, {'proxy': '31.173.247.205:8081'}, {'proxy': '47.252.50.153:3128'}, {'proxy': '72.10.160.170:5475'}, {'proxy': '128.140.113.110:1080'}, {'proxy': '20.187.167.218:80'}, {'proxy': '54.67.125.45:3128'}, {'proxy': '204.236.176.61:3128'}, {'proxy': '51.68.175.56:1080'}, {'proxy': '84.39.112.144:3128'}, {'proxy': '66.29.154.105:3128'}, {'proxy': '190.103.177.131:80'}, {'proxy': '159.203.61.169:3128'}, {'proxy': '34.81.160.132:80'}, {'proxy': '50.174.7.159:80'}, {'proxy': '46.51.249.135:3128'}, {'proxy': '51.20.50.149:3128'}, {'proxy': '124.121.2.131:8080'}, {'proxy': '45.91.201.100:8081'}, {'proxy': '200.125.171.77:9991'}, {'proxy': '186.215.43.128:3128'}, {'proxy': '120.28.194.248:8282'}, {'proxy': '150.136.153.231:80'}, {'proxy': '200.119.218.94:999'}, {'proxy': '38.51.207.184:999'}, {'proxy': '38.225.86.129:999'}, {'proxy': '102.0.14.156:8080'}, {'proxy': '67.43.227.226:11305'}, {'proxy': '45.87.68.8:15321'}, {'proxy': '50.221.74.130:80'}, {'proxy': '50.207.199.82:80'}, {'proxy': '50.122.86.118:80'}, {'proxy': '5.161.103.41:88'}, {'proxy': '200.174.198.86:8888'}, {'proxy': '3.71.239.218:3128'}, {'proxy': '18.228.149.161:80'}, {'proxy': '3.139.242.184:80'}, {'proxy': '219.93.101.60:80'}, {'proxy': '4.175.200.138:8080'}, {'proxy': '211.128.96.206:80'}, {'proxy': '50.231.104.58:80'}, {'proxy': '52.35.240.119:1080'}, {'proxy': '36.50.56.71:8080'}, {'proxy': '8.217.59.198:3699'}, {'proxy': '51.79.207.21:8080'}, {'proxy': '175.213.76.24:80'}, {'proxy': '131.100.48.253:999'}, {'proxy': '77.243.15.85:3246'}, {'proxy': '103.162.62.250:8181'}, {'proxy': '103.131.19.134:8082'}, {'proxy': '38.51.48.234:999'}, {'proxy': '80.191.105.13:8080'}]\n",
      "TWEET\n"
     ]
    },
    {
     "name": "stderr",
     "output_type": "stream",
     "text": [
      "/home/jiezi/miniconda3/envs/ai4fun/lib/python3.10/site-packages/urllib3/connectionpool.py:1097: InsecureRequestWarning: Unverified HTTPS request is being made to host 'x.com'. Adding certificate verification is strongly advised. See: https://urllib3.readthedocs.io/en/latest/advanced-usage.html#tls-warnings\n",
      "  warnings.warn(\n"
     ]
    },
    {
     "name": "stdout",
     "output_type": "stream",
     "text": [
      "current proxy: 5.78.124.240:40000\n",
      "all client info: [{'proxy': '5.78.124.240:40000', 'initiate_tm': 1740384085, 'last_call_tm': 1740384086, 'remaining_requests': 49, 'next_reset_tm': 1740384986}, {'proxy': '150.136.247.129:1080'}, {'proxy': '13.38.176.104:3128'}, {'proxy': '180.210.89.215:3128'}, {'proxy': '44.218.183.55:80'}, {'proxy': '14.39.239.79:56270'}, {'proxy': '41.111.243.133:80'}, {'proxy': '45.87.68.6:15321'}, {'proxy': '3.127.121.101:80'}, {'proxy': '3.21.101.158:3128'}, {'proxy': '3.12.144.146:3128'}, {'proxy': '8.215.105.127:7777'}, {'proxy': '3.141.217.225:80'}, {'proxy': '3.90.100.12:80'}, {'proxy': '113.160.133.32:8080'}, {'proxy': '172.233.78.254:7890'}, {'proxy': '52.73.224.54:3128'}, {'proxy': '44.219.175.186:80'}, {'proxy': '158.160.52.208:8090'}, {'proxy': '85.215.64.49:80'}, {'proxy': '219.65.73.81:80'}, {'proxy': '18.223.25.15:80'}, {'proxy': '23.247.137.142:80'}, {'proxy': '67.43.236.19:30903'}, {'proxy': '50.232.104.86:80'}, {'proxy': '66.191.31.158:80'}, {'proxy': '37.187.25.85:80'}, {'proxy': '103.152.112.120:80'}, {'proxy': '188.40.59.208:3128'}, {'proxy': '23.247.136.245:80'}, {'proxy': '23.247.136.254:80'}, {'proxy': '103.152.112.157:80'}, {'proxy': '13.208.56.180:80'}, {'proxy': '35.72.118.126:80'}, {'proxy': '3.127.62.252:80'}, {'proxy': '43.201.121.81:80'}, {'proxy': '18.228.198.164:80'}, {'proxy': '52.67.10.183:80'}, {'proxy': '202.6.233.133:80'}, {'proxy': '43.154.134.238:50001'}, {'proxy': '3.129.184.210:80'}, {'proxy': '195.114.209.50:80'}, {'proxy': '51.16.199.206:3128'}, {'proxy': '13.48.109.48:3128'}, {'proxy': '51.17.58.162:3128'}, {'proxy': '3.97.176.251:3128'}, {'proxy': '51.16.179.113:1080'}, {'proxy': '54.179.44.51:3128'}, {'proxy': '16.16.239.39:3128'}, {'proxy': '123.30.154.171:7777'}, {'proxy': '13.59.156.167:3128'}, {'proxy': '158.255.77.169:80'}, {'proxy': '158.255.77.168:80'}, {'proxy': '54.248.238.110:80'}, {'proxy': '179.41.8.151:80'}, {'proxy': '198.74.51.79:8888'}, {'proxy': '23.88.116.40:80'}, {'proxy': '156.38.112.11:80'}, {'proxy': '154.90.48.76:80'}, {'proxy': '158.255.77.166:80'}, {'proxy': '194.182.163.117:3128'}, {'proxy': '47.90.205.231:33333'}, {'proxy': '87.248.129.26:80'}, {'proxy': '68.185.57.66:80'}, {'proxy': '39.109.113.97:4090'}, {'proxy': '50.223.246.237:80'}, {'proxy': '41.207.187.178:80'}, {'proxy': '32.223.6.94:80'}, {'proxy': '82.119.96.254:80'}, {'proxy': '13.37.89.201:80'}, {'proxy': '50.207.199.80:80'}, {'proxy': '50.174.7.153:80'}, {'proxy': '50.239.72.16:80'}, {'proxy': '50.239.72.19:80'}, {'proxy': '50.217.226.40:80'}, {'proxy': '50.175.212.74:80'}, {'proxy': '43.202.154.212:80'}, {'proxy': '52.196.1.182:80'}, {'proxy': '103.152.112.186:80'}, {'proxy': '52.63.129.110:3128'}, {'proxy': '99.80.11.54:3128'}, {'proxy': '13.246.184.110:3128'}, {'proxy': '63.32.1.88:3128'}, {'proxy': '13.55.210.141:3128'}, {'proxy': '54.228.164.102:3128'}, {'proxy': '38.150.15.11:80'}, {'proxy': '63.35.64.177:3128'}, {'proxy': '204.236.137.68:80'}, {'proxy': '50.217.226.41:80'}, {'proxy': '0.0.0.0:80'}, {'proxy': '50.174.7.156:80'}, {'proxy': '127.0.0.7:80'}, {'proxy': '113.11.179.139:8181'}, {'proxy': '38.183.146.170:8090'}, {'proxy': '103.168.254.162:8086'}, {'proxy': '181.209.77.165:999'}, {'proxy': '103.184.54.3:7777'}, {'proxy': '103.59.163.206:80'}, {'proxy': '107.174.224.179:3128'}, {'proxy': '180.191.20.208:8082'}, {'proxy': '119.2.42.201:8085'}, {'proxy': '103.141.247.6:8080'}, {'proxy': '47.251.122.81:8888'}, {'proxy': '203.74.125.18:8888'}, {'proxy': '13.38.153.36:80'}, {'proxy': '13.36.104.85:80'}, {'proxy': '13.36.87.105:3128'}, {'proxy': '50.207.199.83:80'}, {'proxy': '50.202.75.26:80'}, {'proxy': '50.169.37.50:80'}, {'proxy': '50.239.72.18:80'}, {'proxy': '50.175.212.66:80'}, {'proxy': '50.217.226.47:80'}, {'proxy': '190.58.248.86:80'}, {'proxy': '184.169.154.119:80'}, {'proxy': '43.163.87.93:8080'}, {'proxy': '47.243.113.74:5555'}, {'proxy': '58.187.230.151:12001'}, {'proxy': '43.224.248.29:8085'}, {'proxy': '41.74.91.244:80'}, {'proxy': '3.37.125.76:3128'}, {'proxy': '3.124.133.93:3128'}, {'proxy': '3.123.150.192:80'}, {'proxy': '43.200.77.128:3128'}, {'proxy': '54.233.119.172:3128'}, {'proxy': '89.23.112.143:80'}, {'proxy': '43.129.201.43:443'}, {'proxy': '103.152.112.159:80'}, {'proxy': '46.47.197.210:3128'}, {'proxy': '54.179.39.14:3128'}, {'proxy': '13.213.114.238:3128'}, {'proxy': '52.16.232.164:3128'}, {'proxy': '3.97.167.115:3128'}, {'proxy': '51.20.19.159:3128'}, {'proxy': '31.47.58.37:80'}, {'proxy': '3.212.148.199:3128'}, {'proxy': '54.152.3.36:80'}, {'proxy': '43.156.59.228:80'}, {'proxy': '50.169.222.243:80'}, {'proxy': '50.169.222.241:80'}, {'proxy': '159.65.245.255:80'}, {'proxy': '31.40.248.2:8080'}, {'proxy': '141.11.103.136:8080'}, {'proxy': '149.202.91.219:80'}, {'proxy': '216.229.112.25:8080'}, {'proxy': '87.248.129.32:80'}, {'proxy': '222.252.194.204:8080'}, {'proxy': '81.31.245.17:1080'}, {'proxy': '162.223.90.130:80'}, {'proxy': '133.18.234.13:80'}, {'proxy': '139.162.78.109:8080'}, {'proxy': '97.74.87.226:80'}, {'proxy': '201.251.61.143:8080'}, {'proxy': '185.212.60.62:80'}, {'proxy': '103.152.112.195:80'}, {'proxy': '5.106.6.235:80'}, {'proxy': '47.88.59.79:82'}, {'proxy': '188.125.167.11:8080'}, {'proxy': '135.181.193.128:3128'}, {'proxy': '103.165.245.149:8082'}, {'proxy': '154.126.209.146:8080'}, {'proxy': '119.95.189.247:8080'}, {'proxy': '178.115.253.35:8080'}, {'proxy': '103.153.247.220:8080'}, {'proxy': '191.102.250.2:8085'}, {'proxy': '103.227.187.9:6080'}, {'proxy': '143.255.147.131:8080'}, {'proxy': '124.106.66.194:8080'}, {'proxy': '201.163.219.195:8080'}, {'proxy': '91.108.130.18:3128'}, {'proxy': '189.240.60.169:9090'}, {'proxy': '13.37.59.99:3128'}, {'proxy': '13.36.113.81:3128'}, {'proxy': '13.37.73.214:80'}, {'proxy': '44.195.247.145:80'}, {'proxy': '45.92.38.214:8000'}, {'proxy': '3.122.84.99:3128'}, {'proxy': '35.79.120.242:3128'}, {'proxy': '3.78.92.159:3128'}, {'proxy': '116.125.141.115:80'}, {'proxy': '158.101.93.164:8080'}, {'proxy': '45.144.64.153:8080'}, {'proxy': '13.246.209.48:1080'}, {'proxy': '15.156.24.206:3128'}, {'proxy': '52.65.193.254:3128'}, {'proxy': '51.254.78.223:80'}, {'proxy': '142.44.210.174:80'}, {'proxy': '5.45.126.128:8080'}, {'proxy': '47.56.110.204:8989'}, {'proxy': '66.29.154.103:3128'}, {'proxy': '103.127.106.209:2024'}, {'proxy': '47.247.141.78:8080'}, {'proxy': '222.127.77.167:8082'}, {'proxy': '106.105.118.250:80'}, {'proxy': '103.166.159.163:8080'}, {'proxy': '103.155.116.239:8085'}, {'proxy': '177.93.49.202:999'}, {'proxy': '117.207.147.21:3127'}, {'proxy': '138.118.106.121:999'}, {'proxy': '31.173.247.205:8081'}, {'proxy': '47.252.50.153:3128'}, {'proxy': '72.10.160.170:5475'}, {'proxy': '128.140.113.110:1080'}, {'proxy': '20.187.167.218:80'}, {'proxy': '54.67.125.45:3128'}, {'proxy': '204.236.176.61:3128'}, {'proxy': '51.68.175.56:1080'}, {'proxy': '84.39.112.144:3128'}, {'proxy': '66.29.154.105:3128'}, {'proxy': '190.103.177.131:80'}, {'proxy': '159.203.61.169:3128'}, {'proxy': '34.81.160.132:80'}, {'proxy': '50.174.7.159:80'}, {'proxy': '46.51.249.135:3128'}, {'proxy': '51.20.50.149:3128'}, {'proxy': '124.121.2.131:8080'}, {'proxy': '45.91.201.100:8081'}, {'proxy': '200.125.171.77:9991'}, {'proxy': '186.215.43.128:3128'}, {'proxy': '120.28.194.248:8282'}, {'proxy': '150.136.153.231:80'}, {'proxy': '200.119.218.94:999'}, {'proxy': '38.51.207.184:999'}, {'proxy': '38.225.86.129:999'}, {'proxy': '102.0.14.156:8080'}, {'proxy': '67.43.227.226:11305'}, {'proxy': '45.87.68.8:15321'}, {'proxy': '50.221.74.130:80'}, {'proxy': '50.207.199.82:80'}, {'proxy': '50.122.86.118:80'}, {'proxy': '5.161.103.41:88'}, {'proxy': '200.174.198.86:8888'}, {'proxy': '3.71.239.218:3128'}, {'proxy': '18.228.149.161:80'}, {'proxy': '3.139.242.184:80'}, {'proxy': '219.93.101.60:80'}, {'proxy': '4.175.200.138:8080'}, {'proxy': '211.128.96.206:80'}, {'proxy': '50.231.104.58:80'}, {'proxy': '52.35.240.119:1080'}, {'proxy': '36.50.56.71:8080'}, {'proxy': '8.217.59.198:3699'}, {'proxy': '51.79.207.21:8080'}, {'proxy': '175.213.76.24:80'}, {'proxy': '131.100.48.253:999'}, {'proxy': '77.243.15.85:3246'}, {'proxy': '103.162.62.250:8181'}, {'proxy': '103.131.19.134:8082'}, {'proxy': '38.51.48.234:999'}, {'proxy': '80.191.105.13:8080'}]\n",
      "{'data': {'tweetResult': {'result': {'__typename': 'Tweet', 'rest_id': '1892223536493703501', 'core': {'user_results': {'result': {'__typename': 'User', 'id': 'VXNlcjozNDQ4Mjg0MzEz', 'rest_id': '3448284313', 'affiliates_highlighted_label': {}, 'parody_commentary_fan_label': 'None', 'is_blue_verified': True, 'profile_image_shape': 'Circle', 'legacy': {'created_at': 'Fri Sep 04 12:59:26 +0000 2015', 'default_profile': False, 'default_profile_image': False, 'description': 'Building with AI agents @dair_ai • Prev: Meta AI, Galactica LLM, Elastic, PaperswithCode, PhD • I also teach how to leverage and build with LLMs & AI Agents ⬇️', 'entities': {'description': {'urls': []}, 'url': {'urls': [{'display_url': 'dair-ai.thinkific.com', 'expanded_url': 'https://dair-ai.thinkific.com/', 'url': 'https://t.co/JBU5beHQNs', 'indices': [0, 23]}]}}, 'fast_followers_count': 0, 'favourites_count': 29049, 'followers_count': 231264, 'friends_count': 576, 'has_custom_timelines': True, 'is_translator': False, 'listed_count': 3891, 'location': '', 'media_count': 2951, 'name': 'elvis', 'normal_followers_count': 231264, 'pinned_tweet_ids_str': ['1893394584903766313'], 'possibly_sensitive': False, 'profile_banner_url': 'https://pbs.twimg.com/profile_banners/3448284313/1565974901', 'profile_image_url_https': 'https://pbs.twimg.com/profile_images/939313677647282181/vZjFWtAn_normal.jpg', 'profile_interstitial_type': '', 'screen_name': 'omarsar0', 'statuses_count': 13380, 'translator_type': 'regular', 'url': 'https://t.co/JBU5beHQNs', 'verified': False, 'withheld_in_countries': []}, 'professional': {'rest_id': '1460724937073770505', 'professional_type': 'Creator', 'category': [{'id': 713, 'name': 'Science & Technology', 'icon_name': 'IconBriefcaseStroke'}]}, 'tipjar_settings': {'is_enabled': False, 'cash_app_handle': '£elvisomarsaravia'}}}}, 'unmention_data': {}, 'edit_control': {'edit_tweet_ids': ['1892223536493703501'], 'editable_until_msecs': '1739979821000', 'is_edit_eligible': False, 'edits_remaining': '5'}, 'is_translatable': False, 'views': {'count': '5888', 'state': 'EnabledWithCount'}, 'source': '<a href=\"https://mobile.twitter.com\" rel=\"nofollow\">Twitter Web App</a>', 'grok_analysis_button': True, 'legacy': {'bookmark_count': 8, 'bookmarked': False, 'created_at': 'Wed Feb 19 14:43:41 +0000 2025', 'conversation_id_str': '1892223515660579219', 'display_text_range': [0, 114], 'entities': {'hashtags': [], 'media': [{'display_url': 'pic.x.com/ZP8tnIZ8aj', 'expanded_url': 'https://x.com/omarsar0/status/1892223536493703501/photo/1', 'id_str': '1892222503897939968', 'indices': [115, 138], 'media_key': '3_1892222503897939968', 'media_url_https': 'https://pbs.twimg.com/media/GkKGV4TWQAAx4zn.jpg', 'type': 'photo', 'url': 'https://t.co/ZP8tnIZ8aj', 'ext_media_availability': {'status': 'Available'}, 'features': {'large': {'faces': []}, 'medium': {'faces': []}, 'small': {'faces': []}, 'orig': {'faces': []}}, 'sizes': {'large': {'h': 584, 'w': 1116, 'resize': 'fit'}, 'medium': {'h': 584, 'w': 1116, 'resize': 'fit'}, 'small': {'h': 356, 'w': 680, 'resize': 'fit'}, 'thumb': {'h': 150, 'w': 150, 'resize': 'crop'}}, 'original_info': {'height': 584, 'width': 1116, 'focus_rects': [{'x': 73, 'y': 0, 'w': 1043, 'h': 584}, {'x': 517, 'y': 0, 'w': 584, 'h': 584}, {'x': 553, 'y': 0, 'w': 512, 'h': 584}, {'x': 663, 'y': 0, 'w': 292, 'h': 584}, {'x': 0, 'y': 0, 'w': 1116, 'h': 584}]}, 'allow_download_status': {'allow_download': True}, 'media_results': {'result': {'media_key': '3_1892222503897939968'}}}], 'symbols': [], 'timestamps': [], 'urls': [], 'user_mentions': []}, 'extended_entities': {'media': [{'display_url': 'pic.x.com/ZP8tnIZ8aj', 'expanded_url': 'https://x.com/omarsar0/status/1892223536493703501/photo/1', 'id_str': '1892222503897939968', 'indices': [115, 138], 'media_key': '3_1892222503897939968', 'media_url_https': 'https://pbs.twimg.com/media/GkKGV4TWQAAx4zn.jpg', 'type': 'photo', 'url': 'https://t.co/ZP8tnIZ8aj', 'ext_media_availability': {'status': 'Available'}, 'features': {'large': {'faces': []}, 'medium': {'faces': []}, 'small': {'faces': []}, 'orig': {'faces': []}}, 'sizes': {'large': {'h': 584, 'w': 1116, 'resize': 'fit'}, 'medium': {'h': 584, 'w': 1116, 'resize': 'fit'}, 'small': {'h': 356, 'w': 680, 'resize': 'fit'}, 'thumb': {'h': 150, 'w': 150, 'resize': 'crop'}}, 'original_info': {'height': 584, 'width': 1116, 'focus_rects': [{'x': 73, 'y': 0, 'w': 1043, 'h': 584}, {'x': 517, 'y': 0, 'w': 584, 'h': 584}, {'x': 553, 'y': 0, 'w': 512, 'h': 584}, {'x': 663, 'y': 0, 'w': 292, 'h': 584}, {'x': 0, 'y': 0, 'w': 1116, 'h': 584}]}, 'allow_download_status': {'allow_download': True}, 'media_results': {'result': {'media_key': '3_1892222503897939968'}}}]}, 'favorite_count': 26, 'favorited': False, 'full_text': 'Real-world experiments:\\n\\n\"AI co-scientist proposed novel repurposing candidates for acute myeloid leukemia (AML).\" https://t.co/ZP8tnIZ8aj', 'in_reply_to_screen_name': 'omarsar0', 'in_reply_to_status_id_str': '1892223534207820023', 'in_reply_to_user_id_str': '3448284313', 'is_quote_status': False, 'lang': 'en', 'possibly_sensitive': False, 'possibly_sensitive_editable': True, 'quote_count': 0, 'reply_count': 1, 'retweet_count': 0, 'retweeted': False, 'user_id_str': '3448284313', 'id_str': '1892223536493703501'}}}}, 'api_rate_limit': {'total_limit': 50, 'remaining_requests_count': 49, 'resets_after': '0 Hours, 14 Minutes, 59.35 Seconds', 'reset_after_datetime_object': datetime.timedelta(seconds=899, microseconds=352691), 'rate_limit_exhausted': False}}\n",
      "USER_TWEET\n"
     ]
    },
    {
     "name": "stderr",
     "output_type": "stream",
     "text": [
      "/home/jiezi/miniconda3/envs/ai4fun/lib/python3.10/site-packages/urllib3/connectionpool.py:1097: InsecureRequestWarning: Unverified HTTPS request is being made to host 'x.com'. Adding certificate verification is strongly advised. See: https://urllib3.readthedocs.io/en/latest/advanced-usage.html#tls-warnings\n",
      "  warnings.warn(\n",
      "/home/jiezi/miniconda3/envs/ai4fun/lib/python3.10/site-packages/urllib3/connectionpool.py:1097: InsecureRequestWarning: Unverified HTTPS request is being made to host 'x.com'. Adding certificate verification is strongly advised. See: https://urllib3.readthedocs.io/en/latest/advanced-usage.html#tls-warnings\n",
      "  warnings.warn(\n"
     ]
    },
    {
     "name": "stdout",
     "output_type": "stream",
     "text": [
      "current proxy: 5.78.124.240:40000\n",
      "all client info: [{'proxy': '5.78.124.240:40000', 'initiate_tm': 1740384085, 'last_call_tm': 1740384088, 'remaining_requests': 49, 'next_reset_tm': 1740384987}, {'proxy': '150.136.247.129:1080'}, {'proxy': '13.38.176.104:3128'}, {'proxy': '180.210.89.215:3128'}, {'proxy': '44.218.183.55:80'}, {'proxy': '14.39.239.79:56270'}, {'proxy': '41.111.243.133:80'}, {'proxy': '45.87.68.6:15321'}, {'proxy': '3.127.121.101:80'}, {'proxy': '3.21.101.158:3128'}, {'proxy': '3.12.144.146:3128'}, {'proxy': '8.215.105.127:7777'}, {'proxy': '3.141.217.225:80'}, {'proxy': '3.90.100.12:80'}, {'proxy': '113.160.133.32:8080'}, {'proxy': '172.233.78.254:7890'}, {'proxy': '52.73.224.54:3128'}, {'proxy': '44.219.175.186:80'}, {'proxy': '158.160.52.208:8090'}, {'proxy': '85.215.64.49:80'}, {'proxy': '219.65.73.81:80'}, {'proxy': '18.223.25.15:80'}, {'proxy': '23.247.137.142:80'}, {'proxy': '67.43.236.19:30903'}, {'proxy': '50.232.104.86:80'}, {'proxy': '66.191.31.158:80'}, {'proxy': '37.187.25.85:80'}, {'proxy': '103.152.112.120:80'}, {'proxy': '188.40.59.208:3128'}, {'proxy': '23.247.136.245:80'}, {'proxy': '23.247.136.254:80'}, {'proxy': '103.152.112.157:80'}, {'proxy': '13.208.56.180:80'}, {'proxy': '35.72.118.126:80'}, {'proxy': '3.127.62.252:80'}, {'proxy': '43.201.121.81:80'}, {'proxy': '18.228.198.164:80'}, {'proxy': '52.67.10.183:80'}, {'proxy': '202.6.233.133:80'}, {'proxy': '43.154.134.238:50001'}, {'proxy': '3.129.184.210:80'}, {'proxy': '195.114.209.50:80'}, {'proxy': '51.16.199.206:3128'}, {'proxy': '13.48.109.48:3128'}, {'proxy': '51.17.58.162:3128'}, {'proxy': '3.97.176.251:3128'}, {'proxy': '51.16.179.113:1080'}, {'proxy': '54.179.44.51:3128'}, {'proxy': '16.16.239.39:3128'}, {'proxy': '123.30.154.171:7777'}, {'proxy': '13.59.156.167:3128'}, {'proxy': '158.255.77.169:80'}, {'proxy': '158.255.77.168:80'}, {'proxy': '54.248.238.110:80'}, {'proxy': '179.41.8.151:80'}, {'proxy': '198.74.51.79:8888'}, {'proxy': '23.88.116.40:80'}, {'proxy': '156.38.112.11:80'}, {'proxy': '154.90.48.76:80'}, {'proxy': '158.255.77.166:80'}, {'proxy': '194.182.163.117:3128'}, {'proxy': '47.90.205.231:33333'}, {'proxy': '87.248.129.26:80'}, {'proxy': '68.185.57.66:80'}, {'proxy': '39.109.113.97:4090'}, {'proxy': '50.223.246.237:80'}, {'proxy': '41.207.187.178:80'}, {'proxy': '32.223.6.94:80'}, {'proxy': '82.119.96.254:80'}, {'proxy': '13.37.89.201:80'}, {'proxy': '50.207.199.80:80'}, {'proxy': '50.174.7.153:80'}, {'proxy': '50.239.72.16:80'}, {'proxy': '50.239.72.19:80'}, {'proxy': '50.217.226.40:80'}, {'proxy': '50.175.212.74:80'}, {'proxy': '43.202.154.212:80'}, {'proxy': '52.196.1.182:80'}, {'proxy': '103.152.112.186:80'}, {'proxy': '52.63.129.110:3128'}, {'proxy': '99.80.11.54:3128'}, {'proxy': '13.246.184.110:3128'}, {'proxy': '63.32.1.88:3128'}, {'proxy': '13.55.210.141:3128'}, {'proxy': '54.228.164.102:3128'}, {'proxy': '38.150.15.11:80'}, {'proxy': '63.35.64.177:3128'}, {'proxy': '204.236.137.68:80'}, {'proxy': '50.217.226.41:80'}, {'proxy': '0.0.0.0:80'}, {'proxy': '50.174.7.156:80'}, {'proxy': '127.0.0.7:80'}, {'proxy': '113.11.179.139:8181'}, {'proxy': '38.183.146.170:8090'}, {'proxy': '103.168.254.162:8086'}, {'proxy': '181.209.77.165:999'}, {'proxy': '103.184.54.3:7777'}, {'proxy': '103.59.163.206:80'}, {'proxy': '107.174.224.179:3128'}, {'proxy': '180.191.20.208:8082'}, {'proxy': '119.2.42.201:8085'}, {'proxy': '103.141.247.6:8080'}, {'proxy': '47.251.122.81:8888'}, {'proxy': '203.74.125.18:8888'}, {'proxy': '13.38.153.36:80'}, {'proxy': '13.36.104.85:80'}, {'proxy': '13.36.87.105:3128'}, {'proxy': '50.207.199.83:80'}, {'proxy': '50.202.75.26:80'}, {'proxy': '50.169.37.50:80'}, {'proxy': '50.239.72.18:80'}, {'proxy': '50.175.212.66:80'}, {'proxy': '50.217.226.47:80'}, {'proxy': '190.58.248.86:80'}, {'proxy': '184.169.154.119:80'}, {'proxy': '43.163.87.93:8080'}, {'proxy': '47.243.113.74:5555'}, {'proxy': '58.187.230.151:12001'}, {'proxy': '43.224.248.29:8085'}, {'proxy': '41.74.91.244:80'}, {'proxy': '3.37.125.76:3128'}, {'proxy': '3.124.133.93:3128'}, {'proxy': '3.123.150.192:80'}, {'proxy': '43.200.77.128:3128'}, {'proxy': '54.233.119.172:3128'}, {'proxy': '89.23.112.143:80'}, {'proxy': '43.129.201.43:443'}, {'proxy': '103.152.112.159:80'}, {'proxy': '46.47.197.210:3128'}, {'proxy': '54.179.39.14:3128'}, {'proxy': '13.213.114.238:3128'}, {'proxy': '52.16.232.164:3128'}, {'proxy': '3.97.167.115:3128'}, {'proxy': '51.20.19.159:3128'}, {'proxy': '31.47.58.37:80'}, {'proxy': '3.212.148.199:3128'}, {'proxy': '54.152.3.36:80'}, {'proxy': '43.156.59.228:80'}, {'proxy': '50.169.222.243:80'}, {'proxy': '50.169.222.241:80'}, {'proxy': '159.65.245.255:80'}, {'proxy': '31.40.248.2:8080'}, {'proxy': '141.11.103.136:8080'}, {'proxy': '149.202.91.219:80'}, {'proxy': '216.229.112.25:8080'}, {'proxy': '87.248.129.32:80'}, {'proxy': '222.252.194.204:8080'}, {'proxy': '81.31.245.17:1080'}, {'proxy': '162.223.90.130:80'}, {'proxy': '133.18.234.13:80'}, {'proxy': '139.162.78.109:8080'}, {'proxy': '97.74.87.226:80'}, {'proxy': '201.251.61.143:8080'}, {'proxy': '185.212.60.62:80'}, {'proxy': '103.152.112.195:80'}, {'proxy': '5.106.6.235:80'}, {'proxy': '47.88.59.79:82'}, {'proxy': '188.125.167.11:8080'}, {'proxy': '135.181.193.128:3128'}, {'proxy': '103.165.245.149:8082'}, {'proxy': '154.126.209.146:8080'}, {'proxy': '119.95.189.247:8080'}, {'proxy': '178.115.253.35:8080'}, {'proxy': '103.153.247.220:8080'}, {'proxy': '191.102.250.2:8085'}, {'proxy': '103.227.187.9:6080'}, {'proxy': '143.255.147.131:8080'}, {'proxy': '124.106.66.194:8080'}, {'proxy': '201.163.219.195:8080'}, {'proxy': '91.108.130.18:3128'}, {'proxy': '189.240.60.169:9090'}, {'proxy': '13.37.59.99:3128'}, {'proxy': '13.36.113.81:3128'}, {'proxy': '13.37.73.214:80'}, {'proxy': '44.195.247.145:80'}, {'proxy': '45.92.38.214:8000'}, {'proxy': '3.122.84.99:3128'}, {'proxy': '35.79.120.242:3128'}, {'proxy': '3.78.92.159:3128'}, {'proxy': '116.125.141.115:80'}, {'proxy': '158.101.93.164:8080'}, {'proxy': '45.144.64.153:8080'}, {'proxy': '13.246.209.48:1080'}, {'proxy': '15.156.24.206:3128'}, {'proxy': '52.65.193.254:3128'}, {'proxy': '51.254.78.223:80'}, {'proxy': '142.44.210.174:80'}, {'proxy': '5.45.126.128:8080'}, {'proxy': '47.56.110.204:8989'}, {'proxy': '66.29.154.103:3128'}, {'proxy': '103.127.106.209:2024'}, {'proxy': '47.247.141.78:8080'}, {'proxy': '222.127.77.167:8082'}, {'proxy': '106.105.118.250:80'}, {'proxy': '103.166.159.163:8080'}, {'proxy': '103.155.116.239:8085'}, {'proxy': '177.93.49.202:999'}, {'proxy': '117.207.147.21:3127'}, {'proxy': '138.118.106.121:999'}, {'proxy': '31.173.247.205:8081'}, {'proxy': '47.252.50.153:3128'}, {'proxy': '72.10.160.170:5475'}, {'proxy': '128.140.113.110:1080'}, {'proxy': '20.187.167.218:80'}, {'proxy': '54.67.125.45:3128'}, {'proxy': '204.236.176.61:3128'}, {'proxy': '51.68.175.56:1080'}, {'proxy': '84.39.112.144:3128'}, {'proxy': '66.29.154.105:3128'}, {'proxy': '190.103.177.131:80'}, {'proxy': '159.203.61.169:3128'}, {'proxy': '34.81.160.132:80'}, {'proxy': '50.174.7.159:80'}, {'proxy': '46.51.249.135:3128'}, {'proxy': '51.20.50.149:3128'}, {'proxy': '124.121.2.131:8080'}, {'proxy': '45.91.201.100:8081'}, {'proxy': '200.125.171.77:9991'}, {'proxy': '186.215.43.128:3128'}, {'proxy': '120.28.194.248:8282'}, {'proxy': '150.136.153.231:80'}, {'proxy': '200.119.218.94:999'}, {'proxy': '38.51.207.184:999'}, {'proxy': '38.225.86.129:999'}, {'proxy': '102.0.14.156:8080'}, {'proxy': '67.43.227.226:11305'}, {'proxy': '45.87.68.8:15321'}, {'proxy': '50.221.74.130:80'}, {'proxy': '50.207.199.82:80'}, {'proxy': '50.122.86.118:80'}, {'proxy': '5.161.103.41:88'}, {'proxy': '200.174.198.86:8888'}, {'proxy': '3.71.239.218:3128'}, {'proxy': '18.228.149.161:80'}, {'proxy': '3.139.242.184:80'}, {'proxy': '219.93.101.60:80'}, {'proxy': '4.175.200.138:8080'}, {'proxy': '211.128.96.206:80'}, {'proxy': '50.231.104.58:80'}, {'proxy': '52.35.240.119:1080'}, {'proxy': '36.50.56.71:8080'}, {'proxy': '8.217.59.198:3699'}, {'proxy': '51.79.207.21:8080'}, {'proxy': '175.213.76.24:80'}, {'proxy': '131.100.48.253:999'}, {'proxy': '77.243.15.85:3246'}, {'proxy': '103.162.62.250:8181'}, {'proxy': '103.131.19.134:8082'}, {'proxy': '38.51.48.234:999'}, {'proxy': '80.191.105.13:8080'}]\n"
     ]
    }
   ],
   "source": [
    "tw_client_1 = TwitterKit(proxy_list=http_proxies)\n",
    "tw_client_1._load_tweeterpy_client()\n",
    "print('INITIATE')\n",
    "print(f'current proxy: {tw_client_1.current_proxy}')\n",
    "print(f\"all client info: {tw_client_1.tweeterpy_clients_usage}\")\n",
    "\n",
    "screen_nm = 'omarsar0'\n",
    "tweet_id = '1892223536493703501'\n",
    "\n",
    "print('UID')\n",
    "uid = tw_client_1.get_userid(screen_nm)\n",
    "print(f'current proxy: {tw_client_1.current_proxy}')\n",
    "print(f\"all client info: {tw_client_1.tweeterpy_clients_usage}\")\n",
    "\n",
    "print('ACCT')\n",
    "user_data = tw_client_1.get_userdata(screen_nm)\n",
    "print(f'current proxy: {tw_client_1.current_proxy}')\n",
    "print(f\"all client info: {tw_client_1.tweeterpy_clients_usage}\")\n",
    "\n",
    "print('TWEET')\n",
    "tweet_data = tw_client_1.get_tweet_by_id(tweet_id)\n",
    "print(f'current proxy: {tw_client_1.current_proxy}')\n",
    "print(f\"all client info: {tw_client_1.tweeterpy_clients_usage}\")\n",
    "print(tweet_data)\n",
    "\n",
    "print('USER_TWEET')\n",
    "user_tweet_datra = tw_client_1.get_tweets_by_user(screen_nm)\n",
    "print(f'current proxy: {tw_client_1.current_proxy}')\n",
    "print(f\"all client info: {tw_client_1.tweeterpy_clients_usage}\")"
   ]
  },
  {
   "cell_type": "markdown",
   "metadata": {},
   "source": [
    "## Twikit"
   ]
  },
  {
   "cell_type": "code",
   "execution_count": null,
   "metadata": {},
   "outputs": [],
   "source": [
    "import nest_asyncio\n",
    "nest_asyncio.apply()"
   ]
  },
  {
   "cell_type": "code",
   "execution_count": 1,
   "metadata": {},
   "outputs": [],
   "source": [
    "import asyncio\n",
    "from twikit import Client\n",
    "\n",
    "USERNAME = 'ai4fun2004'\n",
    "EMAIL = 'ai4fun2004@gmail.com'\n",
    "PASSWORD = 'ai4fun_test'\n",
    "\n",
    "# Initialize client\n",
    "client = Client('en-US')\n",
    "\n",
    "await client.login(\n",
    "        auth_info_1=USERNAME,\n",
    "        auth_info_2=EMAIL,\n",
    "        password=PASSWORD,\n",
    "        cookies_file='cookies.json'\n",
    "    )"
   ]
  },
  {
   "cell_type": "code",
   "execution_count": 114,
   "metadata": {},
   "outputs": [],
   "source": [
    "async def async_get_user_info(self, screen_nm, uid):\n",
    "    attempt = 0\n",
    "    if screen_nm is None and uid is None:\n",
    "        return None\n",
    "    \n",
    "    while attempt < self.max_retires:\n",
    "        try:\n",
    "            if screen_nm is not None:\n",
    "                return await client.get_user_by_screen_name(screen_nm)\n",
    "            elif uid is not None:\n",
    "                return await client.get_user_by_screen_name(uid)\n",
    "        except:\n",
    "            attempt += 1\n",
    "    return None\n"
   ]
  },
  {
   "cell_type": "code",
   "execution_count": 54,
   "metadata": {},
   "outputs": [
    {
     "data": {
      "text/plain": [
       "{'__typename': 'User',\n",
       " 'id': 'VXNlcjozNDQ4Mjg0MzEz',\n",
       " 'rest_id': '3448284313',\n",
       " 'affiliates_highlighted_label': {},\n",
       " 'parody_commentary_fan_label': 'None',\n",
       " 'is_blue_verified': True,\n",
       " 'profile_image_shape': 'Circle',\n",
       " 'legacy': {'created_at': 'Fri Sep 04 12:59:26 +0000 2015',\n",
       "  'default_profile': False,\n",
       "  'default_profile_image': False,\n",
       "  'description': 'Building with AI agents @dair_ai • Prev: Meta AI, Galactica LLM, Elastic, PaperswithCode, PhD • I also teach how to leverage and build with LLMs & AI Agents ⬇️',\n",
       "  'entities': {'description': {'urls': []},\n",
       "   'url': {'urls': [{'display_url': 'dair-ai.thinkific.com',\n",
       "      'expanded_url': 'https://dair-ai.thinkific.com/',\n",
       "      'url': 'https://t.co/JBU5beHQNs',\n",
       "      'indices': [0, 23]}]}},\n",
       "  'fast_followers_count': 0,\n",
       "  'favourites_count': 29049,\n",
       "  'followers_count': 231264,\n",
       "  'friends_count': 576,\n",
       "  'has_custom_timelines': True,\n",
       "  'is_translator': False,\n",
       "  'listed_count': 3891,\n",
       "  'location': '',\n",
       "  'media_count': 2951,\n",
       "  'name': 'elvis',\n",
       "  'normal_followers_count': 231264,\n",
       "  'pinned_tweet_ids_str': ['1893394584903766313'],\n",
       "  'possibly_sensitive': False,\n",
       "  'profile_banner_url': 'https://pbs.twimg.com/profile_banners/3448284313/1565974901',\n",
       "  'profile_image_url_https': 'https://pbs.twimg.com/profile_images/939313677647282181/vZjFWtAn_normal.jpg',\n",
       "  'profile_interstitial_type': '',\n",
       "  'screen_name': 'omarsar0',\n",
       "  'statuses_count': 13380,\n",
       "  'translator_type': 'regular',\n",
       "  'url': 'https://t.co/JBU5beHQNs',\n",
       "  'verified': False,\n",
       "  'withheld_in_countries': []},\n",
       " 'professional': {'rest_id': '1460724937073770505',\n",
       "  'professional_type': 'Creator',\n",
       "  'category': [{'id': 713,\n",
       "    'name': 'Science & Technology',\n",
       "    'icon_name': 'IconBriefcaseStroke'}]},\n",
       " 'tipjar_settings': {'is_enabled': False,\n",
       "  'cash_app_handle': '£elvisomarsaravia'},\n",
       " 'legacy_extended_profile': {},\n",
       " 'is_profile_translatable': False,\n",
       " 'has_hidden_subscriptions_on_profile': False,\n",
       " 'verification_info': {'is_identity_verified': False,\n",
       "  'reason': {'description': {'text': 'This account is verified. Learn more',\n",
       "    'entities': [{'from_index': 26,\n",
       "      'to_index': 36,\n",
       "      'ref': {'url': 'https://help.twitter.com/managing-your-account/about-twitter-verified-accounts',\n",
       "       'url_type': 'ExternalUrl'}}]},\n",
       "   'verified_since_msec': '1668022763049'}},\n",
       " 'highlights_info': {'can_highlight_tweets': True, 'highlighted_tweets': '51'},\n",
       " 'user_seed_tweet_count': 0,\n",
       " 'business_account': {},\n",
       " 'creator_subscriptions_count': 0}"
      ]
     },
     "execution_count": 54,
     "metadata": {},
     "output_type": "execute_result"
    }
   ],
   "source": [
    "user_data"
   ]
  },
  {
   "cell_type": "code",
   "execution_count": 57,
   "metadata": {},
   "outputs": [
    {
     "data": {
      "text/plain": [
       "dict_keys(['__typename', 'id', 'rest_id', 'affiliates_highlighted_label', 'parody_commentary_fan_label', 'is_blue_verified', 'profile_image_shape', 'legacy', 'professional', 'tipjar_settings', 'legacy_extended_profile', 'is_profile_translatable', 'has_hidden_subscriptions_on_profile', 'verification_info', 'highlights_info', 'user_seed_tweet_count', 'business_account', 'creator_subscriptions_count'])"
      ]
     },
     "execution_count": 57,
     "metadata": {},
     "output_type": "execute_result"
    }
   ],
   "source": [
    "user_data.keys()"
   ]
  },
  {
   "cell_type": "code",
   "execution_count": 58,
   "metadata": {},
   "outputs": [
    {
     "data": {
      "text/plain": [
       "[{'display_url': 'dair-ai.thinkific.com',\n",
       "  'expanded_url': 'https://dair-ai.thinkific.com/',\n",
       "  'url': 'https://t.co/JBU5beHQNs',\n",
       "  'indices': [0, 23]}]"
      ]
     },
     "execution_count": 58,
     "metadata": {},
     "output_type": "execute_result"
    }
   ],
   "source": [
    "user_data.get('legacy', {}).get('entities', {}).get('url', {}).get('urls')"
   ]
  },
  {
   "cell_type": "code",
   "execution_count": 55,
   "metadata": {},
   "outputs": [
    {
     "data": {
      "text/plain": [
       "'3448284313'"
      ]
     },
     "execution_count": 55,
     "metadata": {},
     "output_type": "execute_result"
    }
   ],
   "source": [
    "user_data.get('rest_id')"
   ]
  },
  {
   "cell_type": "code",
   "execution_count": 59,
   "metadata": {},
   "outputs": [
    {
     "data": {
      "text/plain": [
       "[]"
      ]
     },
     "execution_count": 59,
     "metadata": {},
     "output_type": "execute_result"
    }
   ],
   "source": [
    "user_data.get('legacy', {}).get('entities', {}).get('description', {}).get('urls')"
   ]
  },
  {
   "cell_type": "code",
   "execution_count": 26,
   "metadata": {},
   "outputs": [
    {
     "data": {
      "text/plain": [
       "True"
      ]
     },
     "execution_count": 26,
     "metadata": {},
     "output_type": "execute_result"
    }
   ],
   "source": [
    "user_data['is_blue_verified']"
   ]
  },
  {
   "cell_type": "code",
   "execution_count": 16,
   "metadata": {},
   "outputs": [],
   "source": [
    "common_keys = user_data['legacy'].keys() & user.__dict__.keys()"
   ]
  },
  {
   "cell_type": "code",
   "execution_count": 20,
   "metadata": {},
   "outputs": [
    {
     "name": "stdout",
     "output_type": "stream",
     "text": [
      "key:entities value:{'description': {'urls': []}, 'url': {'urls': [{'display_url': 'dair-ai.thinkific.com', 'expanded_url': 'https://dair-ai.thinkific.com/', 'url': 'https://t.co/JBU5beHQNs', 'indices': [0, 23]}]}}\n",
      "key:friends_count value:576\n",
      "key:pinned_tweet_ids_str value:['1893394584903766313']\n",
      "key:profile_image_url_https value:https://pbs.twimg.com/profile_images/939313677647282181/vZjFWtAn_normal.jpg\n",
      "key:profile_interstitial_type value:\n"
     ]
    }
   ],
   "source": [
    "for key in user_data['legacy'].keys():\n",
    "    if key not in list(common_keys):\n",
    "        print(f\"key:{key} value:{user_data['legacy'][key]}\")"
   ]
  },
  {
   "cell_type": "code",
   "execution_count": null,
   "metadata": {},
   "outputs": [],
   "source": [
    "profile_image_url"
   ]
  },
  {
   "cell_type": "code",
   "execution_count": 21,
   "metadata": {},
   "outputs": [
    {
     "name": "stdout",
     "output_type": "stream",
     "text": [
      "key:_client value:<twikit.client.client.Client object at 0x7c677ddc5f90>\n",
      "key:id value:3448284313\n",
      "key:profile_image_url value:https://pbs.twimg.com/profile_images/939313677647282181/vZjFWtAn_normal.jpg\n",
      "key:description_urls value:[]\n",
      "key:urls value:[{'display_url': 'dair-ai.thinkific.com', 'expanded_url': 'https://dair-ai.thinkific.com/', 'url': 'https://t.co/JBU5beHQNs', 'indices': [0, 23]}]\n",
      "key:pinned_tweet_ids value:['1893394584903766313']\n",
      "key:is_blue_verified value:True\n",
      "key:can_dm value:True\n",
      "key:can_media_tag value:True\n",
      "key:want_retweets value:False\n",
      "key:following_count value:576\n",
      "key:protected value:False\n"
     ]
    }
   ],
   "source": [
    "for key in user.__dict__.keys():\n",
    "    if key not in list(common_keys):\n",
    "        print(f\"key:{key} value:{user.__dict__[key]}\")"
   ]
  },
  {
   "cell_type": "code",
   "execution_count": 15,
   "metadata": {},
   "outputs": [
    {
     "data": {
      "text/plain": [
       "{'created_at': 'Fri Sep 04 12:59:26 +0000 2015',\n",
       " 'default_profile': False,\n",
       " 'default_profile_image': False,\n",
       " 'description': 'Building with AI agents @dair_ai • Prev: Meta AI, Galactica LLM, Elastic, PaperswithCode, PhD • I also teach how to leverage and build with LLMs & AI Agents ⬇️',\n",
       " 'entities': {'description': {'urls': []},\n",
       "  'url': {'urls': [{'display_url': 'dair-ai.thinkific.com',\n",
       "     'expanded_url': 'https://dair-ai.thinkific.com/',\n",
       "     'url': 'https://t.co/JBU5beHQNs',\n",
       "     'indices': [0, 23]}]}},\n",
       " 'fast_followers_count': 0,\n",
       " 'favourites_count': 29049,\n",
       " 'followers_count': 231264,\n",
       " 'friends_count': 576,\n",
       " 'has_custom_timelines': True,\n",
       " 'is_translator': False,\n",
       " 'listed_count': 3891,\n",
       " 'location': '',\n",
       " 'media_count': 2951,\n",
       " 'name': 'elvis',\n",
       " 'normal_followers_count': 231264,\n",
       " 'pinned_tweet_ids_str': ['1893394584903766313'],\n",
       " 'possibly_sensitive': False,\n",
       " 'profile_banner_url': 'https://pbs.twimg.com/profile_banners/3448284313/1565974901',\n",
       " 'profile_image_url_https': 'https://pbs.twimg.com/profile_images/939313677647282181/vZjFWtAn_normal.jpg',\n",
       " 'profile_interstitial_type': '',\n",
       " 'screen_name': 'omarsar0',\n",
       " 'statuses_count': 13380,\n",
       " 'translator_type': 'regular',\n",
       " 'url': 'https://t.co/JBU5beHQNs',\n",
       " 'verified': False,\n",
       " 'withheld_in_countries': []}"
      ]
     },
     "execution_count": 15,
     "metadata": {},
     "output_type": "execute_result"
    }
   ],
   "source": [
    "user_data['legacy']"
   ]
  },
  {
   "cell_type": "code",
   "execution_count": 5,
   "metadata": {},
   "outputs": [
    {
     "data": {
      "text/plain": [
       "{'_client': <twikit.client.client.Client at 0x7c677ddc5f90>,\n",
       " 'id': '3448284313',\n",
       " 'created_at': 'Fri Sep 04 12:59:26 +0000 2015',\n",
       " 'name': 'elvis',\n",
       " 'screen_name': 'omarsar0',\n",
       " 'profile_image_url': 'https://pbs.twimg.com/profile_images/939313677647282181/vZjFWtAn_normal.jpg',\n",
       " 'profile_banner_url': 'https://pbs.twimg.com/profile_banners/3448284313/1565974901',\n",
       " 'url': 'https://t.co/JBU5beHQNs',\n",
       " 'location': '',\n",
       " 'description': 'Building with AI agents @dair_ai • Prev: Meta AI, Galactica LLM, Elastic, PaperswithCode, PhD • I also teach how to leverage and build with LLMs & AI Agents ⬇️',\n",
       " 'description_urls': [],\n",
       " 'urls': [{'display_url': 'dair-ai.thinkific.com',\n",
       "   'expanded_url': 'https://dair-ai.thinkific.com/',\n",
       "   'url': 'https://t.co/JBU5beHQNs',\n",
       "   'indices': [0, 23]}],\n",
       " 'pinned_tweet_ids': ['1893394584903766313'],\n",
       " 'is_blue_verified': True,\n",
       " 'verified': False,\n",
       " 'possibly_sensitive': False,\n",
       " 'can_dm': True,\n",
       " 'can_media_tag': True,\n",
       " 'want_retweets': False,\n",
       " 'default_profile': False,\n",
       " 'default_profile_image': False,\n",
       " 'has_custom_timelines': True,\n",
       " 'followers_count': 231264,\n",
       " 'fast_followers_count': 0,\n",
       " 'normal_followers_count': 231264,\n",
       " 'following_count': 576,\n",
       " 'favourites_count': 29049,\n",
       " 'listed_count': 3891,\n",
       " 'media_count': 2951,\n",
       " 'statuses_count': 13380,\n",
       " 'is_translator': False,\n",
       " 'translator_type': 'regular',\n",
       " 'withheld_in_countries': [],\n",
       " 'protected': False}"
      ]
     },
     "execution_count": 5,
     "metadata": {},
     "output_type": "execute_result"
    }
   ],
   "source": [
    "user.__dict__"
   ]
  },
  {
   "cell_type": "code",
   "execution_count": 10,
   "metadata": {},
   "outputs": [
    {
     "data": {
      "text/plain": [
       "'3448284313'"
      ]
     },
     "execution_count": 10,
     "metadata": {},
     "output_type": "execute_result"
    }
   ],
   "source": [
    "user.id"
   ]
  },
  {
   "cell_type": "code",
   "execution_count": 11,
   "metadata": {},
   "outputs": [
    {
     "name": "stdout",
     "output_type": "stream",
     "text": [
      "2025-02-24 16:04:21,745 [\u001b[0;32mINFO\u001b[0m] :: HTTP Request: GET https://x.com/i/api/graphql/tD8zKvQzwY3kdx5yz6YmOw/UserByRestId?variables=%7B%22userId%22%3A+%223448284313%22%2C+%22withSafetyModeUserFields%22%3A+true%7D&features=%7B%22hidden_profile_likes_enabled%22%3A+true%2C+%22hidden_profile_subscriptions_enabled%22%3A+true%2C+%22responsive_web_graphql_exclude_directive_enabled%22%3A+true%2C+%22verified_phone_label_enabled%22%3A+false%2C+%22subscriptions_verification_info_is_identity_verified_enabled%22%3A+true%2C+%22subscriptions_verification_info_verified_since_enabled%22%3A+true%2C+%22highlights_tweets_tab_ui_enabled%22%3A+true%2C+%22responsive_web_twitter_article_notes_tab_enabled%22%3A+false%2C+%22creator_subscriptions_tweet_preview_api_enabled%22%3A+true%2C+%22responsive_web_graphql_skip_user_profile_image_extensions_enabled%22%3A+false%2C+%22responsive_web_graphql_timeline_navigation_enabled%22%3A+true%7D \"HTTP/1.1 200 OK\"\n"
     ]
    }
   ],
   "source": [
    "user2 = await client.get_user_by_id('3448284313')"
   ]
  },
  {
   "cell_type": "code",
   "execution_count": 13,
   "metadata": {},
   "outputs": [
    {
     "data": {
      "text/plain": [
       "{'_client': <twikit.client.client.Client at 0x7c677ddc5f90>,\n",
       " 'id': '3448284313',\n",
       " 'created_at': 'Fri Sep 04 12:59:26 +0000 2015',\n",
       " 'name': 'elvis',\n",
       " 'screen_name': 'omarsar0',\n",
       " 'profile_image_url': 'https://pbs.twimg.com/profile_images/939313677647282181/vZjFWtAn_normal.jpg',\n",
       " 'profile_banner_url': 'https://pbs.twimg.com/profile_banners/3448284313/1565974901',\n",
       " 'url': 'https://t.co/JBU5beHQNs',\n",
       " 'location': '',\n",
       " 'description': 'Building with AI agents @dair_ai • Prev: Meta AI, Galactica LLM, Elastic, PaperswithCode, PhD • I also teach how to leverage and build with LLMs & AI Agents ⬇️',\n",
       " 'description_urls': [],\n",
       " 'urls': [{'display_url': 'dair-ai.thinkific.com',\n",
       "   'expanded_url': 'https://dair-ai.thinkific.com/',\n",
       "   'url': 'https://t.co/JBU5beHQNs',\n",
       "   'indices': [0, 23]}],\n",
       " 'pinned_tweet_ids': ['1893394584903766313'],\n",
       " 'is_blue_verified': True,\n",
       " 'verified': False,\n",
       " 'possibly_sensitive': False,\n",
       " 'can_dm': True,\n",
       " 'can_media_tag': True,\n",
       " 'want_retweets': False,\n",
       " 'default_profile': False,\n",
       " 'default_profile_image': False,\n",
       " 'has_custom_timelines': True,\n",
       " 'followers_count': 231264,\n",
       " 'fast_followers_count': 0,\n",
       " 'normal_followers_count': 231264,\n",
       " 'following_count': 576,\n",
       " 'favourites_count': 29049,\n",
       " 'listed_count': 3891,\n",
       " 'media_count': 2951,\n",
       " 'statuses_count': 13380,\n",
       " 'is_translator': False,\n",
       " 'translator_type': 'regular',\n",
       " 'withheld_in_countries': [],\n",
       " 'protected': False}"
      ]
     },
     "execution_count": 13,
     "metadata": {},
     "output_type": "execute_result"
    }
   ],
   "source": [
    "user2.__dict__"
   ]
  },
  {
   "cell_type": "code",
   "execution_count": 12,
   "metadata": {},
   "outputs": [
    {
     "data": {
      "text/plain": [
       "<User id=\"3448284313\">"
      ]
     },
     "execution_count": 12,
     "metadata": {},
     "output_type": "execute_result"
    }
   ],
   "source": [
    "user2"
   ]
  },
  {
   "cell_type": "code",
   "execution_count": null,
   "metadata": {},
   "outputs": [],
   "source": [
    "user = await client.get_user_by_screen_name('omarsar0')"
   ]
  },
  {
   "cell_type": "code",
   "execution_count": null,
   "metadata": {},
   "outputs": [],
   "source": [
    "async def async_search_tweets( \n",
    "    query: str,\n",
    "    product: Literal['Top', 'Latest', 'Media'],\n",
    "    count: int = 20,\n",
    "    cursor: str | None = None\n",
    ") -> Coroutine[Any, Any, Result[Tweet]]):\n",
    "    attempt = 0\n",
    "    \n",
    "    while attempt < self.max_retires:\n",
    "        try:\n",
    "            return client.search_tweet('llm reasoning', 'Latest')\n",
    "        except:\n",
    "            attempt += 1\n",
    "    return None"
   ]
  },
  {
   "cell_type": "code",
   "execution_count": 70,
   "metadata": {},
   "outputs": [
    {
     "data": {
      "text/plain": [
       "dict_keys(['__typename', 'rest_id', 'core', 'unmention_data', 'edit_control', 'is_translatable', 'views', 'source', 'grok_analysis_button', 'legacy'])"
      ]
     },
     "execution_count": 70,
     "metadata": {},
     "output_type": "execute_result"
    }
   ],
   "source": [
    "tweet_data['data']['tweetResult']['result'].keys()"
   ]
  },
  {
   "cell_type": "code",
   "execution_count": 63,
   "metadata": {},
   "outputs": [
    {
     "data": {
      "text/plain": [
       "dict_keys(['__typename', 'rest_id', 'core', 'unmention_data', 'edit_control', 'is_translatable', 'views', 'source', 'grok_analysis_button', 'legacy'])"
      ]
     },
     "execution_count": 63,
     "metadata": {},
     "output_type": "execute_result"
    }
   ],
   "source": [
    "tweet_data['data']['tweetResult']['result'].keys()"
   ]
  },
  {
   "cell_type": "code",
   "execution_count": 77,
   "metadata": {},
   "outputs": [
    {
     "data": {
      "text/plain": [
       "{'count': '5888', 'state': 'EnabledWithCount'}"
      ]
     },
     "execution_count": 77,
     "metadata": {},
     "output_type": "execute_result"
    }
   ],
   "source": [
    "tweet_data['data']['tweetResult']['result']['views']"
   ]
  },
  {
   "cell_type": "code",
   "execution_count": 83,
   "metadata": {},
   "outputs": [
    {
     "data": {
      "text/plain": [
       "dict_keys(['__typename', 'id', 'rest_id', 'affiliates_highlighted_label', 'parody_commentary_fan_label', 'is_blue_verified', 'profile_image_shape', 'legacy', 'professional', 'tipjar_settings'])"
      ]
     },
     "execution_count": 83,
     "metadata": {},
     "output_type": "execute_result"
    }
   ],
   "source": [
    "tweet_data['data']['tweetResult']['result']['core']['user_results']['result'].keys()"
   ]
  },
  {
   "cell_type": "code",
   "execution_count": null,
   "metadata": {},
   "outputs": [
    {
     "data": {
      "text/plain": [
       "{'user_results': {'result': {'__typename': 'User',\n",
       "   'id': 'VXNlcjozNDQ4Mjg0MzEz',\n",
       "   'rest_id': '3448284313',\n",
       "   'affiliates_highlighted_label': {},\n",
       "   'parody_commentary_fan_label': 'None',\n",
       "   'is_blue_verified': True,\n",
       "   'profile_image_shape': 'Circle',\n",
       "   'legacy': {'created_at': 'Fri Sep 04 12:59:26 +0000 2015',\n",
       "    'default_profile': False,\n",
       "    'default_profile_image': False,\n",
       "    'description': 'Building with AI agents @dair_ai • Prev: Meta AI, Galactica LLM, Elastic, PaperswithCode, PhD • I also teach how to leverage and build with LLMs & AI Agents ⬇️',\n",
       "    'entities': {'description': {'urls': []},\n",
       "     'url': {'urls': [{'display_url': 'dair-ai.thinkific.com',\n",
       "        'expanded_url': 'https://dair-ai.thinkific.com/',\n",
       "        'url': 'https://t.co/JBU5beHQNs',\n",
       "        'indices': [0, 23]}]}},\n",
       "    'fast_followers_count': 0,\n",
       "    'favourites_count': 29049,\n",
       "    'followers_count': 231264,\n",
       "    'friends_count': 576,\n",
       "    'has_custom_timelines': True,\n",
       "    'is_translator': False,\n",
       "    'listed_count': 3891,\n",
       "    'location': '',\n",
       "    'media_count': 2951,\n",
       "    'name': 'elvis',\n",
       "    'normal_followers_count': 231264,\n",
       "    'pinned_tweet_ids_str': ['1893394584903766313'],\n",
       "    'possibly_sensitive': False,\n",
       "    'profile_banner_url': 'https://pbs.twimg.com/profile_banners/3448284313/1565974901',\n",
       "    'profile_image_url_https': 'https://pbs.twimg.com/profile_images/939313677647282181/vZjFWtAn_normal.jpg',\n",
       "    'profile_interstitial_type': '',\n",
       "    'screen_name': 'omarsar0',\n",
       "    'statuses_count': 13380,\n",
       "    'translator_type': 'regular',\n",
       "    'url': 'https://t.co/JBU5beHQNs',\n",
       "    'verified': False,\n",
       "    'withheld_in_countries': []},\n",
       "   'professional': {'rest_id': '1460724937073770505',\n",
       "    'professional_type': 'Creator',\n",
       "    'category': [{'id': 713,\n",
       "      'name': 'Science & Technology',\n",
       "      'icon_name': 'IconBriefcaseStroke'}]},\n",
       "   'tipjar_settings': {'is_enabled': False,\n",
       "    'cash_app_handle': '£elvisomarsaravia'}}}}"
      ]
     },
     "execution_count": 80,
     "metadata": {},
     "output_type": "execute_result"
    }
   ],
   "source": [
    "acct_data = tweet_data['data']['tweetResult']['result']['core']"
   ]
  },
  {
   "cell_type": "code",
   "execution_count": 96,
   "metadata": {},
   "outputs": [],
   "source": [
    "tweet_data_1 = tweet_data['data']['tweetResult']['result']['legacy']"
   ]
  },
  {
   "cell_type": "code",
   "execution_count": null,
   "metadata": {},
   "outputs": [
    {
     "data": {
      "text/plain": [
       "dict_keys(['_client', '_data', '_legacy', 'user', 'replies', 'reply_to', 'related_tweets', 'thread'])"
      ]
     },
     "execution_count": 30,
     "metadata": {},
     "output_type": "execute_result"
    }
   ],
   "source": [
    "tweet.__dict__.keys()"
   ]
  },
  {
   "cell_type": "code",
   "execution_count": 95,
   "metadata": {},
   "outputs": [
    {
     "data": {
      "text/plain": [
       "{'bookmark_count': 89,\n",
       " 'bookmarked': False,\n",
       " 'created_at': 'Fri Feb 21 14:32:02 +0000 2025',\n",
       " 'conversation_id_str': '1892945381174210933',\n",
       " 'display_text_range': [0, 279],\n",
       " 'entities': {'hashtags': [],\n",
       "  'media': [{'display_url': 'pic.x.com/uCjUp1JVSe',\n",
       "    'expanded_url': 'https://x.com/omarsar0/status/1892945381174210933/photo/1',\n",
       "    'id_str': '1892945377290047489',\n",
       "    'indices': [280, 303],\n",
       "    'media_key': '3_1892945377290047489',\n",
       "    'media_url_https': 'https://pbs.twimg.com/media/GkUXypiXUAE7TNX.png',\n",
       "    'type': 'photo',\n",
       "    'url': 'https://t.co/uCjUp1JVSe',\n",
       "    'ext_media_availability': {'status': 'Available'},\n",
       "    'features': {'large': {'faces': []},\n",
       "     'medium': {'faces': []},\n",
       "     'small': {'faces': []},\n",
       "     'orig': {'faces': []}},\n",
       "    'sizes': {'large': {'h': 843, 'w': 775, 'resize': 'fit'},\n",
       "     'medium': {'h': 843, 'w': 775, 'resize': 'fit'},\n",
       "     'small': {'h': 680, 'w': 625, 'resize': 'fit'},\n",
       "     'thumb': {'h': 150, 'w': 150, 'resize': 'crop'}},\n",
       "    'original_info': {'height': 843,\n",
       "     'width': 775,\n",
       "     'focus_rects': [{'x': 0, 'y': 0, 'w': 775, 'h': 434},\n",
       "      {'x': 0, 'y': 0, 'w': 775, 'h': 775},\n",
       "      {'x': 0, 'y': 0, 'w': 739, 'h': 843},\n",
       "      {'x': 62, 'y': 0, 'w': 422, 'h': 843},\n",
       "      {'x': 0, 'y': 0, 'w': 775, 'h': 843}]}}],\n",
       "  'symbols': [],\n",
       "  'timestamps': [],\n",
       "  'urls': [],\n",
       "  'user_mentions': []},\n",
       " 'extended_entities': {'media': [{'display_url': 'pic.x.com/uCjUp1JVSe',\n",
       "    'expanded_url': 'https://x.com/omarsar0/status/1892945381174210933/photo/1',\n",
       "    'id_str': '1892945377290047489',\n",
       "    'indices': [280, 303],\n",
       "    'media_key': '3_1892945377290047489',\n",
       "    'media_url_https': 'https://pbs.twimg.com/media/GkUXypiXUAE7TNX.png',\n",
       "    'type': 'photo',\n",
       "    'url': 'https://t.co/uCjUp1JVSe',\n",
       "    'ext_media_availability': {'status': 'Available'},\n",
       "    'features': {'large': {'faces': []},\n",
       "     'medium': {'faces': []},\n",
       "     'small': {'faces': []},\n",
       "     'orig': {'faces': []}},\n",
       "    'sizes': {'large': {'h': 843, 'w': 775, 'resize': 'fit'},\n",
       "     'medium': {'h': 843, 'w': 775, 'resize': 'fit'},\n",
       "     'small': {'h': 680, 'w': 625, 'resize': 'fit'},\n",
       "     'thumb': {'h': 150, 'w': 150, 'resize': 'crop'}},\n",
       "    'original_info': {'height': 843,\n",
       "     'width': 775,\n",
       "     'focus_rects': [{'x': 0, 'y': 0, 'w': 775, 'h': 434},\n",
       "      {'x': 0, 'y': 0, 'w': 775, 'h': 775},\n",
       "      {'x': 0, 'y': 0, 'w': 739, 'h': 843},\n",
       "      {'x': 62, 'y': 0, 'w': 422, 'h': 843},\n",
       "      {'x': 0, 'y': 0, 'w': 775, 'h': 843}]}}]},\n",
       " 'favorite_count': 123,\n",
       " 'favorited': False,\n",
       " 'full_text': 'Optimizing Model Selection for Compound AI Systems\\n\\nBuilding with multiple LLMs to solve complex tasks is becoming more common.\\n\\nIn a compound system, which LLM do you select for each call?\\n\\nResearchers from Microsoft Research and collaborators introduce LLMSelector, a framework https://t.co/uCjUp1JVSe',\n",
       " 'is_quote_status': False,\n",
       " 'lang': 'en',\n",
       " 'possibly_sensitive': False,\n",
       " 'possibly_sensitive_editable': True,\n",
       " 'quote_count': 4,\n",
       " 'reply_count': 2,\n",
       " 'retweet_count': 26,\n",
       " 'retweeted': False,\n",
       " 'user_id_str': '3448284313',\n",
       " 'id_str': '1892945381174210933'}"
      ]
     },
     "execution_count": 95,
     "metadata": {},
     "output_type": "execute_result"
    }
   ],
   "source": [
    "tweet.__dict__['_legacy']"
   ]
  },
  {
   "cell_type": "code",
   "execution_count": null,
   "metadata": {},
   "outputs": [],
   "source": [
    "tweet.__dict__['_legacy']"
   ]
  },
  {
   "cell_type": "code",
   "execution_count": null,
   "metadata": {},
   "outputs": [],
   "source": [
    "tweet_data['data']['tweetResult']['result']"
   ]
  },
  {
   "cell_type": "code",
   "execution_count": null,
   "metadata": {},
   "outputs": [
    {
     "data": {
      "text/plain": [
       "dict_keys(['__typename', 'rest_id', 'core', 'unmention_data', 'edit_control', 'is_translatable', 'views', 'source', 'note_tweet', 'legacy', 'quick_promote_eligibility'])"
      ]
     },
     "execution_count": 92,
     "metadata": {},
     "output_type": "execute_result"
    }
   ],
   "source": [
    "tweet.__dict__['_data'].keys()"
   ]
  },
  {
   "cell_type": "code",
   "execution_count": 111,
   "metadata": {},
   "outputs": [],
   "source": [
    "tweet_id = \"1893737780246700386\""
   ]
  },
  {
   "cell_type": "code",
   "execution_count": 112,
   "metadata": {},
   "outputs": [
    {
     "name": "stderr",
     "output_type": "stream",
     "text": [
      "/home/jiezi/miniconda3/envs/ai4fun/lib/python3.10/site-packages/urllib3/connectionpool.py:1097: InsecureRequestWarning: Unverified HTTPS request is being made to host 'x.com'. Adding certificate verification is strongly advised. See: https://urllib3.readthedocs.io/en/latest/advanced-usage.html#tls-warnings\n",
      "  warnings.warn(\n"
     ]
    },
    {
     "name": "stdout",
     "output_type": "stream",
     "text": [
      "2025-02-24 18:00:22,004 [\u001b[1;31mERROR\u001b[0m] :: Error code 239 - Bad guest token\n",
      "\n",
      "Traceback (most recent call last):\n",
      "  File \"/home/jiezi/miniconda3/envs/ai4fun/lib/python3.10/site-packages/tweeterpy/utils/request.py\", line 40, in request\n",
      "    return util.check_for_errors(response)\n",
      "  File \"/home/jiezi/miniconda3/envs/ai4fun/lib/python3.10/site-packages/tweeterpy/util.py\", line 139, in check_for_errors\n",
      "    raise Exception(error_message)\n",
      "Exception: Error code 239 - Bad guest token\n"
     ]
    },
    {
     "name": "stderr",
     "output_type": "stream",
     "text": [
      "/home/jiezi/miniconda3/envs/ai4fun/lib/python3.10/site-packages/urllib3/connectionpool.py:1097: InsecureRequestWarning: Unverified HTTPS request is being made to host 'x.com'. Adding certificate verification is strongly advised. See: https://urllib3.readthedocs.io/en/latest/advanced-usage.html#tls-warnings\n",
      "  warnings.warn(\n",
      "/home/jiezi/miniconda3/envs/ai4fun/lib/python3.10/site-packages/urllib3/connectionpool.py:1097: InsecureRequestWarning: Unverified HTTPS request is being made to host 'twitter.com'. Adding certificate verification is strongly advised. See: https://urllib3.readthedocs.io/en/latest/advanced-usage.html#tls-warnings\n",
      "  warnings.warn(\n",
      "/home/jiezi/miniconda3/envs/ai4fun/lib/python3.10/site-packages/urllib3/connectionpool.py:1097: InsecureRequestWarning: Unverified HTTPS request is being made to host 'x.com'. Adding certificate verification is strongly advised. See: https://urllib3.readthedocs.io/en/latest/advanced-usage.html#tls-warnings\n",
      "  warnings.warn(\n",
      "/home/jiezi/miniconda3/envs/ai4fun/lib/python3.10/site-packages/urllib3/connectionpool.py:1097: InsecureRequestWarning: Unverified HTTPS request is being made to host 'x.com'. Adding certificate verification is strongly advised. See: https://urllib3.readthedocs.io/en/latest/advanced-usage.html#tls-warnings\n",
      "  warnings.warn(\n",
      "/home/jiezi/miniconda3/envs/ai4fun/lib/python3.10/site-packages/urllib3/connectionpool.py:1097: InsecureRequestWarning: Unverified HTTPS request is being made to host 'api.x.com'. Adding certificate verification is strongly advised. See: https://urllib3.readthedocs.io/en/latest/advanced-usage.html#tls-warnings\n",
      "  warnings.warn(\n"
     ]
    },
    {
     "name": "stdout",
     "output_type": "stream",
     "text": [
      "2025-02-24 18:00:28,876 [\u001b[0;33mWARNING\u001b[0m] :: Skipping API Updates. Couldn't get the latest API data.\n",
      "2025-02-24 18:00:28,879 [\u001b[0;32mINFO\u001b[0m] :: API Updated Successfully.\n"
     ]
    },
    {
     "name": "stderr",
     "output_type": "stream",
     "text": [
      "/home/jiezi/miniconda3/envs/ai4fun/lib/python3.10/site-packages/urllib3/connectionpool.py:1097: InsecureRequestWarning: Unverified HTTPS request is being made to host 'x.com'. Adding certificate verification is strongly advised. See: https://urllib3.readthedocs.io/en/latest/advanced-usage.html#tls-warnings\n",
      "  warnings.warn(\n",
      "/home/jiezi/miniconda3/envs/ai4fun/lib/python3.10/site-packages/urllib3/connectionpool.py:1097: InsecureRequestWarning: Unverified HTTPS request is being made to host 'x.com'. Adding certificate verification is strongly advised. See: https://urllib3.readthedocs.io/en/latest/advanced-usage.html#tls-warnings\n",
      "  warnings.warn(\n"
     ]
    }
   ],
   "source": [
    "tweet_info = tw_client_1.get_tweet_by_id(tweet_id)\n",
    "tweet_data_1 = tweet_info['data']['tweetResult']['result']['legacy']\n"
   ]
  },
  {
   "cell_type": "code",
   "execution_count": null,
   "metadata": {},
   "outputs": [],
   "source": [
    "tweet_data_1"
   ]
  },
  {
   "cell_type": "code",
   "execution_count": 115,
   "metadata": {},
   "outputs": [
    {
     "name": "stdout",
     "output_type": "stream",
     "text": [
      "2025-02-24 18:01:58,469 [\u001b[0;32mINFO\u001b[0m] :: HTTP Request: GET https://x.com/i/api/graphql/U0HTv-bAWTBYylwEMT7x5A/TweetDetail?variables=%7B%22focalTweetId%22%3A+%221893737780246700386%22%2C+%22with_rux_injections%22%3A+false%2C+%22includePromotedContent%22%3A+true%2C+%22withCommunity%22%3A+true%2C+%22withQuickPromoteEligibilityTweetFields%22%3A+true%2C+%22withBirdwatchNotes%22%3A+true%2C+%22withVoice%22%3A+true%2C+%22withV2Timeline%22%3A+true%7D&features=%7B%22creator_subscriptions_tweet_preview_api_enabled%22%3A+true%2C+%22c9s_tweet_anatomy_moderator_badge_enabled%22%3A+true%2C+%22tweetypie_unmention_optimization_enabled%22%3A+true%2C+%22responsive_web_edit_tweet_api_enabled%22%3A+true%2C+%22graphql_is_translatable_rweb_tweet_is_translatable_enabled%22%3A+true%2C+%22view_counts_everywhere_api_enabled%22%3A+true%2C+%22longform_notetweets_consumption_enabled%22%3A+true%2C+%22responsive_web_twitter_article_tweet_consumption_enabled%22%3A+true%2C+%22tweet_awards_web_tipping_enabled%22%3A+false%2C+%22longform_notetweets_rich_text_read_enabled%22%3A+true%2C+%22longform_notetweets_inline_media_enabled%22%3A+true%2C+%22rweb_video_timestamps_enabled%22%3A+true%2C+%22responsive_web_graphql_exclude_directive_enabled%22%3A+true%2C+%22verified_phone_label_enabled%22%3A+false%2C+%22freedom_of_speech_not_reach_fetch_enabled%22%3A+true%2C+%22standardized_nudges_misinfo%22%3A+true%2C+%22tweet_with_visibility_results_prefer_gql_limited_actions_policy_enabled%22%3A+true%2C+%22responsive_web_media_download_video_enabled%22%3A+false%2C+%22responsive_web_graphql_skip_user_profile_image_extensions_enabled%22%3A+false%2C+%22responsive_web_graphql_timeline_navigation_enabled%22%3A+true%2C+%22responsive_web_enhance_cards_enabled%22%3A+false%7D&fieldToggles=%7B%22withAuxiliaryUserLabels%22%3A+false%7D \"HTTP/1.1 200 OK\"\n"
     ]
    }
   ],
   "source": [
    "tweet_info2 = await client.get_tweet_by_id(tweet_id)\n",
    "tweet_data_2 = tweet_info2.__dict__['_data']['legacy']"
   ]
  },
  {
   "cell_type": "code",
   "execution_count": 117,
   "metadata": {},
   "outputs": [
    {
     "data": {
      "text/plain": [
       "dict_keys(['_client', '_data', '_legacy', 'user', 'replies', 'reply_to', 'related_tweets', 'thread'])"
      ]
     },
     "execution_count": 117,
     "metadata": {},
     "output_type": "execute_result"
    }
   ],
   "source": [
    "tweet_info2.__dict__.keys()"
   ]
  },
  {
   "cell_type": "code",
   "execution_count": 127,
   "metadata": {},
   "outputs": [
    {
     "data": {
      "text/plain": [
       "[<Tweet id=\"1893736193432359239\">]"
      ]
     },
     "execution_count": 127,
     "metadata": {},
     "output_type": "execute_result"
    }
   ],
   "source": [
    "tweet_info2.__dict__['reply_to']"
   ]
  },
  {
   "cell_type": "code",
   "execution_count": 124,
   "metadata": {},
   "outputs": [
    {
     "data": {
      "text/plain": [
       "{'_client': <twikit.client.client.Client at 0x7c677ddc5f90>,\n",
       " '_data': {'__typename': 'Tweet',\n",
       "  'rest_id': '1893736193432359239',\n",
       "  'has_birdwatch_notes': False,\n",
       "  'core': {'user_results': {'result': {'__typename': 'User',\n",
       "     'id': 'VXNlcjoxODY0MjA1NTE=',\n",
       "     'rest_id': '186420551',\n",
       "     'affiliates_highlighted_label': {},\n",
       "     'has_graduated_access': True,\n",
       "     'is_blue_verified': True,\n",
       "     'profile_image_shape': 'Circle',\n",
       "     'legacy': {'can_dm': True,\n",
       "      'can_media_tag': True,\n",
       "      'created_at': 'Fri Sep 03 12:25:12 +0000 2010',\n",
       "      'default_profile': False,\n",
       "      'default_profile_image': False,\n",
       "      'description': 'Co-founder & CEO @HuggingFace 🤗, the open and collaborative platform for AI builders',\n",
       "      'entities': {'description': {'urls': []},\n",
       "       'url': {'urls': [{'display_url': 'huggingface.co/clem',\n",
       "          'expanded_url': 'http://huggingface.co/clem',\n",
       "          'url': 'https://t.co/7OMlqfI2Rh',\n",
       "          'indices': [0, 23]}]}},\n",
       "      'fast_followers_count': 0,\n",
       "      'favourites_count': 7834,\n",
       "      'followers_count': 127606,\n",
       "      'friends_count': 4639,\n",
       "      'has_custom_timelines': True,\n",
       "      'is_translator': False,\n",
       "      'listed_count': 2218,\n",
       "      'location': 'Miami / New York / Paris',\n",
       "      'media_count': 2319,\n",
       "      'name': 'clem 🤗',\n",
       "      'normal_followers_count': 127606,\n",
       "      'pinned_tweet_ids_str': ['1811675386368966682'],\n",
       "      'possibly_sensitive': False,\n",
       "      'profile_banner_url': 'https://pbs.twimg.com/profile_banners/186420551/1731168567',\n",
       "      'profile_image_url_https': 'https://pbs.twimg.com/profile_images/1100512198139498497/utHSJ4st_normal.png',\n",
       "      'profile_interstitial_type': '',\n",
       "      'screen_name': 'ClementDelangue',\n",
       "      'statuses_count': 24926,\n",
       "      'translator_type': 'none',\n",
       "      'url': 'https://t.co/7OMlqfI2Rh',\n",
       "      'verified': False,\n",
       "      'want_retweets': False,\n",
       "      'withheld_in_countries': []},\n",
       "     'professional': {'rest_id': '1509481775881461762',\n",
       "      'professional_type': 'Creator',\n",
       "      'category': [{'id': 713,\n",
       "        'name': 'Science & Technology',\n",
       "        'icon_name': 'IconBriefcaseStroke'}]}}}},\n",
       "  'unmention_data': {},\n",
       "  'edit_control': {'edit_tweet_ids': ['1893736193432359239'],\n",
       "   'editable_until_msecs': '1740340467000',\n",
       "   'is_edit_eligible': True,\n",
       "   'edits_remaining': '5'},\n",
       "  'is_translatable': False,\n",
       "  'views': {'count': '34272', 'state': 'EnabledWithCount'},\n",
       "  'source': '<a href=\"https://mobile.twitter.com\" rel=\"nofollow\">Twitter Web App</a>',\n",
       "  'legacy': {'bookmark_count': 51,\n",
       "   'bookmarked': False,\n",
       "   'created_at': 'Sun Feb 23 18:54:27 +0000 2025',\n",
       "   'conversation_id_str': '1893736193432359239',\n",
       "   'display_text_range': [0, 124],\n",
       "   'entities': {'hashtags': [],\n",
       "    'media': [{'display_url': 'pic.x.com/GgH93FUMw0',\n",
       "      'expanded_url': 'https://x.com/ClementDelangue/status/1893736193432359239/photo/1',\n",
       "      'id_str': '1893736142081556480',\n",
       "      'indices': [125, 148],\n",
       "      'media_key': '3_1893736142081556480',\n",
       "      'media_url_https': 'https://pbs.twimg.com/media/Gkfm_N8XAAAZP6D.jpg',\n",
       "      'type': 'photo',\n",
       "      'url': 'https://t.co/GgH93FUMw0',\n",
       "      'ext_media_availability': {'status': 'Available'},\n",
       "      'features': {'large': {'faces': [{'x': 645,\n",
       "          'y': 513,\n",
       "          'h': 83,\n",
       "          'w': 83}]},\n",
       "       'medium': {'faces': [{'x': 378, 'y': 300, 'h': 48, 'w': 48}]},\n",
       "       'small': {'faces': [{'x': 214, 'y': 170, 'h': 27, 'w': 27}]},\n",
       "       'orig': {'faces': [{'x': 874, 'y': 695, 'h': 113, 'w': 113}]}},\n",
       "      'sizes': {'large': {'h': 1033, 'w': 2048, 'resize': 'fit'},\n",
       "       'medium': {'h': 605, 'w': 1200, 'resize': 'fit'},\n",
       "       'small': {'h': 343, 'w': 680, 'resize': 'fit'},\n",
       "       'thumb': {'h': 150, 'w': 150, 'resize': 'crop'}},\n",
       "      'original_info': {'height': 1398,\n",
       "       'width': 2772,\n",
       "       'focus_rects': [{'x': 276, 'y': 0, 'w': 2496, 'h': 1398},\n",
       "        {'x': 1310, 'y': 0, 'w': 1398, 'h': 1398},\n",
       "        {'x': 1396, 'y': 0, 'w': 1226, 'h': 1398},\n",
       "        {'x': 1660, 'y': 0, 'w': 699, 'h': 1398},\n",
       "        {'x': 0, 'y': 0, 'w': 2772, 'h': 1398}]}}],\n",
       "    'symbols': [],\n",
       "    'timestamps': [],\n",
       "    'urls': [],\n",
       "    'user_mentions': []},\n",
       "   'extended_entities': {'media': [{'display_url': 'pic.x.com/GgH93FUMw0',\n",
       "      'expanded_url': 'https://x.com/ClementDelangue/status/1893736193432359239/photo/1',\n",
       "      'id_str': '1893736142081556480',\n",
       "      'indices': [125, 148],\n",
       "      'media_key': '3_1893736142081556480',\n",
       "      'media_url_https': 'https://pbs.twimg.com/media/Gkfm_N8XAAAZP6D.jpg',\n",
       "      'type': 'photo',\n",
       "      'url': 'https://t.co/GgH93FUMw0',\n",
       "      'ext_media_availability': {'status': 'Available'},\n",
       "      'features': {'large': {'faces': [{'x': 645,\n",
       "          'y': 513,\n",
       "          'h': 83,\n",
       "          'w': 83}]},\n",
       "       'medium': {'faces': [{'x': 378, 'y': 300, 'h': 48, 'w': 48}]},\n",
       "       'small': {'faces': [{'x': 214, 'y': 170, 'h': 27, 'w': 27}]},\n",
       "       'orig': {'faces': [{'x': 874, 'y': 695, 'h': 113, 'w': 113}]}},\n",
       "      'sizes': {'large': {'h': 1033, 'w': 2048, 'resize': 'fit'},\n",
       "       'medium': {'h': 605, 'w': 1200, 'resize': 'fit'},\n",
       "       'small': {'h': 343, 'w': 680, 'resize': 'fit'},\n",
       "       'thumb': {'h': 150, 'w': 150, 'resize': 'crop'}},\n",
       "      'original_info': {'height': 1398,\n",
       "       'width': 2772,\n",
       "       'focus_rects': [{'x': 276, 'y': 0, 'w': 2496, 'h': 1398},\n",
       "        {'x': 1310, 'y': 0, 'w': 1398, 'h': 1398},\n",
       "        {'x': 1396, 'y': 0, 'w': 1226, 'h': 1398},\n",
       "        {'x': 1660, 'y': 0, 'w': 699, 'h': 1398},\n",
       "        {'x': 0, 'y': 0, 'w': 2772, 'h': 1398}]}}]},\n",
       "   'favorite_count': 645,\n",
       "   'favorited': False,\n",
       "   'full_text': 'Deepseek R1 just crossed 10,000 likes on HF and is now the most liked model amongst almost 1.5M public models. Mind-blowing! https://t.co/GgH93FUMw0',\n",
       "   'is_quote_status': False,\n",
       "   'lang': 'en',\n",
       "   'possibly_sensitive': False,\n",
       "   'possibly_sensitive_editable': True,\n",
       "   'quote_count': 2,\n",
       "   'reply_count': 23,\n",
       "   'retweet_count': 56,\n",
       "   'retweeted': False,\n",
       "   'user_id_str': '186420551',\n",
       "   'id_str': '1893736193432359239'},\n",
       "  'quick_promote_eligibility': {'eligibility': 'IneligibleNotProfessional'}},\n",
       " '_legacy': {'bookmark_count': 51,\n",
       "  'bookmarked': False,\n",
       "  'created_at': 'Sun Feb 23 18:54:27 +0000 2025',\n",
       "  'conversation_id_str': '1893736193432359239',\n",
       "  'display_text_range': [0, 124],\n",
       "  'entities': {'hashtags': [],\n",
       "   'media': [{'display_url': 'pic.x.com/GgH93FUMw0',\n",
       "     'expanded_url': 'https://x.com/ClementDelangue/status/1893736193432359239/photo/1',\n",
       "     'id_str': '1893736142081556480',\n",
       "     'indices': [125, 148],\n",
       "     'media_key': '3_1893736142081556480',\n",
       "     'media_url_https': 'https://pbs.twimg.com/media/Gkfm_N8XAAAZP6D.jpg',\n",
       "     'type': 'photo',\n",
       "     'url': 'https://t.co/GgH93FUMw0',\n",
       "     'ext_media_availability': {'status': 'Available'},\n",
       "     'features': {'large': {'faces': [{'x': 645, 'y': 513, 'h': 83, 'w': 83}]},\n",
       "      'medium': {'faces': [{'x': 378, 'y': 300, 'h': 48, 'w': 48}]},\n",
       "      'small': {'faces': [{'x': 214, 'y': 170, 'h': 27, 'w': 27}]},\n",
       "      'orig': {'faces': [{'x': 874, 'y': 695, 'h': 113, 'w': 113}]}},\n",
       "     'sizes': {'large': {'h': 1033, 'w': 2048, 'resize': 'fit'},\n",
       "      'medium': {'h': 605, 'w': 1200, 'resize': 'fit'},\n",
       "      'small': {'h': 343, 'w': 680, 'resize': 'fit'},\n",
       "      'thumb': {'h': 150, 'w': 150, 'resize': 'crop'}},\n",
       "     'original_info': {'height': 1398,\n",
       "      'width': 2772,\n",
       "      'focus_rects': [{'x': 276, 'y': 0, 'w': 2496, 'h': 1398},\n",
       "       {'x': 1310, 'y': 0, 'w': 1398, 'h': 1398},\n",
       "       {'x': 1396, 'y': 0, 'w': 1226, 'h': 1398},\n",
       "       {'x': 1660, 'y': 0, 'w': 699, 'h': 1398},\n",
       "       {'x': 0, 'y': 0, 'w': 2772, 'h': 1398}]}}],\n",
       "   'symbols': [],\n",
       "   'timestamps': [],\n",
       "   'urls': [],\n",
       "   'user_mentions': []},\n",
       "  'extended_entities': {'media': [{'display_url': 'pic.x.com/GgH93FUMw0',\n",
       "     'expanded_url': 'https://x.com/ClementDelangue/status/1893736193432359239/photo/1',\n",
       "     'id_str': '1893736142081556480',\n",
       "     'indices': [125, 148],\n",
       "     'media_key': '3_1893736142081556480',\n",
       "     'media_url_https': 'https://pbs.twimg.com/media/Gkfm_N8XAAAZP6D.jpg',\n",
       "     'type': 'photo',\n",
       "     'url': 'https://t.co/GgH93FUMw0',\n",
       "     'ext_media_availability': {'status': 'Available'},\n",
       "     'features': {'large': {'faces': [{'x': 645, 'y': 513, 'h': 83, 'w': 83}]},\n",
       "      'medium': {'faces': [{'x': 378, 'y': 300, 'h': 48, 'w': 48}]},\n",
       "      'small': {'faces': [{'x': 214, 'y': 170, 'h': 27, 'w': 27}]},\n",
       "      'orig': {'faces': [{'x': 874, 'y': 695, 'h': 113, 'w': 113}]}},\n",
       "     'sizes': {'large': {'h': 1033, 'w': 2048, 'resize': 'fit'},\n",
       "      'medium': {'h': 605, 'w': 1200, 'resize': 'fit'},\n",
       "      'small': {'h': 343, 'w': 680, 'resize': 'fit'},\n",
       "      'thumb': {'h': 150, 'w': 150, 'resize': 'crop'}},\n",
       "     'original_info': {'height': 1398,\n",
       "      'width': 2772,\n",
       "      'focus_rects': [{'x': 276, 'y': 0, 'w': 2496, 'h': 1398},\n",
       "       {'x': 1310, 'y': 0, 'w': 1398, 'h': 1398},\n",
       "       {'x': 1396, 'y': 0, 'w': 1226, 'h': 1398},\n",
       "       {'x': 1660, 'y': 0, 'w': 699, 'h': 1398},\n",
       "       {'x': 0, 'y': 0, 'w': 2772, 'h': 1398}]}}]},\n",
       "  'favorite_count': 645,\n",
       "  'favorited': False,\n",
       "  'full_text': 'Deepseek R1 just crossed 10,000 likes on HF and is now the most liked model amongst almost 1.5M public models. Mind-blowing! https://t.co/GgH93FUMw0',\n",
       "  'is_quote_status': False,\n",
       "  'lang': 'en',\n",
       "  'possibly_sensitive': False,\n",
       "  'possibly_sensitive_editable': True,\n",
       "  'quote_count': 2,\n",
       "  'reply_count': 23,\n",
       "  'retweet_count': 56,\n",
       "  'retweeted': False,\n",
       "  'user_id_str': '186420551',\n",
       "  'id_str': '1893736193432359239'},\n",
       " 'user': <User id=\"186420551\">,\n",
       " 'replies': None,\n",
       " 'reply_to': None,\n",
       " 'related_tweets': None,\n",
       " 'thread': None}"
      ]
     },
     "execution_count": 124,
     "metadata": {},
     "output_type": "execute_result"
    }
   ],
   "source": [
    "tweet_info2.__dict__['reply_to'][0].__dict__"
   ]
  },
  {
   "cell_type": "code",
   "execution_count": null,
   "metadata": {},
   "outputs": [
    {
     "data": {
      "text/plain": [
       "dict_keys(['_client', '_data', '_legacy', 'user', 'replies', 'reply_to', 'related_tweets', 'thread'])"
      ]
     },
     "execution_count": 129,
     "metadata": {},
     "output_type": "execute_result"
    }
   ],
   "source": [
    "reply_to = tweet_info2.__dict__['reply_to'][0]\n",
    "in_reply_to_status_id_str = tweet_info2.__dict__['reply_to'][0].__dict__['_data']['rest_id']\n",
    "in_reply_to_user_id_str = tweet_info2.__dict__['reply_to'][0].__dict__['_data']['core']['rest_id']\n",
    "in_reply_to_screen_name = tweet_info2.__dict__['reply_to'][0].__dict__['_data']['core']['user_results']['result']['legacy']['screen_name']"
   ]
  },
  {
   "cell_type": "code",
   "execution_count": null,
   "metadata": {},
   "outputs": [
    {
     "data": {
      "text/plain": [
       "{'__typename': 'Tweet',\n",
       " 'rest_id': '1893736193432359239',\n",
       " 'has_birdwatch_notes': False,\n",
       " 'core': {'user_results': {'result': {'__typename': 'User',\n",
       "    'id': 'VXNlcjoxODY0MjA1NTE=',\n",
       "    'rest_id': '186420551',\n",
       "    'affiliates_highlighted_label': {},\n",
       "    'has_graduated_access': True,\n",
       "    'is_blue_verified': True,\n",
       "    'profile_image_shape': 'Circle',\n",
       "    'legacy': {'can_dm': True,\n",
       "     'can_media_tag': True,\n",
       "     'created_at': 'Fri Sep 03 12:25:12 +0000 2010',\n",
       "     'default_profile': False,\n",
       "     'default_profile_image': False,\n",
       "     'description': 'Co-founder & CEO @HuggingFace 🤗, the open and collaborative platform for AI builders',\n",
       "     'entities': {'description': {'urls': []},\n",
       "      'url': {'urls': [{'display_url': 'huggingface.co/clem',\n",
       "         'expanded_url': 'http://huggingface.co/clem',\n",
       "         'url': 'https://t.co/7OMlqfI2Rh',\n",
       "         'indices': [0, 23]}]}},\n",
       "     'fast_followers_count': 0,\n",
       "     'favourites_count': 7834,\n",
       "     'followers_count': 127606,\n",
       "     'friends_count': 4639,\n",
       "     'has_custom_timelines': True,\n",
       "     'is_translator': False,\n",
       "     'listed_count': 2218,\n",
       "     'location': 'Miami / New York / Paris',\n",
       "     'media_count': 2319,\n",
       "     'name': 'clem 🤗',\n",
       "     'normal_followers_count': 127606,\n",
       "     'pinned_tweet_ids_str': ['1811675386368966682'],\n",
       "     'possibly_sensitive': False,\n",
       "     'profile_banner_url': 'https://pbs.twimg.com/profile_banners/186420551/1731168567',\n",
       "     'profile_image_url_https': 'https://pbs.twimg.com/profile_images/1100512198139498497/utHSJ4st_normal.png',\n",
       "     'profile_interstitial_type': '',\n",
       "     'screen_name': 'ClementDelangue',\n",
       "     'statuses_count': 24926,\n",
       "     'translator_type': 'none',\n",
       "     'url': 'https://t.co/7OMlqfI2Rh',\n",
       "     'verified': False,\n",
       "     'want_retweets': False,\n",
       "     'withheld_in_countries': []},\n",
       "    'professional': {'rest_id': '1509481775881461762',\n",
       "     'professional_type': 'Creator',\n",
       "     'category': [{'id': 713,\n",
       "       'name': 'Science & Technology',\n",
       "       'icon_name': 'IconBriefcaseStroke'}]}}}},\n",
       " 'unmention_data': {},\n",
       " 'edit_control': {'edit_tweet_ids': ['1893736193432359239'],\n",
       "  'editable_until_msecs': '1740340467000',\n",
       "  'is_edit_eligible': True,\n",
       "  'edits_remaining': '5'},\n",
       " 'is_translatable': False,\n",
       " 'views': {'count': '34272', 'state': 'EnabledWithCount'},\n",
       " 'source': '<a href=\"https://mobile.twitter.com\" rel=\"nofollow\">Twitter Web App</a>',\n",
       " 'legacy': {'bookmark_count': 51,\n",
       "  'bookmarked': False,\n",
       "  'created_at': 'Sun Feb 23 18:54:27 +0000 2025',\n",
       "  'conversation_id_str': '1893736193432359239',\n",
       "  'display_text_range': [0, 124],\n",
       "  'entities': {'hashtags': [],\n",
       "   'media': [{'display_url': 'pic.x.com/GgH93FUMw0',\n",
       "     'expanded_url': 'https://x.com/ClementDelangue/status/1893736193432359239/photo/1',\n",
       "     'id_str': '1893736142081556480',\n",
       "     'indices': [125, 148],\n",
       "     'media_key': '3_1893736142081556480',\n",
       "     'media_url_https': 'https://pbs.twimg.com/media/Gkfm_N8XAAAZP6D.jpg',\n",
       "     'type': 'photo',\n",
       "     'url': 'https://t.co/GgH93FUMw0',\n",
       "     'ext_media_availability': {'status': 'Available'},\n",
       "     'features': {'large': {'faces': [{'x': 645, 'y': 513, 'h': 83, 'w': 83}]},\n",
       "      'medium': {'faces': [{'x': 378, 'y': 300, 'h': 48, 'w': 48}]},\n",
       "      'small': {'faces': [{'x': 214, 'y': 170, 'h': 27, 'w': 27}]},\n",
       "      'orig': {'faces': [{'x': 874, 'y': 695, 'h': 113, 'w': 113}]}},\n",
       "     'sizes': {'large': {'h': 1033, 'w': 2048, 'resize': 'fit'},\n",
       "      'medium': {'h': 605, 'w': 1200, 'resize': 'fit'},\n",
       "      'small': {'h': 343, 'w': 680, 'resize': 'fit'},\n",
       "      'thumb': {'h': 150, 'w': 150, 'resize': 'crop'}},\n",
       "     'original_info': {'height': 1398,\n",
       "      'width': 2772,\n",
       "      'focus_rects': [{'x': 276, 'y': 0, 'w': 2496, 'h': 1398},\n",
       "       {'x': 1310, 'y': 0, 'w': 1398, 'h': 1398},\n",
       "       {'x': 1396, 'y': 0, 'w': 1226, 'h': 1398},\n",
       "       {'x': 1660, 'y': 0, 'w': 699, 'h': 1398},\n",
       "       {'x': 0, 'y': 0, 'w': 2772, 'h': 1398}]}}],\n",
       "   'symbols': [],\n",
       "   'timestamps': [],\n",
       "   'urls': [],\n",
       "   'user_mentions': []},\n",
       "  'extended_entities': {'media': [{'display_url': 'pic.x.com/GgH93FUMw0',\n",
       "     'expanded_url': 'https://x.com/ClementDelangue/status/1893736193432359239/photo/1',\n",
       "     'id_str': '1893736142081556480',\n",
       "     'indices': [125, 148],\n",
       "     'media_key': '3_1893736142081556480',\n",
       "     'media_url_https': 'https://pbs.twimg.com/media/Gkfm_N8XAAAZP6D.jpg',\n",
       "     'type': 'photo',\n",
       "     'url': 'https://t.co/GgH93FUMw0',\n",
       "     'ext_media_availability': {'status': 'Available'},\n",
       "     'features': {'large': {'faces': [{'x': 645, 'y': 513, 'h': 83, 'w': 83}]},\n",
       "      'medium': {'faces': [{'x': 378, 'y': 300, 'h': 48, 'w': 48}]},\n",
       "      'small': {'faces': [{'x': 214, 'y': 170, 'h': 27, 'w': 27}]},\n",
       "      'orig': {'faces': [{'x': 874, 'y': 695, 'h': 113, 'w': 113}]}},\n",
       "     'sizes': {'large': {'h': 1033, 'w': 2048, 'resize': 'fit'},\n",
       "      'medium': {'h': 605, 'w': 1200, 'resize': 'fit'},\n",
       "      'small': {'h': 343, 'w': 680, 'resize': 'fit'},\n",
       "      'thumb': {'h': 150, 'w': 150, 'resize': 'crop'}},\n",
       "     'original_info': {'height': 1398,\n",
       "      'width': 2772,\n",
       "      'focus_rects': [{'x': 276, 'y': 0, 'w': 2496, 'h': 1398},\n",
       "       {'x': 1310, 'y': 0, 'w': 1398, 'h': 1398},\n",
       "       {'x': 1396, 'y': 0, 'w': 1226, 'h': 1398},\n",
       "       {'x': 1660, 'y': 0, 'w': 699, 'h': 1398},\n",
       "       {'x': 0, 'y': 0, 'w': 2772, 'h': 1398}]}}]},\n",
       "  'favorite_count': 645,\n",
       "  'favorited': False,\n",
       "  'full_text': 'Deepseek R1 just crossed 10,000 likes on HF and is now the most liked model amongst almost 1.5M public models. Mind-blowing! https://t.co/GgH93FUMw0',\n",
       "  'is_quote_status': False,\n",
       "  'lang': 'en',\n",
       "  'possibly_sensitive': False,\n",
       "  'possibly_sensitive_editable': True,\n",
       "  'quote_count': 2,\n",
       "  'reply_count': 23,\n",
       "  'retweet_count': 56,\n",
       "  'retweeted': False,\n",
       "  'user_id_str': '186420551',\n",
       "  'id_str': '1893736193432359239'},\n",
       " 'quick_promote_eligibility': {'eligibility': 'IneligibleNotProfessional'}}"
      ]
     },
     "execution_count": 133,
     "metadata": {},
     "output_type": "execute_result"
    }
   ],
   "source": [
    "tweet_info2.__dict__['reply_to'][0].__dict__['_data']['core']['user_results']['result']['legacy']['screen_name']"
   ]
  },
  {
   "cell_type": "code",
   "execution_count": null,
   "metadata": {},
   "outputs": [],
   "source": [
    "in_reply_to_status_id_str = tweet_info2.__dict__['reply_to'][0].__dict__['_data']['rest_id']"
   ]
  },
  {
   "cell_type": "code",
   "execution_count": null,
   "metadata": {},
   "outputs": [],
   "source": [
    "tweet_info2.__dict__['reply_to'][0]['']"
   ]
  },
  {
   "cell_type": "code",
   "execution_count": null,
   "metadata": {},
   "outputs": [],
   "source": [
    "tweet_data_2 = tweet.__dict__['_data']['legacy']"
   ]
  },
  {
   "cell_type": "code",
   "execution_count": 98,
   "metadata": {},
   "outputs": [
    {
     "data": {
      "text/plain": [
       "dict_keys(['bookmark_count', 'bookmarked', 'created_at', 'conversation_id_str', 'display_text_range', 'entities', 'extended_entities', 'favorite_count', 'favorited', 'full_text', 'in_reply_to_screen_name', 'in_reply_to_status_id_str', 'in_reply_to_user_id_str', 'is_quote_status', 'lang', 'possibly_sensitive', 'possibly_sensitive_editable', 'quote_count', 'reply_count', 'retweet_count', 'retweeted', 'user_id_str', 'id_str'])"
      ]
     },
     "execution_count": 98,
     "metadata": {},
     "output_type": "execute_result"
    }
   ],
   "source": [
    "tweet_data_1.keys()"
   ]
  },
  {
   "cell_type": "code",
   "execution_count": 99,
   "metadata": {},
   "outputs": [
    {
     "data": {
      "text/plain": [
       "dict_keys(['bookmark_count', 'bookmarked', 'created_at', 'conversation_id_str', 'display_text_range', 'entities', 'extended_entities', 'favorite_count', 'favorited', 'full_text', 'is_quote_status', 'lang', 'possibly_sensitive', 'possibly_sensitive_editable', 'quote_count', 'reply_count', 'retweet_count', 'retweeted', 'user_id_str', 'id_str'])"
      ]
     },
     "execution_count": 99,
     "metadata": {},
     "output_type": "execute_result"
    }
   ],
   "source": [
    "tweet_data_2.keys()"
   ]
  },
  {
   "cell_type": "code",
   "execution_count": 103,
   "metadata": {},
   "outputs": [],
   "source": [
    "common_keys = tweet_data_1.keys() & tweet_data_2.keys()"
   ]
  },
  {
   "cell_type": "code",
   "execution_count": 120,
   "metadata": {},
   "outputs": [
    {
     "data": {
      "text/plain": [
       "'ClementDelangue'"
      ]
     },
     "execution_count": 120,
     "metadata": {},
     "output_type": "execute_result"
    }
   ],
   "source": [
    "tweet_data_1['in_reply_to_screen_name']"
   ]
  },
  {
   "cell_type": "code",
   "execution_count": 121,
   "metadata": {},
   "outputs": [
    {
     "data": {
      "text/plain": [
       "'1893736193432359239'"
      ]
     },
     "execution_count": 121,
     "metadata": {},
     "output_type": "execute_result"
    }
   ],
   "source": [
    "tweet_data_1['in_reply_to_status_id_str']"
   ]
  },
  {
   "cell_type": "code",
   "execution_count": 122,
   "metadata": {},
   "outputs": [
    {
     "data": {
      "text/plain": [
       "'186420551'"
      ]
     },
     "execution_count": 122,
     "metadata": {},
     "output_type": "execute_result"
    }
   ],
   "source": [
    "tweet_data_1['in_reply_to_user_id_str']"
   ]
  },
  {
   "cell_type": "code",
   "execution_count": 106,
   "metadata": {},
   "outputs": [
    {
     "name": "stdout",
     "output_type": "stream",
     "text": [
      "in_reply_to_screen_name\n",
      "in_reply_to_status_id_str\n",
      "in_reply_to_user_id_str\n"
     ]
    }
   ],
   "source": [
    "for key in tweet_data_1.keys():\n",
    "    if key not in common_keys:\n",
    "        print(key)"
   ]
  },
  {
   "cell_type": "code",
   "execution_count": 107,
   "metadata": {},
   "outputs": [],
   "source": [
    "for key in tweet_data_2.keys():\n",
    "    if key not in common_keys:\n",
    "        print(key)"
   ]
  },
  {
   "cell_type": "code",
   "execution_count": 110,
   "metadata": {},
   "outputs": [
    {
     "data": {
      "text/plain": [
       "[<Tweet id=\"1892945394096828627\">]"
      ]
     },
     "execution_count": 110,
     "metadata": {},
     "output_type": "execute_result"
    }
   ],
   "source": [
    "tweet.__dict__['replies']"
   ]
  },
  {
   "cell_type": "code",
   "execution_count": 108,
   "metadata": {},
   "outputs": [
    {
     "data": {
      "text/plain": [
       "dict_keys(['_client', '_data', '_legacy', 'user', 'replies', 'reply_to', 'related_tweets', 'thread'])"
      ]
     },
     "execution_count": 108,
     "metadata": {},
     "output_type": "execute_result"
    }
   ],
   "source": [
    "tweet.__dict__.keys()"
   ]
  },
  {
   "cell_type": "code",
   "execution_count": 89,
   "metadata": {},
   "outputs": [
    {
     "data": {
      "text/plain": [
       "dict_keys(['__typename', 'id', 'rest_id', 'affiliates_highlighted_label', 'has_graduated_access', 'is_blue_verified', 'profile_image_shape', 'legacy', 'professional'])"
      ]
     },
     "execution_count": 89,
     "metadata": {},
     "output_type": "execute_result"
    }
   ],
   "source": [
    "tweet.__dict__['_data']['core']['user_results']['result'].keys()"
   ]
  },
  {
   "cell_type": "code",
   "execution_count": 90,
   "metadata": {},
   "outputs": [
    {
     "data": {
      "text/plain": [
       "{'can_dm': True,\n",
       " 'can_media_tag': True,\n",
       " 'created_at': 'Fri Sep 04 12:59:26 +0000 2015',\n",
       " 'default_profile': False,\n",
       " 'default_profile_image': False,\n",
       " 'description': 'Building with AI agents @dair_ai • Prev: Meta AI, Galactica LLM, Elastic, PaperswithCode, PhD • I also teach how to leverage and build with LLMs & AI Agents ⬇️',\n",
       " 'entities': {'description': {'urls': []},\n",
       "  'url': {'urls': [{'display_url': 'dair-ai.thinkific.com',\n",
       "     'expanded_url': 'https://dair-ai.thinkific.com/',\n",
       "     'url': 'https://t.co/JBU5beHQNs',\n",
       "     'indices': [0, 23]}]}},\n",
       " 'fast_followers_count': 0,\n",
       " 'favourites_count': 29049,\n",
       " 'followers_count': 231272,\n",
       " 'friends_count': 576,\n",
       " 'has_custom_timelines': True,\n",
       " 'is_translator': False,\n",
       " 'listed_count': 3891,\n",
       " 'location': '',\n",
       " 'media_count': 2951,\n",
       " 'name': 'elvis',\n",
       " 'normal_followers_count': 231272,\n",
       " 'pinned_tweet_ids_str': ['1893394584903766313'],\n",
       " 'possibly_sensitive': False,\n",
       " 'profile_banner_url': 'https://pbs.twimg.com/profile_banners/3448284313/1565974901',\n",
       " 'profile_image_url_https': 'https://pbs.twimg.com/profile_images/939313677647282181/vZjFWtAn_normal.jpg',\n",
       " 'profile_interstitial_type': '',\n",
       " 'screen_name': 'omarsar0',\n",
       " 'statuses_count': 13380,\n",
       " 'translator_type': 'regular',\n",
       " 'url': 'https://t.co/JBU5beHQNs',\n",
       " 'verified': False,\n",
       " 'want_retweets': False,\n",
       " 'withheld_in_countries': []}"
      ]
     },
     "execution_count": 90,
     "metadata": {},
     "output_type": "execute_result"
    }
   ],
   "source": [
    "tweet.__dict__['_data']['core']['user_results']['result']['legacy']"
   ]
  },
  {
   "cell_type": "code",
   "execution_count": 67,
   "metadata": {},
   "outputs": [
    {
     "data": {
      "text/plain": [
       "{'eligibility': 'IneligibleNotProfessional'}"
      ]
     },
     "execution_count": 67,
     "metadata": {},
     "output_type": "execute_result"
    }
   ],
   "source": [
    "tweet.__dict__['_data']['quick_promote_eligibility']"
   ]
  },
  {
   "cell_type": "code",
   "execution_count": 52,
   "metadata": {},
   "outputs": [
    {
     "data": {
      "text/plain": [
       "'<twikit.client.client.Client object at 0x7c677ddc5f90>'"
      ]
     },
     "execution_count": 52,
     "metadata": {},
     "output_type": "execute_result"
    }
   ],
   "source": [
    "str(tweet.__dict__['_client'])"
   ]
  },
  {
   "cell_type": "code",
   "execution_count": 35,
   "metadata": {},
   "outputs": [
    {
     "data": {
      "text/plain": [
       "{'_client': <twikit.client.client.Client at 0x7c677ddc5f90>,\n",
       " '_data': {'__typename': 'Tweet',\n",
       "  'rest_id': '1893803151725084902',\n",
       "  'core': {'user_results': {'result': {'__typename': 'User',\n",
       "     'id': 'VXNlcjoxMDEwNjk5Mg==',\n",
       "     'rest_id': '10106992',\n",
       "     'affiliates_highlighted_label': {},\n",
       "     'has_graduated_access': True,\n",
       "     'is_blue_verified': True,\n",
       "     'profile_image_shape': 'Circle',\n",
       "     'legacy': {'can_dm': True,\n",
       "      'can_media_tag': True,\n",
       "      'created_at': 'Fri Nov 09 19:05:15 +0000 2007',\n",
       "      'default_profile': False,\n",
       "      'default_profile_image': False,\n",
       "      'description': 'Information enthusiast 📚, Portlander 🌲, engineering manager @SlackHQ working on infrastructure and distributed databases (formerly: @newrelic, @surescripts)',\n",
       "      'entities': {'description': {'urls': []},\n",
       "       'url': {'urls': [{'display_url': 'martymatheny.com',\n",
       "          'expanded_url': 'http://martymatheny.com',\n",
       "          'url': 'https://t.co/jLyHg46tJB',\n",
       "          'indices': [0, 23]}]}},\n",
       "      'fast_followers_count': 0,\n",
       "      'favourites_count': 3265,\n",
       "      'followers_count': 707,\n",
       "      'friends_count': 1013,\n",
       "      'has_custom_timelines': True,\n",
       "      'is_translator': False,\n",
       "      'listed_count': 47,\n",
       "      'location': 'Portland, OR',\n",
       "      'media_count': 512,\n",
       "      'name': 'Marty Matheny',\n",
       "      'normal_followers_count': 707,\n",
       "      'pinned_tweet_ids_str': [],\n",
       "      'possibly_sensitive': False,\n",
       "      'profile_banner_url': 'https://pbs.twimg.com/profile_banners/10106992/1672517246',\n",
       "      'profile_image_url_https': 'https://pbs.twimg.com/profile_images/1504965910288744451/59SS9VuU_normal.jpg',\n",
       "      'profile_interstitial_type': '',\n",
       "      'screen_name': 'martymatheny',\n",
       "      'statuses_count': 5002,\n",
       "      'translator_type': 'none',\n",
       "      'url': 'https://t.co/jLyHg46tJB',\n",
       "      'verified': False,\n",
       "      'want_retweets': False,\n",
       "      'withheld_in_countries': []},\n",
       "     'professional': {'rest_id': '1626043167907934208',\n",
       "      'professional_type': 'Business',\n",
       "      'category': []}}}},\n",
       "  'unmention_data': {},\n",
       "  'edit_control': {'edit_tweet_ids': ['1893803151725084902'],\n",
       "   'editable_until_msecs': '1740356431000',\n",
       "   'is_edit_eligible': False,\n",
       "   'edits_remaining': '5'},\n",
       "  'is_translatable': False,\n",
       "  'views': {'count': '39', 'state': 'EnabledWithCount'},\n",
       "  'source': '<a href=\"https://mobile.twitter.com\" rel=\"nofollow\">Twitter Web App</a>',\n",
       "  'legacy': {'bookmark_count': 0,\n",
       "   'bookmarked': False,\n",
       "   'created_at': 'Sun Feb 23 23:20:31 +0000 2025',\n",
       "   'conversation_id_str': '1893798504352378899',\n",
       "   'display_text_range': [0, 269],\n",
       "   'entities': {'hashtags': [],\n",
       "    'symbols': [],\n",
       "    'timestamps': [],\n",
       "    'urls': [],\n",
       "    'user_mentions': []},\n",
       "   'favorite_count': 0,\n",
       "   'favorited': False,\n",
       "   'full_text': \"So far I've learned a lot by just asking LLM's questions, mostly ChatGPT and Grok. They both let me use Deep Research and Reasoning for a few questions using their cheapest paid plans. I also tried out Anthropic and Perplexity, but find myself using them less for this.\",\n",
       "   'in_reply_to_screen_name': 'martymatheny',\n",
       "   'in_reply_to_status_id_str': '1893800601588224203',\n",
       "   'in_reply_to_user_id_str': '10106992',\n",
       "   'is_quote_status': False,\n",
       "   'lang': 'en',\n",
       "   'quote_count': 0,\n",
       "   'reply_count': 1,\n",
       "   'retweet_count': 0,\n",
       "   'retweeted': False,\n",
       "   'user_id_str': '10106992',\n",
       "   'id_str': '1893803151725084902'}},\n",
       " '_legacy': {'bookmark_count': 0,\n",
       "  'bookmarked': False,\n",
       "  'created_at': 'Sun Feb 23 23:20:31 +0000 2025',\n",
       "  'conversation_id_str': '1893798504352378899',\n",
       "  'display_text_range': [0, 269],\n",
       "  'entities': {'hashtags': [],\n",
       "   'symbols': [],\n",
       "   'timestamps': [],\n",
       "   'urls': [],\n",
       "   'user_mentions': []},\n",
       "  'favorite_count': 0,\n",
       "  'favorited': False,\n",
       "  'full_text': \"So far I've learned a lot by just asking LLM's questions, mostly ChatGPT and Grok. They both let me use Deep Research and Reasoning for a few questions using their cheapest paid plans. I also tried out Anthropic and Perplexity, but find myself using them less for this.\",\n",
       "  'in_reply_to_screen_name': 'martymatheny',\n",
       "  'in_reply_to_status_id_str': '1893800601588224203',\n",
       "  'in_reply_to_user_id_str': '10106992',\n",
       "  'is_quote_status': False,\n",
       "  'lang': 'en',\n",
       "  'quote_count': 0,\n",
       "  'reply_count': 1,\n",
       "  'retweet_count': 0,\n",
       "  'retweeted': False,\n",
       "  'user_id_str': '10106992',\n",
       "  'id_str': '1893803151725084902'},\n",
       " 'user': <User id=\"10106992\">,\n",
       " 'replies': None,\n",
       " 'reply_to': None,\n",
       " 'related_tweets': None,\n",
       " 'thread': None}"
      ]
     },
     "execution_count": 35,
     "metadata": {},
     "output_type": "execute_result"
    }
   ],
   "source": [
    "tweet.__dict__"
   ]
  },
  {
   "cell_type": "code",
   "execution_count": 34,
   "metadata": {},
   "outputs": [],
   "source": [
    "tweet.related_tweets"
   ]
  },
  {
   "cell_type": "code",
   "execution_count": 27,
   "metadata": {},
   "outputs": [
    {
     "name": "stdout",
     "output_type": "stream",
     "text": [
      "2025-02-24 16:31:36,705 [\u001b[0;32mINFO\u001b[0m] :: HTTP Request: GET https://x.com/i/api/graphql/flaR-PUMshxFWZWPNpq4zA/SearchTimeline?variables=%7B%22rawQuery%22%3A+%22llm+reasoning%22%2C+%22count%22%3A+20%2C+%22querySource%22%3A+%22typed_query%22%2C+%22product%22%3A+%22Latest%22%7D&features=%7B%22creator_subscriptions_tweet_preview_api_enabled%22%3A+true%2C+%22c9s_tweet_anatomy_moderator_badge_enabled%22%3A+true%2C+%22tweetypie_unmention_optimization_enabled%22%3A+true%2C+%22responsive_web_edit_tweet_api_enabled%22%3A+true%2C+%22graphql_is_translatable_rweb_tweet_is_translatable_enabled%22%3A+true%2C+%22view_counts_everywhere_api_enabled%22%3A+true%2C+%22longform_notetweets_consumption_enabled%22%3A+true%2C+%22responsive_web_twitter_article_tweet_consumption_enabled%22%3A+true%2C+%22tweet_awards_web_tipping_enabled%22%3A+false%2C+%22longform_notetweets_rich_text_read_enabled%22%3A+true%2C+%22longform_notetweets_inline_media_enabled%22%3A+true%2C+%22rweb_video_timestamps_enabled%22%3A+true%2C+%22responsive_web_graphql_exclude_directive_enabled%22%3A+true%2C+%22verified_phone_label_enabled%22%3A+false%2C+%22freedom_of_speech_not_reach_fetch_enabled%22%3A+true%2C+%22standardized_nudges_misinfo%22%3A+true%2C+%22tweet_with_visibility_results_prefer_gql_limited_actions_policy_enabled%22%3A+true%2C+%22responsive_web_media_download_video_enabled%22%3A+false%2C+%22responsive_web_graphql_skip_user_profile_image_extensions_enabled%22%3A+false%2C+%22responsive_web_graphql_timeline_navigation_enabled%22%3A+true%2C+%22responsive_web_enhance_cards_enabled%22%3A+false%7D \"HTTP/1.1 200 OK\"\n",
      "Mayukh I have to parse a json file and extract information. I could write a python function or call an API of any decent LLM. Using an LLM with reasoning actually makes the output better. But this feels like cheating and I feel I *ought* to write a proper function. What should I do? Mon Feb 24 08:00:18 +0000 2025\n",
      "SciTech Access Logic-RL: Unleashing LLM Reasoning with Rule-Based Reinforcement Learning https://t.co/kTkj3D1sot Mon Feb 24 06:52:02 +0000 2025\n",
      "Sid Uppal ReasoningSymbolicRegressor: Steering symbolic regression with LLM reasoning to find equations faster. Read the story here: https://t.co/2SzfWQ0X3A Mon Feb 24 05:36:09 +0000 2025\n",
      "Justin Hedge Current LLM workflow meta (subject to change next week): Grok 3 #DeepSearch to prime your context window with RAG style augmentation -&gt; Grok 3 'Think' (reasoning model) -&gt; Audit with o3-mini-high -&gt; Profit Mon Feb 24 05:35:17 +0000 2025\n",
      "Bayes Labs Agentic Reasoning: Enhancing LLMs with Tools\n",
      "\n",
      "Integrating web search &amp; code execution boosts LLM reasoning in science &amp; deduction. Structured knowledge (e.g., Mind Maps) further improves logic tracking.\n",
      "\n",
      "Read more: https://t.co/OQwrCxENJj\n",
      "Code: https://t.co/qMSFhvw8uq\n",
      "#AI #LLM https://t.co/tk9GAGvsYO Mon Feb 24 05:24:13 +0000 2025\n",
      "Souren Khetcho 🥑 LLMs introduced reasoning at scale. Smart contracts soon will rely on LLM reasoning to resolve consensus on an outcome Mon Feb 24 05:18:32 +0000 2025\n",
      "William DeGraaf @repligate Aside from exploring difficult coding problems in reasoning models I don't even know how I would compare LLM intuition in chat\n",
      "Assuming there's nothing new under the sun, every chat I've ever had is probably just regurgitating training data\n",
      "Memories aren't intuition in literature Mon Feb 24 04:57:08 +0000 2025\n",
      "Paras Chopra RL algorithms for generating reasoning in LLM are ridiculously simple.\n",
      "\n",
      "Generate a bunch of responses to a question\n",
      "\n",
      "Increase logprob of tokens in correct responses vs their alternatives, and decrease for wrong answers\n",
      "\n",
      "E.g. during exploration if a token like “Alternatively” is Mon Feb 24 04:33:28 +0000 2025\n",
      "SJTUDengLab Inspired by that humans usually use sticky notes to externalize critical elements when handling complex tasks, we introduce SIFT (Stick to the Facts) to explicitly ground LLM reasoning in contextual facts using dynamically generated query summaries called Stickers.  SIFT is a https://t.co/3Pief5Eb9m Mon Feb 24 04:07:27 +0000 2025\n",
      "SJTUDengLab 😳7%+ accuracy leap on AIME24/25 for DeepSeek R1 via simply being more careful with the questions?! Attention should be shifted from reasoning capacities to reasoning fidelity! Our SIFT method simply grounds LLM reasoning in contexts via Stickers, bringing a striking performance https://t.co/UXiMIuJpOb Mon Feb 24 03:56:39 +0000 2025\n",
      "AK SIFT\n",
      "\n",
      "Grounding LLM Reasoning in Contexts via Stickers https://t.co/uMHVCSbXJo Mon Feb 24 03:18:01 +0000 2025\n",
      "zaumai @_akhaliq The O3 paper's findings about efficient reasoning paths are fascinating. Would be interesting to explore how this relates to recent work on chain-of-thought prompting and whether more compact reasoning strategies could improve real-world LLM applications. Mon Feb 24 03:11:35 +0000 2025\n",
      "LG AI Research 📣Unveiling NEXUS : The Agent AI System for Tracking Legal Risks in AI Training Datasets. \"How trustworthy and safe are the AI-generated results and their underlying reasoning?\" LG AI Research presents its findings. #AI_Agent #LG_AI #LG_AI_Research #LG #LLM\n",
      "Try NEXUS : https://t.co/hzOxsebwRm Mon Feb 24 01:57:45 +0000 2025\n",
      "ぽな (C.Ponapalt) LLMに雑に返答させるって、むっちゃくちゃ難しいので…。\n",
      "本来有用な返答を返すよう極振りされたシステムなので、「雑な返答」をさせるようプロンプトだけで制約かけようと思うと、むしろreasoning/thinkタグ実装系、あるいはLLMの多段処理が要るというわけのわからないことに… Mon Feb 24 00:58:59 +0000 2025\n",
      "Rohan Paul Current LLM slow-thinking methods are inefficient. They overthink and depend on external reward models, hindering reasoning by not internalizing search processes.\n",
      "\n",
      "Self-Backtracking is proposed to provide LLMs with backtracking ability during training and inference. This https://t.co/RZtiUP031g Mon Feb 24 00:02:47 +0000 2025\n",
      "Randy Kirk GROK 3 - Self evaluation: \n",
      "\n",
      "So, Grok 3 rates near the top—maybe the top—for reasoning, STEM, and context-heavy tasks. It’s not perfect everywhere, and competitors like OpenAI’s models might still win for flexibility or refinement. If you’re picking an LLM, it’s about what you Sun Feb 23 23:28:53 +0000 2025\n",
      "Marty Matheny So far I've learned a lot by just asking LLM's questions, mostly ChatGPT and Grok. They both let me use Deep Research and Reasoning for a few questions using their cheapest paid plans. I also tried out Anthropic and Perplexity, but find myself using them less for this. Sun Feb 23 23:20:31 +0000 2025\n"
     ]
    }
   ],
   "source": [
    "tweets = await client.search_tweet('llm reasoning', 'Latest')\n",
    "\n",
    "for tweet in tweets:\n",
    "    print(\n",
    "        tweet.user.name,\n",
    "        tweet.text,\n",
    "        tweet.created_at\n",
    "    )"
   ]
  },
  {
   "cell_type": "code",
   "execution_count": null,
   "metadata": {},
   "outputs": [],
   "source": [
    "async def async_get_user_tweets( \n",
    "    user_id: str,\n",
    "    tweet_type: Literal['Tweets', 'Replies', 'Media', 'Likes'],\n",
    "    count: int = 40,\n",
    "    cursor: str | None = None\n",
    ") -> Coroutine[Any, Any, Result[Tweet]]:\n",
    "    attempt = 0\n",
    "    \n",
    "    while attempt < self.max_retires:\n",
    "        try:\n",
    "            return client.get_user_tweets(user.id, 'Tweets')\n",
    "        except:\n",
    "            attempt += 1\n",
    "    return None"
   ]
  },
  {
   "cell_type": "code",
   "execution_count": 39,
   "metadata": {},
   "outputs": [
    {
     "data": {
      "text/plain": [
       "dict_keys(['_client', '_data', '_legacy', 'user', 'replies', 'reply_to', 'related_tweets', 'thread'])"
      ]
     },
     "execution_count": 39,
     "metadata": {},
     "output_type": "execute_result"
    }
   ],
   "source": [
    "tweet.__dict__.keys()"
   ]
  },
  {
   "cell_type": "code",
   "execution_count": null,
   "metadata": {},
   "outputs": [
    {
     "data": {
      "text/plain": [
       "{'bookmark_count': 89,\n",
       " 'bookmarked': False,\n",
       " 'created_at': 'Fri Feb 21 14:32:02 +0000 2025',\n",
       " 'conversation_id_str': '1892945381174210933',\n",
       " 'display_text_range': [0, 279],\n",
       " 'entities': {'hashtags': [],\n",
       "  'media': [{'display_url': 'pic.x.com/uCjUp1JVSe',\n",
       "    'expanded_url': 'https://x.com/omarsar0/status/1892945381174210933/photo/1',\n",
       "    'id_str': '1892945377290047489',\n",
       "    'indices': [280, 303],\n",
       "    'media_key': '3_1892945377290047489',\n",
       "    'media_url_https': 'https://pbs.twimg.com/media/GkUXypiXUAE7TNX.png',\n",
       "    'type': 'photo',\n",
       "    'url': 'https://t.co/uCjUp1JVSe',\n",
       "    'ext_media_availability': {'status': 'Available'},\n",
       "    'features': {'large': {'faces': []},\n",
       "     'medium': {'faces': []},\n",
       "     'small': {'faces': []},\n",
       "     'orig': {'faces': []}},\n",
       "    'sizes': {'large': {'h': 843, 'w': 775, 'resize': 'fit'},\n",
       "     'medium': {'h': 843, 'w': 775, 'resize': 'fit'},\n",
       "     'small': {'h': 680, 'w': 625, 'resize': 'fit'},\n",
       "     'thumb': {'h': 150, 'w': 150, 'resize': 'crop'}},\n",
       "    'original_info': {'height': 843,\n",
       "     'width': 775,\n",
       "     'focus_rects': [{'x': 0, 'y': 0, 'w': 775, 'h': 434},\n",
       "      {'x': 0, 'y': 0, 'w': 775, 'h': 775},\n",
       "      {'x': 0, 'y': 0, 'w': 739, 'h': 843},\n",
       "      {'x': 62, 'y': 0, 'w': 422, 'h': 843},\n",
       "      {'x': 0, 'y': 0, 'w': 775, 'h': 843}]}}],\n",
       "  'symbols': [],\n",
       "  'timestamps': [],\n",
       "  'urls': [],\n",
       "  'user_mentions': []},\n",
       " 'extended_entities': {'media': [{'display_url': 'pic.x.com/uCjUp1JVSe',\n",
       "    'expanded_url': 'https://x.com/omarsar0/status/1892945381174210933/photo/1',\n",
       "    'id_str': '1892945377290047489',\n",
       "    'indices': [280, 303],\n",
       "    'media_key': '3_1892945377290047489',\n",
       "    'media_url_https': 'https://pbs.twimg.com/media/GkUXypiXUAE7TNX.png',\n",
       "    'type': 'photo',\n",
       "    'url': 'https://t.co/uCjUp1JVSe',\n",
       "    'ext_media_availability': {'status': 'Available'},\n",
       "    'features': {'large': {'faces': []},\n",
       "     'medium': {'faces': []},\n",
       "     'small': {'faces': []},\n",
       "     'orig': {'faces': []}},\n",
       "    'sizes': {'large': {'h': 843, 'w': 775, 'resize': 'fit'},\n",
       "     'medium': {'h': 843, 'w': 775, 'resize': 'fit'},\n",
       "     'small': {'h': 680, 'w': 625, 'resize': 'fit'},\n",
       "     'thumb': {'h': 150, 'w': 150, 'resize': 'crop'}},\n",
       "    'original_info': {'height': 843,\n",
       "     'width': 775,\n",
       "     'focus_rects': [{'x': 0, 'y': 0, 'w': 775, 'h': 434},\n",
       "      {'x': 0, 'y': 0, 'w': 775, 'h': 775},\n",
       "      {'x': 0, 'y': 0, 'w': 739, 'h': 843},\n",
       "      {'x': 62, 'y': 0, 'w': 422, 'h': 843},\n",
       "      {'x': 0, 'y': 0, 'w': 775, 'h': 843}]}}]},\n",
       " 'favorite_count': 123,\n",
       " 'favorited': False,\n",
       " 'full_text': 'Optimizing Model Selection for Compound AI Systems\\n\\nBuilding with multiple LLMs to solve complex tasks is becoming more common.\\n\\nIn a compound system, which LLM do you select for each call?\\n\\nResearchers from Microsoft Research and collaborators introduce LLMSelector, a framework https://t.co/uCjUp1JVSe',\n",
       " 'is_quote_status': False,\n",
       " 'lang': 'en',\n",
       " 'possibly_sensitive': False,\n",
       " 'possibly_sensitive_editable': True,\n",
       " 'quote_count': 4,\n",
       " 'reply_count': 2,\n",
       " 'retweet_count': 26,\n",
       " 'retweeted': False,\n",
       " 'user_id_str': '3448284313',\n",
       " 'id_str': '1892945381174210933'}"
      ]
     },
     "execution_count": 45,
     "metadata": {},
     "output_type": "execute_result"
    }
   ],
   "source": [
    "tweet.__dict__['_legacy']['created_at']"
   ]
  },
  {
   "cell_type": "code",
   "execution_count": null,
   "metadata": {},
   "outputs": [],
   "source": [
    "['core']['user_results']['result'].keys()"
   ]
  },
  {
   "cell_type": "code",
   "execution_count": 46,
   "metadata": {},
   "outputs": [
    {
     "name": "stdout",
     "output_type": "stream",
     "text": [
      "RT @omarsar0: This is extremely handy!\n",
      "\n",
      "Chat with any AI with this all-in-one CLI tool.\n",
      "\n",
      "The CMD mode works really well. \n",
      "\n",
      "Supports differe… Sun Feb 23 16:44:13 +0000 2025\n",
      "RT @dair_ai: Here are the top AI Papers of the Week (Feb 10-16):   \n",
      "\n",
      "- AI Co-Scientist\n",
      "- Open-Reasoner-Zero\n",
      "- The AI CUDA Engineer\n",
      "- Native… Sun Feb 23 16:24:56 +0000 2025\n",
      "RT @omarsar0: openai's deep research always asks for clarification\n",
      "\n",
      "it's a really important feature\n",
      "\n",
      "ai coding agents like windsurf and cur… Sun Feb 23 03:41:51 +0000 2025\n",
      "This is extremely handy!\n",
      "\n",
      "Chat with any AI with this all-in-one CLI tool.\n",
      "\n",
      "The CMD mode works really well. \n",
      "\n",
      "Supports different models, modes, input types, session handling, RAG use cases, function calling, and more. https://t.co/OUNIa9j6ry Sat Feb 22 21:23:35 +0000 2025\n",
      "@windsurf_ai any thoughts? Sat Feb 22 20:40:56 +0000 2025\n",
      "openai's deep research always asks for clarification\n",
      "\n",
      "it's a really important feature\n",
      "\n",
      "ai coding agents like windsurf and cursor can also benefit from that capability\n",
      "\n",
      "current hack:  .*rules file to coerce the model to prompt for clarifications if it needs it Sat Feb 22 20:17:01 +0000 2025\n",
      "RT @dair_ai: Another great paper on reasoning efficiency!\n",
      "\n",
      "It proposes Inner Thinking Transformer (ITT), a novel method that enhances reaso… Sat Feb 22 14:35:15 +0000 2025\n",
      "RT @omarsar0: Introduction to CUDA Programming for Python Developers\n",
      "\n",
      "(link in comments) https://t.co/Jb0Sy72fdV Sat Feb 22 00:22:06 +0000 2025\n",
      "RT @dair_ai: The Danger of Overthinking\n",
      "\n",
      "There have been a few papers that look at overthinking in large reasoning models (LRMs).\n",
      "\n",
      "This one… Fri Feb 21 21:43:42 +0000 2025\n",
      "been using the updated gpt-4o like crazy\n",
      "\n",
      "it's so good that i switched back to chatgpt as my default model\n",
      "\n",
      "summaries are a lot cleaner, to the point, and easier to customize\n",
      "\n",
      "i paired it with projects + files and its outputs are the highest quality of any model i use today Fri Feb 21 21:15:55 +0000 2025\n",
      "RT @rosstaylor90: 🎉  Excited to release General Reasoning: a new community resource for building open reasoning models. \n",
      "\n",
      "We’re looking to… Fri Feb 21 18:26:08 +0000 2025\n",
      "RT @GenReasoning: 🎉 Introducing General Reasoning!\n",
      "\n",
      "A new open-source resource for building large reasoning models.\n",
      "\n",
      "We’ve indexed over 1.5… Fri Feb 21 18:18:06 +0000 2025\n",
      "Optimizing Model Selection for Compound AI Systems\n",
      "\n",
      "Building with multiple LLMs to solve complex tasks is becoming more common.\n",
      "\n",
      "In a compound system, which LLM do you select for each call?\n",
      "\n",
      "Researchers from Microsoft Research and collaborators introduce LLMSelector, a framework https://t.co/uCjUp1JVSe Fri Feb 21 14:32:02 +0000 2025\n"
     ]
    }
   ],
   "source": [
    "for tweet in tweets:\n",
    "    print(tweet.text, tweet.__dict__['_legacy']['created_at'])"
   ]
  },
  {
   "cell_type": "code",
   "execution_count": null,
   "metadata": {},
   "outputs": [
    {
     "name": "stdout",
     "output_type": "stream",
     "text": [
      "2025-02-24 16:45:28,956 [\u001b[0;32mINFO\u001b[0m] :: HTTP Request: GET https://x.com/i/api/graphql/QWF3SzpHmykQHsQMixG0cg/UserTweets?variables=%7B%22userId%22%3A+%223448284313%22%2C+%22count%22%3A+40%2C+%22includePromotedContent%22%3A+true%2C+%22withQuickPromoteEligibilityTweetFields%22%3A+true%2C+%22withVoice%22%3A+true%2C+%22withV2Timeline%22%3A+true%7D&features=%7B%22creator_subscriptions_tweet_preview_api_enabled%22%3A+true%2C+%22c9s_tweet_anatomy_moderator_badge_enabled%22%3A+true%2C+%22tweetypie_unmention_optimization_enabled%22%3A+true%2C+%22responsive_web_edit_tweet_api_enabled%22%3A+true%2C+%22graphql_is_translatable_rweb_tweet_is_translatable_enabled%22%3A+true%2C+%22view_counts_everywhere_api_enabled%22%3A+true%2C+%22longform_notetweets_consumption_enabled%22%3A+true%2C+%22responsive_web_twitter_article_tweet_consumption_enabled%22%3A+true%2C+%22tweet_awards_web_tipping_enabled%22%3A+false%2C+%22longform_notetweets_rich_text_read_enabled%22%3A+true%2C+%22longform_notetweets_inline_media_enabled%22%3A+true%2C+%22rweb_video_timestamps_enabled%22%3A+true%2C+%22responsive_web_graphql_exclude_directive_enabled%22%3A+true%2C+%22verified_phone_label_enabled%22%3A+false%2C+%22freedom_of_speech_not_reach_fetch_enabled%22%3A+true%2C+%22standardized_nudges_misinfo%22%3A+true%2C+%22tweet_with_visibility_results_prefer_gql_limited_actions_policy_enabled%22%3A+true%2C+%22responsive_web_media_download_video_enabled%22%3A+false%2C+%22responsive_web_graphql_skip_user_profile_image_extensions_enabled%22%3A+false%2C+%22responsive_web_graphql_timeline_navigation_enabled%22%3A+true%2C+%22responsive_web_enhance_cards_enabled%22%3A+false%7D \"HTTP/1.1 200 OK\"\n",
      "RT @omarsar0: This is extremely handy!\n",
      "\n",
      "Chat with any AI with this all-in-one CLI tool.\n",
      "\n",
      "The CMD mode works really well. \n",
      "\n",
      "Supports differe…\n",
      "RT @dair_ai: Here are the top AI Papers of the Week (Feb 10-16):   \n",
      "\n",
      "- AI Co-Scientist\n",
      "- Open-Reasoner-Zero\n",
      "- The AI CUDA Engineer\n",
      "- Native…\n",
      "RT @omarsar0: openai's deep research always asks for clarification\n",
      "\n",
      "it's a really important feature\n",
      "\n",
      "ai coding agents like windsurf and cur…\n",
      "This is extremely handy!\n",
      "\n",
      "Chat with any AI with this all-in-one CLI tool.\n",
      "\n",
      "The CMD mode works really well. \n",
      "\n",
      "Supports different models, modes, input types, session handling, RAG use cases, function calling, and more. https://t.co/OUNIa9j6ry\n",
      "@windsurf_ai any thoughts?\n",
      "openai's deep research always asks for clarification\n",
      "\n",
      "it's a really important feature\n",
      "\n",
      "ai coding agents like windsurf and cursor can also benefit from that capability\n",
      "\n",
      "current hack:  .*rules file to coerce the model to prompt for clarifications if it needs it\n",
      "RT @dair_ai: Another great paper on reasoning efficiency!\n",
      "\n",
      "It proposes Inner Thinking Transformer (ITT), a novel method that enhances reaso…\n",
      "RT @omarsar0: Introduction to CUDA Programming for Python Developers\n",
      "\n",
      "(link in comments) https://t.co/Jb0Sy72fdV\n",
      "RT @dair_ai: The Danger of Overthinking\n",
      "\n",
      "There have been a few papers that look at overthinking in large reasoning models (LRMs).\n",
      "\n",
      "This one…\n",
      "been using the updated gpt-4o like crazy\n",
      "\n",
      "it's so good that i switched back to chatgpt as my default model\n",
      "\n",
      "summaries are a lot cleaner, to the point, and easier to customize\n",
      "\n",
      "i paired it with projects + files and its outputs are the highest quality of any model i use today\n",
      "RT @rosstaylor90: 🎉  Excited to release General Reasoning: a new community resource for building open reasoning models. \n",
      "\n",
      "We’re looking to…\n",
      "RT @GenReasoning: 🎉 Introducing General Reasoning!\n",
      "\n",
      "A new open-source resource for building large reasoning models.\n",
      "\n",
      "We’ve indexed over 1.5…\n",
      "Optimizing Model Selection for Compound AI Systems\n",
      "\n",
      "Building with multiple LLMs to solve complex tasks is becoming more common.\n",
      "\n",
      "In a compound system, which LLM do you select for each call?\n",
      "\n",
      "Researchers from Microsoft Research and collaborators introduce LLMSelector, a framework https://t.co/uCjUp1JVSe\n"
     ]
    }
   ],
   "source": [
    "tweets = await client.get_user_tweets(user.id, 'Tweets')\n",
    "\n",
    "tweets_info = []\n",
    "for tweet in tweets:\n",
    "    tweets_info.append(tweet)\n",
    "    print(tweet.text, tweet.__dict__['_legacy']['created_at'])"
   ]
  },
  {
   "cell_type": "code",
   "execution_count": 47,
   "metadata": {},
   "outputs": [
    {
     "name": "stdout",
     "output_type": "stream",
     "text": [
      "2025-02-24 16:50:20,973 [\u001b[0;32mINFO\u001b[0m] :: HTTP Request: GET https://x.com/i/api/2/guide.json?count=20&include_page_configuration=true&initial_tab_id=trending \"HTTP/1.1 200 OK\"\n"
     ]
    }
   ],
   "source": [
    "trends = await client.get_trends('trending')"
   ]
  },
  {
   "cell_type": "code",
   "execution_count": 49,
   "metadata": {},
   "outputs": [
    {
     "data": {
      "text/plain": [
       "{'_client': <twikit.client.client.Client at 0x7c677ddc5f90>,\n",
       " 'name': '#NewWingstopTenders',\n",
       " 'tweets_count': 'Promoted by Wingstop',\n",
       " 'domain_context': None,\n",
       " 'grouped_trends': []}"
      ]
     },
     "execution_count": 49,
     "metadata": {},
     "output_type": "execute_result"
    }
   ],
   "source": [
    "trends[0].__dict__"
   ]
  },
  {
   "cell_type": "code",
   "execution_count": 50,
   "metadata": {},
   "outputs": [
    {
     "data": {
      "text/plain": [
       "{'_client': <twikit.client.client.Client at 0x7c677ddc5f90>,\n",
       " 'name': 'Dan Bongino',\n",
       " 'tweets_count': None,\n",
       " 'domain_context': 'Trending',\n",
       " 'grouped_trends': ['Deputy Director of the FBI', 'Kash and Dan']}"
      ]
     },
     "execution_count": 50,
     "metadata": {},
     "output_type": "execute_result"
    }
   ],
   "source": [
    "trends[1].__dict__"
   ]
  },
  {
   "cell_type": "code",
   "execution_count": 48,
   "metadata": {},
   "outputs": [
    {
     "data": {
      "text/plain": [
       "[<Trend name=\"#NewWingstopTenders\">,\n",
       " <Trend name=\"Dan Bongino\">,\n",
       " <Trend name=\"Tommie\">,\n",
       " <Trend name=\"taemin\">,\n",
       " <Trend name=\"#OVERTURE_Daytime\">,\n",
       " <Trend name=\"George Harris\">,\n",
       " <Trend name=\"#TheWhiteLotus\">,\n",
       " <Trend name=\"Congrats Dan\">,\n",
       " <Trend name=\"Sean Perry\">,\n",
       " <Trend name=\"#STARDOM\">,\n",
       " <Trend name=\"Shai\">,\n",
       " <Trend name=\"Jane Fonda\">,\n",
       " <Trend name=\"#SAGAwards\">,\n",
       " <Trend name=\"#Married2Med\">,\n",
       " <Trend name=\"Chet\">,\n",
       " <Trend name=\"Timmy\">,\n",
       " <Trend name=\"Quad\">,\n",
       " <Trend name=\"Secret Service\">,\n",
       " <Trend name=\"Xenofobia\">,\n",
       " <Trend name=\"Cutesy\">,\n",
       " <Trend name=\"Jaylen Clark\">,\n",
       " <Trend name=\"Hartenstein\">,\n",
       " <Trend name=\"Carville\">,\n",
       " <Trend name=\"Traditionally\">,\n",
       " <Trend name=\"Fusion Ken\">,\n",
       " <Trend name=\"Ty Jerome\">,\n",
       " <Trend name=\"Naz Reid\">,\n",
       " <Trend name=\"Emilia Perez\">,\n",
       " <Trend name=\"Megyn\">,\n",
       " <Trend name=\"Venezolano\">]"
      ]
     },
     "execution_count": 48,
     "metadata": {},
     "output_type": "execute_result"
    }
   ],
   "source": [
    "trends"
   ]
  },
  {
   "cell_type": "code",
   "execution_count": null,
   "metadata": {},
   "outputs": [],
   "source": [
    "Retrieves the timeline. Retrieves tweets from Home -> For You.\n",
    "tweets = await client.get_timeline()\n",
    "for tweet in tweets:\n",
    "    print(tweet)\n",
    "<Tweet id=\"...\">\n",
    "<Tweet id=\"...\">\n",
    "...\n",
    "...\n",
    "more_tweets = await tweets.next() # Retrieve more tweets\n",
    "for tweet in more_tweets:\n",
    "    print(tweet)\n",
    "<Tweet id=\"...\">\n",
    "<Tweet id=\"...\">"
   ]
  },
  {
   "cell_type": "code",
   "execution_count": null,
   "metadata": {},
   "outputs": [],
   "source": [
    "Retrieves the timeline. Retrieves tweets from Home -> Following.\n",
    "tweets = await client.get_latest_timeline()\n",
    "for tweet in tweets:\n",
    "    print(tweet)\n",
    "<Tweet id=\"...\">\n",
    "<Tweet id=\"...\">\n",
    "...\n",
    "...\n",
    "more_tweets = await tweets.next() # Retrieve more tweets\n",
    "for tweet in more_tweets:\n",
    "    print(tweet)\n",
    "<Tweet id=\"...\">\n",
    "<Tweet id=\"...\">\n",
    "...\n",
    "..."
   ]
  },
  {
   "cell_type": "code",
   "execution_count": null,
   "metadata": {},
   "outputs": [],
   "source": []
  },
  {
   "cell_type": "code",
   "execution_count": null,
   "metadata": {},
   "outputs": [],
   "source": [
    "import asyncio\n",
    "from crawl4ai import *\n",
    "\n",
    "async def main():\n",
    "    async with AsyncWebCrawler() as crawler:\n",
    "        result = await crawler.arun(\n",
    "            url=\"https://xcancel.com/omarsar0\",\n",
    "        )\n",
    "        print(result.markdown)\n",
    "\n",
    "if __name__ == \"__main__\":\n",
    "    asyncio.run(main())"
   ]
  },
  {
   "cell_type": "code",
   "execution_count": null,
   "metadata": {},
   "outputs": [],
   "source": [
    "export X_USERNAME='ai4fun2004'\n",
    "export X_PASSWORD='ai4fun_test'\n",
    "export X_EMAIL='ai4fun2004@gmail.com'\n"
   ]
  },
  {
   "cell_type": "code",
   "execution_count": null,
   "metadata": {},
   "outputs": [],
   "source": []
  },
  {
   "cell_type": "code",
   "execution_count": null,
   "metadata": {},
   "outputs": [],
   "source": []
  },
  {
   "cell_type": "code",
   "execution_count": null,
   "metadata": {},
   "outputs": [],
   "source": [
    "user.id"
   ]
  },
  {
   "cell_type": "code",
   "execution_count": null,
   "metadata": {},
   "outputs": [],
   "source": [
    "tweets = await client.get_user_tweets(user.id, 'Tweets')\n",
    "\n",
    "tweets_info = []\n",
    "for tweet in tweets:\n",
    "    tweets_info.append(tweet)\n",
    "    print(tweet.text)"
   ]
  },
  {
   "cell_type": "code",
   "execution_count": null,
   "metadata": {},
   "outputs": [],
   "source": [
    "len(tweets_info)"
   ]
  },
  {
   "cell_type": "code",
   "execution_count": null,
   "metadata": {},
   "outputs": [],
   "source": [
    "tweets_info[0]"
   ]
  },
  {
   "cell_type": "code",
   "execution_count": null,
   "metadata": {},
   "outputs": [],
   "source": [
    "help(tweets_info[0])"
   ]
  },
  {
   "cell_type": "code",
   "execution_count": null,
   "metadata": {},
   "outputs": [],
   "source": []
  }
 ],
 "metadata": {
  "kernelspec": {
   "display_name": "ai4fun",
   "language": "python",
   "name": "python3"
  },
  "language_info": {
   "codemirror_mode": {
    "name": "ipython",
    "version": 3
   },
   "file_extension": ".py",
   "mimetype": "text/x-python",
   "name": "python",
   "nbconvert_exporter": "python",
   "pygments_lexer": "ipython3",
   "version": "3.10.16"
  }
 },
 "nbformat": 4,
 "nbformat_minor": 2
}
